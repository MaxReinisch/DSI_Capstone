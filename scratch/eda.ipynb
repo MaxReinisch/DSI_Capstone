{
 "cells": [
  {
   "cell_type": "code",
   "execution_count": 1,
   "metadata": {},
   "outputs": [],
   "source": [
    "import csv\n",
    "import matplotlib.pyplot as plt\n",
    "import seaborn as sns\n",
    "import pandas as pd\n",
    "import numpy as np\n",
    "\n",
    "%matplotlib inline"
   ]
  },
  {
   "cell_type": "code",
   "execution_count": 2,
   "metadata": {},
   "outputs": [],
   "source": [
    "reviews = pd.read_csv('reviews.csv')"
   ]
  },
  {
   "cell_type": "code",
   "execution_count": 3,
   "metadata": {},
   "outputs": [],
   "source": [
    "games = pd.read_csv('ps4.csv')"
   ]
  },
  {
   "cell_type": "code",
   "execution_count": 4,
   "metadata": {},
   "outputs": [
    {
     "data": {
      "text/plain": [
       "(1585, 13)"
      ]
     },
     "execution_count": 4,
     "metadata": {},
     "output_type": "execute_result"
    }
   ],
   "source": [
    "games.shape"
   ]
  },
  {
   "cell_type": "code",
   "execution_count": 6,
   "metadata": {},
   "outputs": [
    {
     "data": {
      "text/plain": [
       "Index(['title', 'page', 'critic_score', 'user_score', 'GID', 'publisher',\n",
       "       'release_date', 'summary', 'rating', 'developer', 'genres', 'online',\n",
       "       'num_credits'],\n",
       "      dtype='object')"
      ]
     },
     "execution_count": 6,
     "metadata": {},
     "output_type": "execute_result"
    }
   ],
   "source": [
    "games.columns"
   ]
  },
  {
   "cell_type": "code",
   "execution_count": 5,
   "metadata": {},
   "outputs": [
    {
     "data": {
      "text/plain": [
       "title            object\n",
       "page             object\n",
       "critic_score      int64\n",
       "user_score       object\n",
       "GID               int64\n",
       "publisher        object\n",
       "release_date     object\n",
       "summary          object\n",
       "rating           object\n",
       "developer        object\n",
       "genres           object\n",
       "online          float64\n",
       "num_credits     float64\n",
       "dtype: object"
      ]
     },
     "execution_count": 5,
     "metadata": {},
     "output_type": "execute_result"
    }
   ],
   "source": [
    "games.dtypes"
   ]
  },
  {
   "cell_type": "code",
   "execution_count": 14,
   "metadata": {},
   "outputs": [
    {
     "data": {
      "text/plain": [
       "147"
      ]
     },
     "execution_count": 14,
     "metadata": {},
     "output_type": "execute_result"
    }
   ],
   "source": [
    "# Can't convert score to float without dropping tbd\n",
    "(games.user_score =='tbd').sum()"
   ]
  },
  {
   "cell_type": "code",
   "execution_count": 13,
   "metadata": {},
   "outputs": [
    {
     "data": {
      "text/plain": [
       "title              0\n",
       "page               0\n",
       "critic_score       0\n",
       "user_score         0\n",
       "GID                0\n",
       "publisher        558\n",
       "release_date     558\n",
       "summary          575\n",
       "rating           596\n",
       "developer        559\n",
       "genres           558\n",
       "online          1141\n",
       "num_credits     1416\n",
       "dtype: int64"
      ]
     },
     "execution_count": 13,
     "metadata": {},
     "output_type": "execute_result"
    }
   ],
   "source": [
    "games.isnull().sum()"
   ]
  },
  {
   "cell_type": "code",
   "execution_count": 15,
   "metadata": {},
   "outputs": [
    {
     "data": {
      "text/plain": [
       "T       331\n",
       "M       277\n",
       "E10+    205\n",
       "E       176\n",
       "Name: rating, dtype: int64"
      ]
     },
     "execution_count": 15,
     "metadata": {},
     "output_type": "execute_result"
    }
   ],
   "source": [
    "games.rating.value_counts()"
   ]
  },
  {
   "cell_type": "code",
   "execution_count": 18,
   "metadata": {},
   "outputs": [
    {
     "data": {
      "text/plain": [
       "<matplotlib.axes._subplots.AxesSubplot at 0x7fea93696470>"
      ]
     },
     "execution_count": 18,
     "metadata": {},
     "output_type": "execute_result"
    },
    {
     "data": {
      "image/png": "[encoded data removed]",
      "text/plain": [
       "<matplotlib.figure.Figure at 0x7fea93d80a90>"
      ]
     },
     "metadata": {},
     "output_type": "display_data"
    }
   ],
   "source": [
    "# The rating system goes E, E10+, T, M.\n",
    "# There is a slight trend here\n",
    "sns.boxplot(x = 'critic_score', y = 'rating', data = games)"
   ]
  },
  {
   "cell_type": "code",
   "execution_count": 55,
   "metadata": {},
   "outputs": [
    {
     "data": {
      "text/plain": [
       "74"
      ]
     },
     "execution_count": 55,
     "metadata": {},
     "output_type": "execute_result"
    }
   ],
   "source": [
    "len(games.critic_score.unique())"
   ]
  },
  {
   "cell_type": "code",
   "execution_count": 56,
   "metadata": {},
   "outputs": [
    {
     "data": {
      "text/plain": [
       "82"
      ]
     },
     "execution_count": 56,
     "metadata": {},
     "output_type": "execute_result"
    }
   ],
   "source": [
    "len(games.user_score.unique())"
   ]
  },
  {
   "cell_type": "code",
   "execution_count": 19,
   "metadata": {},
   "outputs": [
    {
     "data": {
      "image/png": "[encoded data removed]",
      "text/plain": [
       "<matplotlib.figure.Figure at 0x7fea93f39ba8>"
      ]
     },
     "metadata": {},
     "output_type": "display_data"
    }
   ],
   "source": [
    "#plt.subplot(211)\n",
    "plt.hist(games.critic_score, bins = 74)\n",
    "plt.title(\"Critic's Rating Distribution\");\n",
    "# plt.subplot(212) # Can't do this until I get rid of 'tbd'\n",
    "# plt.hist(games.user_score, bins=82)\n",
    "# plt.title(\"User's Rating Distribution\");"
   ]
  },
  {
   "cell_type": "code",
   "execution_count": 58,
   "metadata": {},
   "outputs": [
    {
     "data": {
      "text/plain": [
       "(58091, 5)"
      ]
     },
     "execution_count": 58,
     "metadata": {},
     "output_type": "execute_result"
    }
   ],
   "source": [
    "reviews.shape"
   ]
  },
  {
   "cell_type": "code",
   "execution_count": 59,
   "metadata": {},
   "outputs": [
    {
     "data": {
      "text/plain": [
       "author    object\n",
       "date      object\n",
       "score      int64\n",
       "blurb     object\n",
       "GID        int64\n",
       "dtype: object"
      ]
     },
     "execution_count": 59,
     "metadata": {},
     "output_type": "execute_result"
    }
   ],
   "source": [
    "reviews.dtypes"
   ]
  },
  {
   "cell_type": "code",
   "execution_count": 61,
   "metadata": {},
   "outputs": [
    {
     "data": {
      "text/plain": [
       "1307"
      ]
     },
     "execution_count": 61,
     "metadata": {},
     "output_type": "execute_result"
    }
   ],
   "source": [
    "len(reviews.GID.unique())"
   ]
  },
  {
   "cell_type": "code",
   "execution_count": 68,
   "metadata": {},
   "outputs": [
    {
     "data": {
      "text/plain": [
       "997     2292\n",
       "2       1883\n",
       "484     1820\n",
       "6       1661\n",
       "8       1425\n",
       "871     1318\n",
       "32      1166\n",
       "10      1065\n",
       "862      957\n",
       "1        923\n",
       "1224     883\n",
       "254      848\n",
       "5        779\n",
       "275      773\n",
       "723      739\n",
       "304      654\n",
       "308      610\n",
       "4        600\n",
       "103      581\n",
       "269      566\n",
       "916      539\n",
       "674      496\n",
       "37       470\n",
       "0        455\n",
       "386      438\n",
       "438      428\n",
       "30       427\n",
       "337      418\n",
       "837      404\n",
       "169      393\n",
       "        ... \n",
       "1207       1\n",
       "1251       1\n",
       "1011       1\n",
       "1347       1\n",
       "530        1\n",
       "433        1\n",
       "465        1\n",
       "964        1\n",
       "900        1\n",
       "1297       1\n",
       "1329       1\n",
       "612        1\n",
       "580        1\n",
       "516        1\n",
       "466        1\n",
       "452        1\n",
       "626        1\n",
       "755        1\n",
       "324        1\n",
       "260        1\n",
       "196        1\n",
       "850        1\n",
       "946        1\n",
       "1138       1\n",
       "1234       1\n",
       "1539       1\n",
       "531        1\n",
       "1443       1\n",
       "659        1\n",
       "1519       1\n",
       "Name: GID, dtype: int64"
      ]
     },
     "execution_count": 68,
     "metadata": {},
     "output_type": "execute_result"
    }
   ],
   "source": [
    " reviews.GID.value_counts()"
   ]
  },
  {
   "cell_type": "code",
   "execution_count": 27,
   "metadata": {},
   "outputs": [],
   "source": [
    "games = games.join(reviews.groupby('GID').author.count(), on='GID')\n"
   ]
  },
  {
   "cell_type": "code",
   "execution_count": 25,
   "metadata": {},
   "outputs": [],
   "source": [
    "games.rename(columns={'author': 'num_reviews'}, inplace=True)"
   ]
  },
  {
   "cell_type": "code",
   "execution_count": 26,
   "metadata": {},
   "outputs": [
    {
     "data": {
      "text/html": [
       "<div>\n",
       "<table border=\"1\" class=\"dataframe\">\n",
       "  <thead>\n",
       "    <tr style=\"text-align: right;\">\n",
       "      <th></th>\n",
       "      <th>title</th>\n",
       "      <th>page</th>\n",
       "      <th>critic_score</th>\n",
       "      <th>user_score</th>\n",
       "      <th>GID</th>\n",
       "      <th>publisher</th>\n",
       "      <th>release_date</th>\n",
       "      <th>summary</th>\n",
       "      <th>rating</th>\n",
       "      <th>developer</th>\n",
       "      <th>genres</th>\n",
       "      <th>online</th>\n",
       "      <th>num_credits</th>\n",
       "      <th>num_reviews</th>\n",
       "    </tr>\n",
       "  </thead>\n",
       "  <tbody>\n",
       "    <tr>\n",
       "      <th>0</th>\n",
       "      <td>Grand Theft Auto V</td>\n",
       "      <td>/game/playstation-4/grand-theft-auto-v</td>\n",
       "      <td>97</td>\n",
       "      <td>8.3</td>\n",
       "      <td>0</td>\n",
       "      <td>Rockstar Games</td>\n",
       "      <td>Nov 18, 2014</td>\n",
       "      <td>The sprawling sun-soaked metropolis of Los San...</td>\n",
       "      <td>M</td>\n",
       "      <td>Rockstar North</td>\n",
       "      <td>Action Adventure,Modern,Open-World</td>\n",
       "      <td>0.0</td>\n",
       "      <td>16.0</td>\n",
       "      <td>455.0</td>\n",
       "    </tr>\n",
       "    <tr>\n",
       "      <th>1</th>\n",
       "      <td>The Last of Us Remastered</td>\n",
       "      <td>/game/playstation-4/the-last-of-us-remastered</td>\n",
       "      <td>95</td>\n",
       "      <td>9.1</td>\n",
       "      <td>1</td>\n",
       "      <td>SCEA</td>\n",
       "      <td>Jul 29, 2014</td>\n",
       "      <td>The Last of Us has been rebuilt for the PlaySt...</td>\n",
       "      <td>M</td>\n",
       "      <td>Naughty Dog</td>\n",
       "      <td>Action Adventure,General,Modern</td>\n",
       "      <td>0.0</td>\n",
       "      <td>24.0</td>\n",
       "      <td>923.0</td>\n",
       "    </tr>\n",
       "    <tr>\n",
       "      <th>2</th>\n",
       "      <td>God of War</td>\n",
       "      <td>/game/playstation-4/god-of-war</td>\n",
       "      <td>94</td>\n",
       "      <td>9.2</td>\n",
       "      <td>2</td>\n",
       "      <td>Sony Interactive Entertainment</td>\n",
       "      <td>Apr 20, 2018</td>\n",
       "      <td>His vengeance against the gods of Olympus far ...</td>\n",
       "      <td>M</td>\n",
       "      <td>SCE Santa Monica</td>\n",
       "      <td>Action Adventure,Linear</td>\n",
       "      <td>1.0</td>\n",
       "      <td>4.0</td>\n",
       "      <td>1883.0</td>\n",
       "    </tr>\n",
       "    <tr>\n",
       "      <th>3</th>\n",
       "      <td>XCOM 2: War of the Chosen</td>\n",
       "      <td>/game/playstation-4/xcom-2-war-of-the-chosen</td>\n",
       "      <td>94</td>\n",
       "      <td>6.2</td>\n",
       "      <td>3</td>\n",
       "      <td>2K Games</td>\n",
       "      <td>Aug 29, 2017</td>\n",
       "      <td>XCOM 2: War of the Chosen adds extensive new c...</td>\n",
       "      <td>T</td>\n",
       "      <td>Firaxis Games</td>\n",
       "      <td>Strategy,Turn-Based,Tactics</td>\n",
       "      <td>NaN</td>\n",
       "      <td>NaN</td>\n",
       "      <td>17.0</td>\n",
       "    </tr>\n",
       "    <tr>\n",
       "      <th>4</th>\n",
       "      <td>Persona 5</td>\n",
       "      <td>/game/playstation-4/persona-5</td>\n",
       "      <td>93</td>\n",
       "      <td>9.1</td>\n",
       "      <td>4</td>\n",
       "      <td>Atlus</td>\n",
       "      <td>Apr  4, 2017</td>\n",
       "      <td>Beneath the veneer of typical urban high schoo...</td>\n",
       "      <td>M</td>\n",
       "      <td>Atlus</td>\n",
       "      <td>Role-Playing,Japanese-Style</td>\n",
       "      <td>1.0</td>\n",
       "      <td>84.0</td>\n",
       "      <td>600.0</td>\n",
       "    </tr>\n",
       "  </tbody>\n",
       "</table>\n",
       "</div>"
      ],
      "text/plain": [
       "                       title                                           page  \\\n",
       "0         Grand Theft Auto V         /game/playstation-4/grand-theft-auto-v   \n",
       "1  The Last of Us Remastered  /game/playstation-4/the-last-of-us-remastered   \n",
       "2                 God of War                 /game/playstation-4/god-of-war   \n",
       "3  XCOM 2: War of the Chosen   /game/playstation-4/xcom-2-war-of-the-chosen   \n",
       "4                  Persona 5                  /game/playstation-4/persona-5   \n",
       "\n",
       "   critic_score user_score  GID                       publisher  release_date  \\\n",
       "0            97        8.3    0                  Rockstar Games  Nov 18, 2014   \n",
       "1            95        9.1    1                            SCEA  Jul 29, 2014   \n",
       "2            94        9.2    2  Sony Interactive Entertainment  Apr 20, 2018   \n",
       "3            94        6.2    3                        2K Games  Aug 29, 2017   \n",
       "4            93        9.1    4                           Atlus  Apr  4, 2017   \n",
       "\n",
       "                                             summary rating         developer  \\\n",
       "0  The sprawling sun-soaked metropolis of Los San...      M    Rockstar North   \n",
       "1  The Last of Us has been rebuilt for the PlaySt...      M       Naughty Dog   \n",
       "2  His vengeance against the gods of Olympus far ...      M  SCE Santa Monica   \n",
       "3  XCOM 2: War of the Chosen adds extensive new c...      T     Firaxis Games   \n",
       "4  Beneath the veneer of typical urban high schoo...      M             Atlus   \n",
       "\n",
       "                               genres  online  num_credits  num_reviews  \n",
       "0  Action Adventure,Modern,Open-World     0.0         16.0        455.0  \n",
       "1     Action Adventure,General,Modern     0.0         24.0        923.0  \n",
       "2             Action Adventure,Linear     1.0          4.0       1883.0  \n",
       "3         Strategy,Turn-Based,Tactics     NaN          NaN         17.0  \n",
       "4         Role-Playing,Japanese-Style     1.0         84.0        600.0  "
      ]
     },
     "execution_count": 26,
     "metadata": {},
     "output_type": "execute_result"
    }
   ],
   "source": [
    "games.head()"
   ]
  },
  {
   "cell_type": "code",
   "execution_count": 48,
   "metadata": {
    "scrolled": true
   },
   "outputs": [
    {
     "data": {
      "text/plain": [
       "<Container object of 1585 artists>"
      ]
     },
     "execution_count": 48,
     "metadata": {},
     "output_type": "execute_result"
    },
    {
     "data": {
      "image/png": "[encoded data removed]",
      "text/plain": [
       "<matplotlib.figure.Figure at 0x7fea892abcc0>"
      ]
     },
     "metadata": {},
     "output_type": "display_data"
    }
   ],
   "source": [
    "x = [i for i in range(games.shape[0])]\n",
    "plt.bar(x, height=games.sort_values(by='num_reviews', ascending=False).num_reviews, width=1)\n"
   ]
  },
  {
   "cell_type": "code",
   "execution_count": 44,
   "metadata": {},
   "outputs": [
    {
     "data": {
      "text/plain": [
       "<matplotlib.axes._subplots.AxesSubplot at 0x7fea893fe198>"
      ]
     },
     "execution_count": 44,
     "metadata": {},
     "output_type": "execute_result"
    },
    {
     "data": {
      "image/png": "[encoded data removed]",
      "text/plain": [
       "<matplotlib.figure.Figure at 0x7fea893ce898>"
      ]
     },
     "metadata": {},
     "output_type": "display_data"
    }
   ],
   "source": [
    "sns.heatmap(games.drop('GID', 1).corr(), annot=True)"
   ]
  },
  {
   "cell_type": "code",
   "execution_count": 58,
   "metadata": {},
   "outputs": [
    {
     "data": {
      "text/plain": [
       "54      7.1\n",
       "55      8.0\n",
       "56      7.8\n",
       "57      8.4\n",
       "58      7.0\n",
       "59      6.3\n",
       "60      7.6\n",
       "61      7.2\n",
       "62      8.2\n",
       "63      8.3\n",
       "64      8.0\n",
       "65      6.7\n",
       "66      6.6\n",
       "67      8.6\n",
       "68      8.1\n",
       "69      7.8\n",
       "70      6.9\n",
       "71      7.8\n",
       "72      5.4\n",
       "73      7.1\n",
       "74      8.3\n",
       "75      8.4\n",
       "76      7.5\n",
       "77      8.6\n",
       "78      7.8\n",
       "79      7.6\n",
       "80      6.7\n",
       "81      6.1\n",
       "82      6.2\n",
       "83      8.0\n",
       "       ... \n",
       "1382    4.4\n",
       "1386    1.5\n",
       "1390    tbd\n",
       "1398    tbd\n",
       "1401    tbd\n",
       "1405    4.9\n",
       "1410    tbd\n",
       "1420    tbd\n",
       "1424    tbd\n",
       "1432    5.3\n",
       "1436    tbd\n",
       "1441    tbd\n",
       "1442    tbd\n",
       "1444    4.6\n",
       "1459    tbd\n",
       "1469    6.7\n",
       "1481    tbd\n",
       "1484    6.4\n",
       "1488    5.2\n",
       "1489    tbd\n",
       "1490    tbd\n",
       "1500    5.4\n",
       "1512    4.8\n",
       "1516    tbd\n",
       "1524    tbd\n",
       "1526    tbd\n",
       "1535    7.1\n",
       "1542    7.0\n",
       "1557    2.1\n",
       "1577    2.1\n",
       "Name: user_score, dtype: object"
      ]
     },
     "execution_count": 58,
     "metadata": {},
     "output_type": "execute_result"
    }
   ],
   "source": [
    "games[games.num_reviews.isnull()].user_score"
   ]
  },
  {
   "cell_type": "code",
   "execution_count": 98,
   "metadata": {},
   "outputs": [],
   "source": [
    "high_review_count = reviews.groupby('author').count()[reviews.groupby('author').GID.count() > 4].index"
   ]
  },
  {
   "cell_type": "code",
   "execution_count": 107,
   "metadata": {},
   "outputs": [
    {
     "data": {
      "text/plain": [
       "875"
      ]
     },
     "execution_count": 107,
     "metadata": {},
     "output_type": "execute_result"
    }
   ],
   "source": [
    "(reviews[reviews.author.isin(high_review_count)].GID.value_counts()>1).sum()"
   ]
  },
  {
   "cell_type": "code",
   "execution_count": 101,
   "metadata": {},
   "outputs": [
    {
     "data": {
      "text/plain": [
       "Index(['title', 'page', 'critic_score', 'user_score', 'GID', 'publisher',\n",
       "       'release_date', 'summary', 'rating', 'developer', 'genres', 'online',\n",
       "       'num_credits', 'num_reviews'],\n",
       "      dtype='object')"
      ]
     },
     "execution_count": 101,
     "metadata": {},
     "output_type": "execute_result"
    }
   ],
   "source": [
    "games.columns\n"
   ]
  },
  {
   "cell_type": "code",
   "execution_count": null,
   "metadata": {},
   "outputs": [],
   "source": []
  }
 ],
 "metadata": {
  "kernelspec": {
   "display_name": "Python 3",
   "language": "python",
   "name": "python3"
  },
  "language_info": {
   "codemirror_mode": {
    "name": "ipython",
    "version": 3
   },
   "file_extension": ".py",
   "mimetype": "text/x-python",
   "name": "python",
   "nbconvert_exporter": "python",
   "pygments_lexer": "ipython3",
   "version": "3.6.2"
  }
 },
 "nbformat": 4,
 "nbformat_minor": 2
}
