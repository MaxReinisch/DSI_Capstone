{
 "cells": [
  {
   "cell_type": "markdown",
   "metadata": {},
   "source": [
    "# Exploratory Data Analysis on Playstation Game Metadata\n",
    "\n"
   ]
  },
  {
   "cell_type": "code",
   "execution_count": 1,
   "metadata": {},
   "outputs": [],
   "source": [
    "import pandas as pd\n",
    "from sklearn.feature_extraction.text import CountVectorizer\n",
    "from sklearn.decomposition import TruncatedSVD\n",
    "from sklearn.metrics.pairwise import pairwise_distances, cosine_distances\n",
    "from sklearn.feature_selection.variance_threshold import VarianceThreshold\n",
    "from scipy import sparse\n",
    "import numpy as np\n",
    "import matplotlib.pyplot as plt\n",
    "import seaborn as sns\n",
    "import json\n",
    "import csv\n",
    "from collections import Counter"
   ]
  },
  {
   "cell_type": "markdown",
   "metadata": {},
   "source": [
    "# Content: \n",
    "\n",
    "Import Game Meta Data"
   ]
  },
  {
   "cell_type": "code",
   "execution_count": 2,
   "metadata": {},
   "outputs": [],
   "source": [
    "from os import listdir\n",
    "from os.path import isfile, join\n",
    "onlyfiles = [f for f in listdir('./GB_API_Scrape//game_meta_data/') if isfile(join('./GB_API_Scrape//game_meta_data/', f))] #get list of files\n",
    "list_of_meta = [] # fill this list with dictionaries \n",
    "feature_list = ['guid', 'name', 'concepts', 'themes', 'deck', 'developers', 'publishers', 'genres'] #list of features I care about\n",
    "for file in onlyfiles:\n",
    "    #looping through files, open them, put their contents into a dict, and add it to the list\n",
    "    with open(f'./GB_API_Scrape//game_meta_data/{file}', 'r') as f:\n",
    "        game = json.load(f)\n",
    "        game_dict = {key:value for key, value in game.items() if key in feature_list}\n",
    "\n",
    "        # convert lists to strings \n",
    "        for key, value in game_dict.items():\n",
    "            if type(value) == list:\n",
    "                game_dict[key] = ', '.join(value)\n",
    "        list_of_meta.append(game_dict)\n",
    "# make pandas dataframe\n",
    "df = pd.DataFrame(list_of_meta)\n",
    "df.fillna(\"\", inplace=True)"
   ]
  },
  {
   "cell_type": "markdown",
   "metadata": {},
   "source": [
    "## Here we have the raw data frame.  We need to:\n",
    "* Dummy the columns \n",
    "* Drop features that are too sparse\n",
    "* Drop games that have too few features"
   ]
  },
  {
   "cell_type": "code",
   "execution_count": 3,
   "metadata": {},
   "outputs": [
    {
     "data": {
      "text/html": [
       "<div>\n",
       "<table border=\"1\" class=\"dataframe\">\n",
       "  <thead>\n",
       "    <tr style=\"text-align: right;\">\n",
       "      <th></th>\n",
       "      <th>concepts</th>\n",
       "      <th>deck</th>\n",
       "      <th>developers</th>\n",
       "      <th>genres</th>\n",
       "      <th>guid</th>\n",
       "      <th>name</th>\n",
       "      <th>publishers</th>\n",
       "      <th>themes</th>\n",
       "    </tr>\n",
       "  </thead>\n",
       "  <tbody>\n",
       "    <tr>\n",
       "      <th>0</th>\n",
       "      <td>Achievements, PlayStation Trophies, Steam, Dig...</td>\n",
       "      <td>Kill The Bad Guy is a puzzle-game where physic...</td>\n",
       "      <td>Exkee</td>\n",
       "      <td>Strategy, Simulation</td>\n",
       "      <td>3030-46539</td>\n",
       "      <td>Kill the Bad Guy</td>\n",
       "      <td></td>\n",
       "      <td></td>\n",
       "    </tr>\n",
       "    <tr>\n",
       "      <th>1</th>\n",
       "      <td></td>\n",
       "      <td>Zeal is an indie online ARPG developed by Lyca...</td>\n",
       "      <td>Lycanic Studios</td>\n",
       "      <td>Action, Role-Playing, MOBA</td>\n",
       "      <td>3030-68714</td>\n",
       "      <td>Zeal</td>\n",
       "      <td></td>\n",
       "      <td>Fantasy, Medieval</td>\n",
       "    </tr>\n",
       "    <tr>\n",
       "      <th>2</th>\n",
       "      <td></td>\n",
       "      <td>Vertical Drop Heroes HD is an action platformer.</td>\n",
       "      <td>Nerdook Productions</td>\n",
       "      <td>Action, Role-Playing, Platformer</td>\n",
       "      <td>3030-48249</td>\n",
       "      <td>Vertical Drop Heroes HD</td>\n",
       "      <td></td>\n",
       "      <td>Fantasy</td>\n",
       "    </tr>\n",
       "    <tr>\n",
       "      <th>3</th>\n",
       "      <td>Unreal Engine 4, PlayStation VR Support</td>\n",
       "      <td>A puzzle mystery game for PS VR.</td>\n",
       "      <td>Tarsier Studios</td>\n",
       "      <td>Puzzle</td>\n",
       "      <td>3030-57976</td>\n",
       "      <td>Statik</td>\n",
       "      <td></td>\n",
       "      <td></td>\n",
       "    </tr>\n",
       "    <tr>\n",
       "      <th>4</th>\n",
       "      <td></td>\n",
       "      <td>A compilation of all three Banner Saga titles.</td>\n",
       "      <td>Stoic</td>\n",
       "      <td>Strategy, Role-Playing, Compilation</td>\n",
       "      <td>3030-68731</td>\n",
       "      <td>The Banner Saga Trilogy</td>\n",
       "      <td></td>\n",
       "      <td>Fantasy</td>\n",
       "    </tr>\n",
       "  </tbody>\n",
       "</table>\n",
       "</div>"
      ],
      "text/plain": [
       "                                            concepts  \\\n",
       "0  Achievements, PlayStation Trophies, Steam, Dig...   \n",
       "1                                                      \n",
       "2                                                      \n",
       "3            Unreal Engine 4, PlayStation VR Support   \n",
       "4                                                      \n",
       "\n",
       "                                                deck           developers  \\\n",
       "0  Kill The Bad Guy is a puzzle-game where physic...                Exkee   \n",
       "1  Zeal is an indie online ARPG developed by Lyca...      Lycanic Studios   \n",
       "2   Vertical Drop Heroes HD is an action platformer.  Nerdook Productions   \n",
       "3                   A puzzle mystery game for PS VR.      Tarsier Studios   \n",
       "4     A compilation of all three Banner Saga titles.                Stoic   \n",
       "\n",
       "                                genres        guid                     name  \\\n",
       "0                 Strategy, Simulation  3030-46539         Kill the Bad Guy   \n",
       "1           Action, Role-Playing, MOBA  3030-68714                     Zeal   \n",
       "2     Action, Role-Playing, Platformer  3030-48249  Vertical Drop Heroes HD   \n",
       "3                               Puzzle  3030-57976                   Statik   \n",
       "4  Strategy, Role-Playing, Compilation  3030-68731  The Banner Saga Trilogy   \n",
       "\n",
       "  publishers             themes  \n",
       "0                                \n",
       "1             Fantasy, Medieval  \n",
       "2                       Fantasy  \n",
       "3                                \n",
       "4                       Fantasy  "
      ]
     },
     "execution_count": 3,
     "metadata": {},
     "output_type": "execute_result"
    }
   ],
   "source": [
    "df.head()"
   ]
  },
  {
   "cell_type": "code",
   "execution_count": 4,
   "metadata": {},
   "outputs": [],
   "source": [
    "def split_features_from_col(df, col):\n",
    "    '''\n",
    "    Returns a dataframe of 1 hot encoded features from the selected col \n",
    "    '''\n",
    "    df[col] = ['' if entry == None else entry for entry in df[col] ]\n",
    "    cvec = CountVectorizer(stop_words='english', tokenizer=lambda x: x.split(', '))\n",
    "    bow = cvec.fit_transform(df[col])\n",
    "    ret_df  = pd.DataFrame(bow.todense(),\n",
    "                       columns=map(lambda x: col + \"_\" + x, cvec.get_feature_names()))\n",
    "    ret_df.drop(col+'_', 1, inplace=True)\n",
    "    return ret_df\n",
    "\n",
    "def split_features(df, list_of_cols):\n",
    "    '''\n",
    "    Returns a dataframe of 1 hot encoded features from a list of cols\n",
    "    '''\n",
    "    ret_df = df.loc[:, ['name', 'guid']]\n",
    "    for col in list_of_cols:\n",
    "        ret_df = pd.merge(ret_df, split_features_from_col(df, col), left_index=True, right_index=True)\n",
    "        \n",
    "    return ret_df"
   ]
  },
  {
   "cell_type": "code",
   "execution_count": 5,
   "metadata": {},
   "outputs": [],
   "source": [
    "# We have 4 features that we want to split\n",
    "dummied_df = split_features(df, ['concepts', 'genres', 'themes', 'developers'])"
   ]
  },
  {
   "cell_type": "code",
   "execution_count": 6,
   "metadata": {},
   "outputs": [],
   "source": [
    "dummied_df.set_index(\"name\", inplace=True)"
   ]
  },
  {
   "cell_type": "code",
   "execution_count": 7,
   "metadata": {},
   "outputs": [],
   "source": [
    "dummied_df.drop(\"guid\", 1, inplace=True)"
   ]
  },
  {
   "cell_type": "code",
   "execution_count": 8,
   "metadata": {},
   "outputs": [
    {
     "data": {
      "text/plain": [
       "(1746, 5070)"
      ]
     },
     "execution_count": 8,
     "metadata": {},
     "output_type": "execute_result"
    }
   ],
   "source": [
    "dummied_df.shape"
   ]
  },
  {
   "cell_type": "markdown",
   "metadata": {},
   "source": [
    "##  Manual Feature Reduction"
   ]
  },
  {
   "cell_type": "code",
   "execution_count": 9,
   "metadata": {},
   "outputs": [
    {
     "data": {
      "text/plain": [
       "concepts_digital distribution    0.236484\n",
       "concepts_steam                   0.193403\n",
       "themes_fantasy                   0.171660\n",
       "genres_action                    0.169722\n",
       "themes_sci-fi                    0.154435\n",
       "concepts_indie                   0.128014\n",
       "concepts_steam achievements      0.127613\n",
       "genres_adventure                 0.114020\n",
       "genres_role-playing              0.111472\n",
       "concepts_achievements            0.108037\n",
       "genres_platformer                0.104998\n",
       "genres_action-adventure          0.104123\n",
       "concepts_playstation trophies    0.102367\n",
       "concepts_steam trading cards     0.100156\n",
       "concepts_gog.com                 0.097034\n",
       "concepts_2d                      0.093879\n",
       "concepts_voice acting            0.090693\n",
       "themes_comedy                    0.088397\n",
       "concepts_male protagonists       0.084689\n",
       "genres_puzzle                    0.081881\n",
       "dtype: float64"
      ]
     },
     "execution_count": 9,
     "metadata": {},
     "output_type": "execute_result"
    }
   ],
   "source": [
    "dummied_df.var().sort_values(ascending=False)[0:20]"
   ]
  },
  {
   "cell_type": "markdown",
   "metadata": {},
   "source": [
    "### I don't want features like `concepts_digital distribution` or any tradeshow data like `concepts_e3` or `concepts_pax`.  I also don't care about achievements"
   ]
  },
  {
   "cell_type": "code",
   "execution_count": 10,
   "metadata": {},
   "outputs": [
    {
     "name": "stdout",
     "output_type": "stream",
     "text": [
      "Dropping 58 columns\n"
     ]
    }
   ],
   "source": [
    "drop_cols = [\"concepts_digital distribution\", \"concepts_wasd movement\", \n",
    "             \"concepts_achievements\", \"concepts_playstation trophies\",\n",
    "              \"concepts_subtitles\"]\n",
    "for col in dummied_df.columns:\n",
    "    if (\"concepts_steam\" in col) or (\"concepts_pax\" in col) or (\"concepts_e3\" in col):\n",
    "        drop_cols.append(col)\n",
    "drop_cols[0:10]\n",
    "print(f\"Dropping {len(drop_cols)} columns\")"
   ]
  },
  {
   "cell_type": "code",
   "execution_count": 11,
   "metadata": {},
   "outputs": [],
   "source": [
    "dummied_df.drop(drop_cols, 1, inplace=True)"
   ]
  },
  {
   "cell_type": "markdown",
   "metadata": {},
   "source": [
    "### Dropping games with too few (5 or less) features\n",
    "Games that don't have many features will not be similar to any other games"
   ]
  },
  {
   "cell_type": "code",
   "execution_count": 12,
   "metadata": {
    "scrolled": true
   },
   "outputs": [
    {
     "data": {
      "text/plain": [
       "1073"
      ]
     },
     "execution_count": 12,
     "metadata": {},
     "output_type": "execute_result"
    }
   ],
   "source": [
    "thresh = 6\n",
    "(dummied_df.iloc[:,2:].T.sum()>=thresh).sum()"
   ]
  },
  {
   "cell_type": "code",
   "execution_count": 13,
   "metadata": {
    "scrolled": true
   },
   "outputs": [],
   "source": [
    "dummied_df.drop(dummied_df[dummied_df.iloc[:,2:].T.sum()<thresh].index, 0, inplace=True)"
   ]
  },
  {
   "cell_type": "code",
   "execution_count": 14,
   "metadata": {},
   "outputs": [
    {
     "data": {
      "text/plain": [
       "(1073, 5012)"
      ]
     },
     "execution_count": 14,
     "metadata": {},
     "output_type": "execute_result"
    }
   ],
   "source": [
    "dummied_df.shape"
   ]
  },
  {
   "cell_type": "markdown",
   "metadata": {},
   "source": [
    "## Using Sklearn's Variance Threshold to drop features with variance of .005 and less"
   ]
  },
  {
   "cell_type": "code",
   "execution_count": 15,
   "metadata": {},
   "outputs": [],
   "source": [
    "vt = VarianceThreshold(.005)\n",
    "thresh_matrix = vt.fit_transform(dummied_df)"
   ]
  },
  {
   "cell_type": "code",
   "execution_count": 16,
   "metadata": {
    "scrolled": true
   },
   "outputs": [
    {
     "data": {
      "text/plain": [
       "(1073, 1208)"
      ]
     },
     "execution_count": 16,
     "metadata": {},
     "output_type": "execute_result"
    }
   ],
   "source": [
    "thresh_matrix.shape"
   ]
  },
  {
   "cell_type": "code",
   "execution_count": 17,
   "metadata": {},
   "outputs": [],
   "source": [
    "thresh_df = pd.DataFrame(thresh_matrix, columns=dummied_df.columns[vt.get_support(indices=True)], index=dummied_df.index)"
   ]
  },
  {
   "cell_type": "code",
   "execution_count": 57,
   "metadata": {},
   "outputs": [
    {
     "data": {
      "image/png": "[encoded data removed]",
      "text/plain": [
       "<matplotlib.figure.Figure at 0x7f583dc0ae80>"
      ]
     },
     "metadata": {},
     "output_type": "display_data"
    }
   ],
   "source": [
    "plt.hist(np.sum(thresh_matrix, 1), bins=50)\n",
    "plt.title(\"Histogram of number of features\");\n",
    "# plt.savefig(\"figures/num_feats.png\")"
   ]
  },
  {
   "cell_type": "markdown",
   "metadata": {},
   "source": [
    "## Let's look at some Venn Diagrams"
   ]
  },
  {
   "cell_type": "code",
   "execution_count": 19,
   "metadata": {},
   "outputs": [],
   "source": [
    "# !pip install matplotlib-venn\n",
    "from matplotlib_venn import venn2"
   ]
  },
  {
   "cell_type": "code",
   "execution_count": 54,
   "metadata": {},
   "outputs": [],
   "source": [
    "def search_game(search): # Added to class\n",
    "    '''\n",
    "    This helper function looks for games that match the search and returns them as a list\n",
    "    '''\n",
    "    ret = [game for game in thresh_df.index if search.strip().lower() in game.lower() ]\n",
    "    if ret !=[]:\n",
    "        return ret[0]\n",
    "    else: \n",
    "        return None\n",
    "\n",
    "def makeVenn(game1, game2, savefig=False, name = \"\"):\n",
    "    game1 = search_game(game1)\n",
    "    game2 = search_game(game2)\n",
    "    if game1 and game2:\n",
    "        g1_feats = thresh_df.loc[game1, thresh_df.loc[game1, :] ==1].index\n",
    "        g2_feats = thresh_df.loc[game2, thresh_df.loc[game2, :] ==1].index\n",
    "        venn2([set(g1_feats), set(g2_feats)], [game1, game2])\n",
    "        if savefig:\n",
    "            with open(f\"figures/venn_{name}.png\", \"wb+\") as f:\n",
    "                plt.savefig(f)"
   ]
  },
  {
   "cell_type": "markdown",
   "metadata": {},
   "source": [
    "### 2 Related Games"
   ]
  },
  {
   "cell_type": "code",
   "execution_count": 55,
   "metadata": {
    "scrolled": true
   },
   "outputs": [
    {
     "data": {
      "image/png": "[encoded data removed]",
      "text/plain": [
       "<matplotlib.figure.Figure at 0x7f583dd88c50>"
      ]
     },
     "metadata": {},
     "output_type": "display_data"
    }
   ],
   "source": [
    "makeVenn(\"Tomb Raider\", \"Uncharted 4 \", savefig=True, name=\"TombRaider_Uncharted4\")"
   ]
  },
  {
   "cell_type": "markdown",
   "metadata": {},
   "source": [
    "### 2 Unrelated Games"
   ]
  },
  {
   "cell_type": "code",
   "execution_count": 56,
   "metadata": {},
   "outputs": [
    {
     "data": {
      "image/png": "[encoded data removed]",
      "text/plain": [
       "<matplotlib.figure.Figure at 0x7f583d6d3048>"
      ]
     },
     "metadata": {},
     "output_type": "display_data"
    }
   ],
   "source": [
    "makeVenn(\"Street Fighter V\", \"Rocket League\", savefig=True, name=\"StreetFighterV_RocketLeague\")"
   ]
  },
  {
   "cell_type": "markdown",
   "metadata": {},
   "source": [
    "## Using TruncatedSVD to reduce feature space\n",
    "* The goal was to capture at least 90% of the variance\n",
    "* I found that 300 components does this"
   ]
  },
  {
   "cell_type": "code",
   "execution_count": 23,
   "metadata": {},
   "outputs": [],
   "source": [
    "svd = TruncatedSVD(300)\n",
    "content = svd.fit_transform(thresh_matrix)"
   ]
  },
  {
   "cell_type": "code",
   "execution_count": 59,
   "metadata": {},
   "outputs": [
    {
     "data": {
      "image/png": "[encoded data removed]",
      "text/plain": [
       "<matplotlib.figure.Figure at 0x7f583dca2710>"
      ]
     },
     "metadata": {},
     "output_type": "display_data"
    }
   ],
   "source": [
    "plt.bar(range(svd.n_components),svd.explained_variance_, width = 1)\n",
    "plt.xlabel(\"Component Number\")\n",
    "plt.ylabel(\"Explained Variance\")\n",
    "plt.title(\"Amount of explained variance by each component\");\n",
    "# plt.savefig(\"figures/variance_per_component.png\")"
   ]
  },
  {
   "cell_type": "code",
   "execution_count": 60,
   "metadata": {},
   "outputs": [
    {
     "name": "stdout",
     "output_type": "stream",
     "text": [
      "300 components captures 90.42675354464724% of variance\n"
     ]
    },
    {
     "data": {
      "image/png": "[encoded data removed]",
      "text/plain": [
       "<matplotlib.figure.Figure at 0x7f583d8f4c88>"
      ]
     },
     "metadata": {},
     "output_type": "display_data"
    }
   ],
   "source": [
    "print(f\"{svd.n_components} components captures {100*svd.explained_variance_ratio_.sum()}% of variance\")\n",
    "plt.plot(range(svd.n_components), np.cumsum(svd.explained_variance_ratio_), linewidth = 5)\n",
    "plt.xlabel(\"Number of Components\")\n",
    "plt.ylabel(\"Cumulative Sum % of Explained Variance\")\n",
    "plt.title(\"Total Variance Explained by Components\");\n",
    "# plt.savefig(\"figures/total_variance.png\")"
   ]
  },
  {
   "cell_type": "code",
   "execution_count": 26,
   "metadata": {},
   "outputs": [],
   "source": [
    "component_mapping = pd.DataFrame(svd.components_, columns=thresh_df.columns)"
   ]
  },
  {
   "cell_type": "markdown",
   "metadata": {},
   "source": [
    "### Here are some of the feature loadings for a few components.  \n"
   ]
  },
  {
   "cell_type": "code",
   "execution_count": 27,
   "metadata": {},
   "outputs": [
    {
     "name": "stdout",
     "output_type": "stream",
     "text": [
      "concepts_voice acting\n",
      "concepts_male protagonists\n",
      "concepts_polygonal 3d\n",
      "themes_fantasy\n",
      "concepts_health\n",
      "\n",
      "concepts_profanity\n",
      "concepts_blood\n",
      "concepts_real-time combat\n",
      "concepts_third-person perspective\n",
      "concepts_mercenary\n",
      "\n",
      "genres_adventure\n",
      "concepts_gog.com\n",
      "concepts_puzzles\n",
      "concepts_confirm menu choices\n",
      "concepts_indie\n",
      "\n",
      "concepts_boss fight\n",
      "concepts_bosses\n",
      "concepts_health\n",
      "concepts_death\n",
      "concepts_melee\n",
      "\n",
      "genres_platformer\n",
      "genres_action-adventure\n",
      "concepts_jump\n",
      "themes_fantasy\n",
      "concepts_collectibles\n",
      "\n",
      "concepts_explosion\n",
      "concepts_leveling up\n",
      "themes_sci-fi\n",
      "concepts_heads up display\n",
      "concepts_upgradeable weapons\n",
      "\n"
     ]
    }
   ],
   "source": [
    "for i in [0, 1, 2, 4, 5, 6, ]:\n",
    "    for feat in component_mapping.loc[i, :].sort_values(ascending=False)[0:5].index:\n",
    "        print(feat)\n",
    "    print()"
   ]
  },
  {
   "cell_type": "markdown",
   "metadata": {},
   "source": [
    "#### Each of these components remind me of games I have played:\n",
    "* Skyrim\n",
    "* Fortnite\n",
    "* Fez\n",
    "* Dark Souls\n",
    "* Ori and the Blind Forest\n",
    "* Mass Effect.  "
   ]
  },
  {
   "cell_type": "code",
   "execution_count": null,
   "metadata": {},
   "outputs": [],
   "source": []
  }
 ],
 "metadata": {
  "kernelspec": {
   "display_name": "Python 3",
   "language": "python",
   "name": "python3"
  },
  "language_info": {
   "codemirror_mode": {
    "name": "ipython",
    "version": 3
   },
   "file_extension": ".py",
   "mimetype": "text/x-python",
   "name": "python",
   "nbconvert_exporter": "python",
   "pygments_lexer": "ipython3",
   "version": "3.6.2"
  }
 },
 "nbformat": 4,
 "nbformat_minor": 2
}
