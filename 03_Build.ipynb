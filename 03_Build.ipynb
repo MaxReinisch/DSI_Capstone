{
 "cells": [
  {
   "cell_type": "markdown",
   "metadata": {},
   "source": [
    "# Building the Recommendation system\n",
    "\n",
    "In this notebook, I am building the recommendation system.  \n",
    "* I will clean the data using the same process in the EDA notebook\n",
    "* I then make a cosine distance matrix and implement several functions to help search it. \n",
    "* Finally, I made a custom python class `CustomSearch` that can run a search on 1 or multiple games in a single line call"
   ]
  },
  {
   "cell_type": "code",
   "execution_count": 1,
   "metadata": {},
   "outputs": [],
   "source": [
    "import pandas as pd\n",
    "from sklearn.feature_extraction.text import CountVectorizer\n",
    "from sklearn.decomposition import TruncatedSVD\n",
    "from sklearn.metrics.pairwise import pairwise_distances, cosine_distances\n",
    "from sklearn.feature_selection.variance_threshold import VarianceThreshold\n",
    "from scipy import sparse\n",
    "import numpy as np\n",
    "import matplotlib.pyplot as plt\n",
    "import seaborn as sns\n",
    "import json\n",
    "import csv\n",
    "from collections import Counter"
   ]
  },
  {
   "cell_type": "markdown",
   "metadata": {},
   "source": [
    "# Content: \n",
    "\n",
    "Import Game Meta Data"
   ]
  },
  {
   "cell_type": "code",
   "execution_count": 2,
   "metadata": {},
   "outputs": [],
   "source": [
    "from os import listdir\n",
    "from os.path import isfile, join\n",
    "onlyfiles = [f for f in listdir('./GB_API_Scrape//game_meta_data/') if isfile(join('./GB_API_Scrape//game_meta_data/', f))] #get list of files\n",
    "list_of_meta = [] # fill this list with dictionaries \n",
    "feature_list = ['guid', 'name', 'concepts', 'themes', 'deck', 'developers', 'publishers', 'genres'] #list of features I care about\n",
    "for file in onlyfiles:\n",
    "    #looping through files, open them, put their contents into a dict, and add it to the list\n",
    "    with open(f'./GB_API_Scrape//game_meta_data/{file}', 'r') as f:\n",
    "        game = json.load(f)\n",
    "        game_dict = {key:value for key, value in game.items() if key in feature_list}\n",
    "\n",
    "        # convert lists to strings \n",
    "        for key, value in game_dict.items():\n",
    "            if type(value) == list:\n",
    "                game_dict[key] = ', '.join(value)\n",
    "        list_of_meta.append(game_dict)\n",
    "# make pandas dataframe\n",
    "df = pd.DataFrame(list_of_meta)\n",
    "df.fillna(\"\", inplace=True)"
   ]
  },
  {
   "cell_type": "markdown",
   "metadata": {},
   "source": [
    "## Here we have the raw data frame.  We need to:\n",
    "* Dummy the columns \n",
    "* Drop features that are too sparse\n",
    "* Drop games that have too few features"
   ]
  },
  {
   "cell_type": "code",
   "execution_count": 3,
   "metadata": {},
   "outputs": [
    {
     "data": {
      "text/html": [
       "<div>\n",
       "<table border=\"1\" class=\"dataframe\">\n",
       "  <thead>\n",
       "    <tr style=\"text-align: right;\">\n",
       "      <th></th>\n",
       "      <th>concepts</th>\n",
       "      <th>deck</th>\n",
       "      <th>developers</th>\n",
       "      <th>genres</th>\n",
       "      <th>guid</th>\n",
       "      <th>name</th>\n",
       "      <th>publishers</th>\n",
       "      <th>themes</th>\n",
       "    </tr>\n",
       "  </thead>\n",
       "  <tbody>\n",
       "    <tr>\n",
       "      <th>0</th>\n",
       "      <td>Achievements, PlayStation Trophies, Steam, Dig...</td>\n",
       "      <td>Kill The Bad Guy is a puzzle-game where physic...</td>\n",
       "      <td>Exkee</td>\n",
       "      <td>Strategy, Simulation</td>\n",
       "      <td>3030-46539</td>\n",
       "      <td>Kill the Bad Guy</td>\n",
       "      <td></td>\n",
       "      <td></td>\n",
       "    </tr>\n",
       "    <tr>\n",
       "      <th>1</th>\n",
       "      <td></td>\n",
       "      <td>Zeal is an indie online ARPG developed by Lyca...</td>\n",
       "      <td>Lycanic Studios</td>\n",
       "      <td>Action, Role-Playing, MOBA</td>\n",
       "      <td>3030-68714</td>\n",
       "      <td>Zeal</td>\n",
       "      <td></td>\n",
       "      <td>Fantasy, Medieval</td>\n",
       "    </tr>\n",
       "    <tr>\n",
       "      <th>2</th>\n",
       "      <td></td>\n",
       "      <td>Vertical Drop Heroes HD is an action platformer.</td>\n",
       "      <td>Nerdook Productions</td>\n",
       "      <td>Action, Role-Playing, Platformer</td>\n",
       "      <td>3030-48249</td>\n",
       "      <td>Vertical Drop Heroes HD</td>\n",
       "      <td></td>\n",
       "      <td>Fantasy</td>\n",
       "    </tr>\n",
       "    <tr>\n",
       "      <th>3</th>\n",
       "      <td>Unreal Engine 4, PlayStation VR Support</td>\n",
       "      <td>A puzzle mystery game for PS VR.</td>\n",
       "      <td>Tarsier Studios</td>\n",
       "      <td>Puzzle</td>\n",
       "      <td>3030-57976</td>\n",
       "      <td>Statik</td>\n",
       "      <td></td>\n",
       "      <td></td>\n",
       "    </tr>\n",
       "    <tr>\n",
       "      <th>4</th>\n",
       "      <td></td>\n",
       "      <td>A compilation of all three Banner Saga titles.</td>\n",
       "      <td>Stoic</td>\n",
       "      <td>Strategy, Role-Playing, Compilation</td>\n",
       "      <td>3030-68731</td>\n",
       "      <td>The Banner Saga Trilogy</td>\n",
       "      <td></td>\n",
       "      <td>Fantasy</td>\n",
       "    </tr>\n",
       "  </tbody>\n",
       "</table>\n",
       "</div>"
      ],
      "text/plain": [
       "                                            concepts  \\\n",
       "0  Achievements, PlayStation Trophies, Steam, Dig...   \n",
       "1                                                      \n",
       "2                                                      \n",
       "3            Unreal Engine 4, PlayStation VR Support   \n",
       "4                                                      \n",
       "\n",
       "                                                deck           developers  \\\n",
       "0  Kill The Bad Guy is a puzzle-game where physic...                Exkee   \n",
       "1  Zeal is an indie online ARPG developed by Lyca...      Lycanic Studios   \n",
       "2   Vertical Drop Heroes HD is an action platformer.  Nerdook Productions   \n",
       "3                   A puzzle mystery game for PS VR.      Tarsier Studios   \n",
       "4     A compilation of all three Banner Saga titles.                Stoic   \n",
       "\n",
       "                                genres        guid                     name  \\\n",
       "0                 Strategy, Simulation  3030-46539         Kill the Bad Guy   \n",
       "1           Action, Role-Playing, MOBA  3030-68714                     Zeal   \n",
       "2     Action, Role-Playing, Platformer  3030-48249  Vertical Drop Heroes HD   \n",
       "3                               Puzzle  3030-57976                   Statik   \n",
       "4  Strategy, Role-Playing, Compilation  3030-68731  The Banner Saga Trilogy   \n",
       "\n",
       "  publishers             themes  \n",
       "0                                \n",
       "1             Fantasy, Medieval  \n",
       "2                       Fantasy  \n",
       "3                                \n",
       "4                       Fantasy  "
      ]
     },
     "execution_count": 3,
     "metadata": {},
     "output_type": "execute_result"
    }
   ],
   "source": [
    "df.head()"
   ]
  },
  {
   "cell_type": "code",
   "execution_count": 4,
   "metadata": {},
   "outputs": [],
   "source": [
    "def split_features_from_col(df, col):\n",
    "    '''\n",
    "    Returns a dataframe of 1 hot encoded features from the selected col \n",
    "    '''\n",
    "    df[col] = ['' if entry == None else entry for entry in df[col] ]\n",
    "    cvec = CountVectorizer(stop_words='english', tokenizer=lambda x: x.split(', '))\n",
    "    bow = cvec.fit_transform(df[col])\n",
    "    ret_df  = pd.DataFrame(bow.todense(),\n",
    "                       columns=map(lambda x: col + \"_\" + x, cvec.get_feature_names()))\n",
    "    ret_df.drop(col+'_', 1, inplace=True)\n",
    "    return ret_df\n",
    "\n",
    "def split_features(df, list_of_cols):\n",
    "    '''\n",
    "    Returns a dataframe of 1 hot encoded features from a list of cols\n",
    "    '''\n",
    "    ret_df = df.loc[:, ['name', 'guid']]\n",
    "    for col in list_of_cols:\n",
    "        ret_df = pd.merge(ret_df, split_features_from_col(df, col), left_index=True, right_index=True)\n",
    "        \n",
    "    return ret_df"
   ]
  },
  {
   "cell_type": "code",
   "execution_count": 5,
   "metadata": {},
   "outputs": [],
   "source": [
    "# We have 4 features that we want to split\n",
    "dummied_df = split_features(df, ['concepts', 'genres', 'themes', 'developers'])"
   ]
  },
  {
   "cell_type": "code",
   "execution_count": 6,
   "metadata": {},
   "outputs": [
    {
     "data": {
      "text/plain": [
       "(1746, 5070)"
      ]
     },
     "execution_count": 6,
     "metadata": {},
     "output_type": "execute_result"
    }
   ],
   "source": [
    "dummied_df.set_index(\"name\", inplace=True)\n",
    "\n",
    "dummied_df.drop(\"guid\", 1, inplace=True)\n",
    "\n",
    "dummied_df.shape"
   ]
  },
  {
   "cell_type": "markdown",
   "metadata": {},
   "source": [
    "##  Manual Feature Reduction"
   ]
  },
  {
   "cell_type": "code",
   "execution_count": 7,
   "metadata": {},
   "outputs": [
    {
     "data": {
      "text/plain": [
       "concepts_digital distribution    0.236484\n",
       "concepts_steam                   0.193403\n",
       "themes_fantasy                   0.171660\n",
       "genres_action                    0.169722\n",
       "themes_sci-fi                    0.154435\n",
       "concepts_indie                   0.128014\n",
       "concepts_steam achievements      0.127613\n",
       "genres_adventure                 0.114020\n",
       "genres_role-playing              0.111472\n",
       "concepts_achievements            0.108037\n",
       "dtype: float64"
      ]
     },
     "execution_count": 7,
     "metadata": {},
     "output_type": "execute_result"
    }
   ],
   "source": [
    "dummied_df.var().sort_values(ascending=False)[0:10]"
   ]
  },
  {
   "cell_type": "markdown",
   "metadata": {},
   "source": [
    "I don't want features like concepts_digital distribution or concepts_steam.\\* or concepts_pax.\\* or concepts_e3.\\*"
   ]
  },
  {
   "cell_type": "code",
   "execution_count": 8,
   "metadata": {},
   "outputs": [
    {
     "name": "stdout",
     "output_type": "stream",
     "text": [
      "Dropping 58 columns\n"
     ]
    }
   ],
   "source": [
    "drop_cols = [\"concepts_digital distribution\", \"concepts_wasd movement\", \n",
    "             \"concepts_achievements\", \"concepts_playstation trophies\",\n",
    "              \"concepts_subtitles\"]\n",
    "for col in dummied_df.columns:\n",
    "    if (\"concepts_steam\" in col) or (\"concepts_pax\" in col) or (\"concepts_e3\" in col):\n",
    "        drop_cols.append(col)\n",
    "drop_cols[0:10]\n",
    "print(f\"Dropping {len(drop_cols)} columns\")"
   ]
  },
  {
   "cell_type": "code",
   "execution_count": 9,
   "metadata": {},
   "outputs": [],
   "source": [
    "dummied_df.drop(drop_cols, 1, inplace=True)"
   ]
  },
  {
   "cell_type": "markdown",
   "metadata": {},
   "source": [
    "### Dropping games with too few (5 or less) features"
   ]
  },
  {
   "cell_type": "code",
   "execution_count": 10,
   "metadata": {
    "scrolled": true
   },
   "outputs": [
    {
     "data": {
      "text/plain": [
       "1073"
      ]
     },
     "execution_count": 10,
     "metadata": {},
     "output_type": "execute_result"
    }
   ],
   "source": [
    "thresh = 6\n",
    "(dummied_df.iloc[:,2:].T.sum()>=thresh).sum()"
   ]
  },
  {
   "cell_type": "code",
   "execution_count": 11,
   "metadata": {
    "scrolled": true
   },
   "outputs": [],
   "source": [
    "dummied_df.drop(dummied_df[dummied_df.iloc[:,2:].T.sum()<thresh].index, 0, inplace=True)"
   ]
  },
  {
   "cell_type": "code",
   "execution_count": 12,
   "metadata": {},
   "outputs": [
    {
     "data": {
      "text/plain": [
       "(1073, 5012)"
      ]
     },
     "execution_count": 12,
     "metadata": {},
     "output_type": "execute_result"
    }
   ],
   "source": [
    "dummied_df.shape"
   ]
  },
  {
   "cell_type": "markdown",
   "metadata": {},
   "source": [
    "## Using Sklearn's Variance Threshold to drop features with variance of .005 and less"
   ]
  },
  {
   "cell_type": "code",
   "execution_count": 13,
   "metadata": {},
   "outputs": [],
   "source": [
    "vt = VarianceThreshold(.005)\n",
    "thresh_df = vt.fit_transform(dummied_df)"
   ]
  },
  {
   "cell_type": "code",
   "execution_count": 14,
   "metadata": {},
   "outputs": [
    {
     "data": {
      "text/plain": [
       "(1073, 1208)"
      ]
     },
     "execution_count": 14,
     "metadata": {},
     "output_type": "execute_result"
    }
   ],
   "source": [
    "thresh_df.shape"
   ]
  },
  {
   "cell_type": "markdown",
   "metadata": {},
   "source": [
    "## Using TruncatedSVD to reduce feature space\n",
    "* The goal was to capture at least 90% of the variance\n",
    "* I found that 300 components does this"
   ]
  },
  {
   "cell_type": "code",
   "execution_count": 15,
   "metadata": {},
   "outputs": [],
   "source": [
    "svd = TruncatedSVD(n_components=300)\n",
    "content = svd.fit_transform(thresh_df)"
   ]
  },
  {
   "cell_type": "markdown",
   "metadata": {},
   "source": [
    "# Now to make the simularity matrix\n",
    "* uses cosine distance\n",
    "* simularity matrix stored in pandas dataframe called `distance_df`\n"
   ]
  },
  {
   "cell_type": "code",
   "execution_count": 16,
   "metadata": {},
   "outputs": [],
   "source": [
    "sparse_content = sparse.csr_matrix(content)"
   ]
  },
  {
   "cell_type": "code",
   "execution_count": 17,
   "metadata": {},
   "outputs": [
    {
     "data": {
      "text/html": [
       "<div>\n",
       "<table border=\"1\" class=\"dataframe\">\n",
       "  <thead>\n",
       "    <tr style=\"text-align: right;\">\n",
       "      <th>name</th>\n",
       "      <th>Zeal</th>\n",
       "      <th>Giana Sisters: Twisted Dreams</th>\n",
       "      <th>Warriors All-Stars</th>\n",
       "      <th>Ultra Street Fighter IV</th>\n",
       "      <th>Arcania: Gothic 4</th>\n",
       "      <th>Lichdom: Battlemage</th>\n",
       "      <th>The King of Fighters Collection: The Orochi Saga</th>\n",
       "      <th>Alien Shooter</th>\n",
       "      <th>JumpJet Rex</th>\n",
       "      <th>Anthem</th>\n",
       "      <th>...</th>\n",
       "      <th>Alienation</th>\n",
       "      <th>World Heroes 2 JET</th>\n",
       "      <th>Way of Redemption</th>\n",
       "      <th>Mystereet F: Tantei-tachi no Curtain Call</th>\n",
       "      <th>Hotline Miami 2: Wrong Number</th>\n",
       "      <th>The Magic Circle</th>\n",
       "      <th>Gran Turismo Sport</th>\n",
       "      <th>Guts and Glory</th>\n",
       "      <th>Mighty No. 9</th>\n",
       "      <th>Sonic Forces</th>\n",
       "    </tr>\n",
       "    <tr>\n",
       "      <th>name</th>\n",
       "      <th></th>\n",
       "      <th></th>\n",
       "      <th></th>\n",
       "      <th></th>\n",
       "      <th></th>\n",
       "      <th></th>\n",
       "      <th></th>\n",
       "      <th></th>\n",
       "      <th></th>\n",
       "      <th></th>\n",
       "      <th></th>\n",
       "      <th></th>\n",
       "      <th></th>\n",
       "      <th></th>\n",
       "      <th></th>\n",
       "      <th></th>\n",
       "      <th></th>\n",
       "      <th></th>\n",
       "      <th></th>\n",
       "      <th></th>\n",
       "      <th></th>\n",
       "    </tr>\n",
       "  </thead>\n",
       "  <tbody>\n",
       "    <tr>\n",
       "      <th>Zeal</th>\n",
       "      <td>0.000000</td>\n",
       "      <td>0.937584</td>\n",
       "      <td>0.644754</td>\n",
       "      <td>1.003639</td>\n",
       "      <td>0.782605</td>\n",
       "      <td>0.585084</td>\n",
       "      <td>1.005878</td>\n",
       "      <td>0.850056</td>\n",
       "      <td>0.989217</td>\n",
       "      <td>0.532280</td>\n",
       "      <td>...</td>\n",
       "      <td>0.977785</td>\n",
       "      <td>1.003952</td>\n",
       "      <td>0.520734</td>\n",
       "      <td>1.016036</td>\n",
       "      <td>0.891328</td>\n",
       "      <td>0.838542</td>\n",
       "      <td>0.990253</td>\n",
       "      <td>1.006922</td>\n",
       "      <td>0.911328</td>\n",
       "      <td>0.871417</td>\n",
       "    </tr>\n",
       "    <tr>\n",
       "      <th>Giana Sisters: Twisted Dreams</th>\n",
       "      <td>0.937584</td>\n",
       "      <td>0.000000</td>\n",
       "      <td>0.948237</td>\n",
       "      <td>0.915746</td>\n",
       "      <td>0.906294</td>\n",
       "      <td>0.925129</td>\n",
       "      <td>1.001377</td>\n",
       "      <td>0.961667</td>\n",
       "      <td>0.842976</td>\n",
       "      <td>1.000377</td>\n",
       "      <td>...</td>\n",
       "      <td>0.910189</td>\n",
       "      <td>1.002926</td>\n",
       "      <td>0.942615</td>\n",
       "      <td>1.003776</td>\n",
       "      <td>0.915629</td>\n",
       "      <td>0.960536</td>\n",
       "      <td>0.997988</td>\n",
       "      <td>0.923580</td>\n",
       "      <td>0.784931</td>\n",
       "      <td>0.820860</td>\n",
       "    </tr>\n",
       "    <tr>\n",
       "      <th>Warriors All-Stars</th>\n",
       "      <td>0.644754</td>\n",
       "      <td>0.948237</td>\n",
       "      <td>0.000000</td>\n",
       "      <td>0.951506</td>\n",
       "      <td>0.957306</td>\n",
       "      <td>0.811260</td>\n",
       "      <td>0.923649</td>\n",
       "      <td>0.906392</td>\n",
       "      <td>1.011298</td>\n",
       "      <td>0.831788</td>\n",
       "      <td>...</td>\n",
       "      <td>0.994347</td>\n",
       "      <td>1.011280</td>\n",
       "      <td>0.719008</td>\n",
       "      <td>0.996287</td>\n",
       "      <td>0.922990</td>\n",
       "      <td>0.866294</td>\n",
       "      <td>1.015368</td>\n",
       "      <td>1.007770</td>\n",
       "      <td>0.941415</td>\n",
       "      <td>0.888253</td>\n",
       "    </tr>\n",
       "    <tr>\n",
       "      <th>Ultra Street Fighter IV</th>\n",
       "      <td>1.003639</td>\n",
       "      <td>0.915746</td>\n",
       "      <td>0.951506</td>\n",
       "      <td>0.000000</td>\n",
       "      <td>0.928987</td>\n",
       "      <td>0.887626</td>\n",
       "      <td>0.843472</td>\n",
       "      <td>1.001369</td>\n",
       "      <td>0.917211</td>\n",
       "      <td>1.000946</td>\n",
       "      <td>...</td>\n",
       "      <td>0.941640</td>\n",
       "      <td>0.779669</td>\n",
       "      <td>1.000952</td>\n",
       "      <td>0.951098</td>\n",
       "      <td>1.006994</td>\n",
       "      <td>0.958296</td>\n",
       "      <td>1.005654</td>\n",
       "      <td>1.002646</td>\n",
       "      <td>0.932475</td>\n",
       "      <td>1.000426</td>\n",
       "    </tr>\n",
       "    <tr>\n",
       "      <th>Arcania: Gothic 4</th>\n",
       "      <td>0.782605</td>\n",
       "      <td>0.906294</td>\n",
       "      <td>0.957306</td>\n",
       "      <td>0.928987</td>\n",
       "      <td>0.000000</td>\n",
       "      <td>0.798543</td>\n",
       "      <td>0.998691</td>\n",
       "      <td>0.961054</td>\n",
       "      <td>0.916046</td>\n",
       "      <td>0.934632</td>\n",
       "      <td>...</td>\n",
       "      <td>0.967222</td>\n",
       "      <td>0.965509</td>\n",
       "      <td>0.949105</td>\n",
       "      <td>0.947058</td>\n",
       "      <td>0.976498</td>\n",
       "      <td>0.863433</td>\n",
       "      <td>1.001461</td>\n",
       "      <td>0.991579</td>\n",
       "      <td>0.977302</td>\n",
       "      <td>0.953152</td>\n",
       "    </tr>\n",
       "  </tbody>\n",
       "</table>\n",
       "<p>5 rows × 1073 columns</p>\n",
       "</div>"
      ],
      "text/plain": [
       "name                               Zeal  Giana Sisters: Twisted Dreams  \\\n",
       "name                                                                     \n",
       "Zeal                           0.000000                       0.937584   \n",
       "Giana Sisters: Twisted Dreams  0.937584                       0.000000   \n",
       "Warriors All-Stars             0.644754                       0.948237   \n",
       "Ultra Street Fighter IV        1.003639                       0.915746   \n",
       "Arcania: Gothic 4              0.782605                       0.906294   \n",
       "\n",
       "name                           Warriors All-Stars  Ultra Street Fighter IV  \\\n",
       "name                                                                         \n",
       "Zeal                                     0.644754                 1.003639   \n",
       "Giana Sisters: Twisted Dreams            0.948237                 0.915746   \n",
       "Warriors All-Stars                       0.000000                 0.951506   \n",
       "Ultra Street Fighter IV                  0.951506                 0.000000   \n",
       "Arcania: Gothic 4                        0.957306                 0.928987   \n",
       "\n",
       "name                           Arcania: Gothic 4  Lichdom: Battlemage  \\\n",
       "name                                                                    \n",
       "Zeal                                    0.782605             0.585084   \n",
       "Giana Sisters: Twisted Dreams           0.906294             0.925129   \n",
       "Warriors All-Stars                      0.957306             0.811260   \n",
       "Ultra Street Fighter IV                 0.928987             0.887626   \n",
       "Arcania: Gothic 4                       0.000000             0.798543   \n",
       "\n",
       "name                           The King of Fighters Collection: The Orochi Saga  \\\n",
       "name                                                                              \n",
       "Zeal                                                                   1.005878   \n",
       "Giana Sisters: Twisted Dreams                                          1.001377   \n",
       "Warriors All-Stars                                                     0.923649   \n",
       "Ultra Street Fighter IV                                                0.843472   \n",
       "Arcania: Gothic 4                                                      0.998691   \n",
       "\n",
       "name                           Alien Shooter  JumpJet Rex    Anthem  \\\n",
       "name                                                                  \n",
       "Zeal                                0.850056     0.989217  0.532280   \n",
       "Giana Sisters: Twisted Dreams       0.961667     0.842976  1.000377   \n",
       "Warriors All-Stars                  0.906392     1.011298  0.831788   \n",
       "Ultra Street Fighter IV             1.001369     0.917211  1.000946   \n",
       "Arcania: Gothic 4                   0.961054     0.916046  0.934632   \n",
       "\n",
       "name                               ...       Alienation  World Heroes 2 JET  \\\n",
       "name                               ...                                        \n",
       "Zeal                               ...         0.977785            1.003952   \n",
       "Giana Sisters: Twisted Dreams      ...         0.910189            1.002926   \n",
       "Warriors All-Stars                 ...         0.994347            1.011280   \n",
       "Ultra Street Fighter IV            ...         0.941640            0.779669   \n",
       "Arcania: Gothic 4                  ...         0.967222            0.965509   \n",
       "\n",
       "name                           Way of Redemption  \\\n",
       "name                                               \n",
       "Zeal                                    0.520734   \n",
       "Giana Sisters: Twisted Dreams           0.942615   \n",
       "Warriors All-Stars                      0.719008   \n",
       "Ultra Street Fighter IV                 1.000952   \n",
       "Arcania: Gothic 4                       0.949105   \n",
       "\n",
       "name                           Mystereet F: Tantei-tachi no Curtain Call  \\\n",
       "name                                                                       \n",
       "Zeal                                                            1.016036   \n",
       "Giana Sisters: Twisted Dreams                                   1.003776   \n",
       "Warriors All-Stars                                              0.996287   \n",
       "Ultra Street Fighter IV                                         0.951098   \n",
       "Arcania: Gothic 4                                               0.947058   \n",
       "\n",
       "name                           Hotline Miami 2: Wrong Number  \\\n",
       "name                                                           \n",
       "Zeal                                                0.891328   \n",
       "Giana Sisters: Twisted Dreams                       0.915629   \n",
       "Warriors All-Stars                                  0.922990   \n",
       "Ultra Street Fighter IV                             1.006994   \n",
       "Arcania: Gothic 4                                   0.976498   \n",
       "\n",
       "name                           The Magic Circle  Gran Turismo Sport  \\\n",
       "name                                                                  \n",
       "Zeal                                   0.838542            0.990253   \n",
       "Giana Sisters: Twisted Dreams          0.960536            0.997988   \n",
       "Warriors All-Stars                     0.866294            1.015368   \n",
       "Ultra Street Fighter IV                0.958296            1.005654   \n",
       "Arcania: Gothic 4                      0.863433            1.001461   \n",
       "\n",
       "name                           Guts and Glory  Mighty No. 9  Sonic Forces  \n",
       "name                                                                       \n",
       "Zeal                                 1.006922      0.911328      0.871417  \n",
       "Giana Sisters: Twisted Dreams        0.923580      0.784931      0.820860  \n",
       "Warriors All-Stars                   1.007770      0.941415      0.888253  \n",
       "Ultra Street Fighter IV              1.002646      0.932475      1.000426  \n",
       "Arcania: Gothic 4                    0.991579      0.977302      0.953152  \n",
       "\n",
       "[5 rows x 1073 columns]"
      ]
     },
     "execution_count": 17,
     "metadata": {},
     "output_type": "execute_result"
    }
   ],
   "source": [
    "distances = pairwise_distances(content, metric='cosine') \n",
    "distance_df = pd.DataFrame(distances, index=dummied_df.index, columns=dummied_df.index)\n",
    "distance_df.head()"
   ]
  },
  {
   "cell_type": "code",
   "execution_count": 18,
   "metadata": {},
   "outputs": [],
   "source": [
    "# Functions that interact with the content filter\n",
    "\n",
    "def getSimilarGames(game, num=10):\n",
    "    '''\n",
    "    This function searches for a game and returns the similar games\n",
    "    '''\n",
    "    return get_simular_games_from_title(search_game(game)[0], num)\n",
    "\n",
    "def search_game(search): # Added to class\n",
    "    '''\n",
    "    This helper function looks for games that match the search and returns them as a list\n",
    "    '''\n",
    "    return [game for game in distance_df.columns if search.lower() in game.lower() ]\n",
    "\n",
    "def get_simular_games_from_title(title, num):\n",
    "    '''\n",
    "    This helper function returns the top num similar games given a title\n",
    "    '''\n",
    "    return distance_df[title].sort_values(ascending=True).index[1:num+1]\n",
    "\n",
    "# requires the dummied_df, and needs to be run through vt and svd (maybe use a pipe)\n",
    "def get_feature_vec(game):\n",
    "    '''\n",
    "    This function returns the binary vector associated with the feature space of a single game entry in the dummied dataframe\n",
    "    '''\n",
    "    title = search_game(game)[0]\n",
    "    return dummied_df.loc[title, :].values\n",
    "\n",
    "def combine_vec(v1, v2, method = 'or'):\n",
    "    '''\n",
    "    combines 2 feature vectors in the specified method\n",
    "    method = {'union', 'and', 'or', 'intersect', 'add'}\n",
    "    '''\n",
    "    # add = v1+v2\n",
    "    # XOR = (v1+v2) %2\n",
    "    # or = (v1+v2)>0\n",
    "    # and/intersect = (v1*v2) \n",
    "    \n",
    "    if method == 'or' or method == 'union':\n",
    "        return ((v1+v2)>0).astype(int)\n",
    "    if method == 'and' or method == 'intersect':\n",
    "        return v1*v2\n",
    "    if method == 'add':\n",
    "        return v1+v2\n",
    "\n",
    "def transform_vector(vector):\n",
    "    '''\n",
    "    Given a binary vector of features, returns the transformed vector after feature reduction\n",
    "    '''\n",
    "    return svd.transform(vt.transform(vector.reshape(1, -1)))\n",
    "\n",
    "# Requires content\n",
    "def getCosineToVector(vector):\n",
    "    '''\n",
    "    returns a vector of cosine distances from a custom transformed vector to every game\n",
    "    '''\n",
    "    return cosine_distances(vector, content)\n"
   ]
  },
  {
   "cell_type": "code",
   "execution_count": 19,
   "metadata": {},
   "outputs": [
    {
     "data": {
      "text/plain": [
       "Index(['VVVVVV', 'Celeste', 'Escape Goat 2', 'Machinarium', 'Badland',\n",
       "       'Jak II', 'Unravel', 'Mutant Mudds', 'Pneuma: Breath of Life',\n",
       "       'Mutant Mudds Super Challenge'],\n",
       "      dtype='object', name='name')"
      ]
     },
     "execution_count": 19,
     "metadata": {},
     "output_type": "execute_result"
    }
   ],
   "source": [
    "getSimilarGames(\"Fez\")"
   ]
  },
  {
   "cell_type": "markdown",
   "metadata": {},
   "source": [
    "# I made a class to run Custom Searches with multiple games\n",
    "Here is an example of it being used"
   ]
  },
  {
   "cell_type": "code",
   "execution_count": 20,
   "metadata": {},
   "outputs": [],
   "source": [
    "from model_assets.CustomSearch import CustomSearch"
   ]
  },
  {
   "cell_type": "code",
   "execution_count": 21,
   "metadata": {},
   "outputs": [],
   "source": [
    "testClass = CustomSearch([\"uncharted 4\", \"tomb raider\"])"
   ]
  },
  {
   "cell_type": "code",
   "execution_count": 22,
   "metadata": {},
   "outputs": [
    {
     "data": {
      "text/plain": [
       "['Uncharted: The Nathan Drake Collection',\n",
       " 'Hitman',\n",
       " 'The Last of Us',\n",
       " 'Metal Gear Solid V: The Phantom Pain',\n",
       " 'Star Wars Battlefront',\n",
       " 'Resident Evil: Revelations',\n",
       " \"Tom Clancy's The Division\",\n",
       " 'Far Cry 4',\n",
       " 'inFamous: First Light',\n",
       " 'Bloodborne']"
      ]
     },
     "execution_count": 22,
     "metadata": {},
     "output_type": "execute_result"
    }
   ],
   "source": [
    "testClass.SearchSimilarGames()"
   ]
  },
  {
   "cell_type": "code",
   "execution_count": 23,
   "metadata": {},
   "outputs": [
    {
     "data": {
      "text/plain": [
       "['Celeste',\n",
       " 'Badland',\n",
       " 'Ninja Senki',\n",
       " 'VVVVVV',\n",
       " 'Red Goddess: Inner World',\n",
       " 'Mutant Mudds Super Challenge',\n",
       " 'Magician Lord',\n",
       " 'Escape Goat 2',\n",
       " 'Kero Blaster',\n",
       " 'The Bridge']"
      ]
     },
     "execution_count": 23,
     "metadata": {},
     "output_type": "execute_result"
    }
   ],
   "source": [
    "CustomSearch([\"Fez\", \"N++\"]).SearchSimilarGames()"
   ]
  },
  {
   "cell_type": "markdown",
   "metadata": {},
   "source": [
    "### For comparison, here is the same search done without the custom class."
   ]
  },
  {
   "cell_type": "code",
   "execution_count": 24,
   "metadata": {
    "scrolled": true
   },
   "outputs": [],
   "source": [
    "# get the combined feature vectors\n",
    "combo = combine_vec(get_feature_vec(\"Fez\"), get_feature_vec(\"N++\"))"
   ]
  },
  {
   "cell_type": "code",
   "execution_count": 25,
   "metadata": {},
   "outputs": [],
   "source": [
    "# find the cosine distances to all the games\n",
    "dists = getCosineToVector(transform_vector(combo))"
   ]
  },
  {
   "cell_type": "code",
   "execution_count": 26,
   "metadata": {},
   "outputs": [
    {
     "data": {
      "text/plain": [
       "name\n",
       "Celeste                         0.666297\n",
       "VVVVVV                          0.667677\n",
       "Badland                         0.672880\n",
       "Ninja Senki                     0.679507\n",
       "Escape Goat 2                   0.697674\n",
       "Machinarium                     0.709994\n",
       "Red Goddess: Inner World        0.712523\n",
       "Mutant Mudds Super Challenge    0.716224\n",
       "Magician Lord                   0.719108\n",
       "Kero Blaster                    0.722752\n",
       "dtype: float64"
      ]
     },
     "execution_count": 26,
     "metadata": {},
     "output_type": "execute_result"
    }
   ],
   "source": [
    "# put in a series to identify the games\n",
    "pd.Series(dists[0], index=distance_df.index).sort_values()[2:12]"
   ]
  },
  {
   "cell_type": "markdown",
   "metadata": {},
   "source": [
    "## These exports are the requirements for the `CustomSearch` class"
   ]
  },
  {
   "cell_type": "code",
   "execution_count": 27,
   "metadata": {},
   "outputs": [],
   "source": [
    "import pickle as pkl\n",
    "\n",
    "\n",
    "# with open(\"./model_assets/features_df.csv\", \"w+\") as f:\n",
    "#     dummied_df.to_csv(f)\n",
    "\n",
    "# with open(\"./model_assets/content.pkl\", \"wb+\") as f:\n",
    "#     pkl.dump(content, f)\n",
    "\n",
    "# with open(\"./model_assets/svd.pkl\", \"wb+\") as f:\n",
    "#     pkl.dump(svd, f)\n",
    "\n",
    "# with open(\"./model_assets/vt.pkl\", \"wb+\") as f:\n",
    "#     pkl.dump(vt, f)"
   ]
  },
  {
   "cell_type": "code",
   "execution_count": null,
   "metadata": {},
   "outputs": [],
   "source": []
  }
 ],
 "metadata": {
  "kernelspec": {
   "display_name": "Python 3",
   "language": "python",
   "name": "python3"
  },
  "language_info": {
   "codemirror_mode": {
    "name": "ipython",
    "version": 3
   },
   "file_extension": ".py",
   "mimetype": "text/x-python",
   "name": "python",
   "nbconvert_exporter": "python",
   "pygments_lexer": "ipython3",
   "version": "3.6.2"
  }
 },
 "nbformat": 4,
 "nbformat_minor": 2
}
