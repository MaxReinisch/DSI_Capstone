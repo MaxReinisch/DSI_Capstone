{
 "cells": [
  {
   "cell_type": "markdown",
   "metadata": {},
   "source": [
    "# Building the Recommendation system\n",
    "\n",
    "In this notebook, I am building a table for the consine dist for both content"
   ]
  },
  {
   "cell_type": "code",
   "execution_count": 1,
   "metadata": {},
   "outputs": [],
   "source": [
    "import pandas as pd\n",
    "from sklearn.feature_extraction.text import CountVectorizer\n",
    "from sklearn.decomposition import TruncatedSVD\n",
    "from sklearn.metrics.pairwise import pairwise_distances, cosine_distances\n",
    "from sklearn.feature_selection.variance_threshold import VarianceThreshold\n",
    "from scipy import sparse\n",
    "import numpy as np\n",
    "import matplotlib.pyplot as plt\n",
    "import seaborn as sns\n",
    "import json\n",
    "import csv\n",
    "from collections import Counter"
   ]
  },
  {
   "cell_type": "markdown",
   "metadata": {},
   "source": [
    "# Content: \n",
    "\n",
    "Import Game Meta Data"
   ]
  },
  {
   "cell_type": "code",
   "execution_count": 2,
   "metadata": {},
   "outputs": [],
   "source": [
    "from os import listdir\n",
    "from os.path import isfile, join\n",
    "onlyfiles = [f for f in listdir('./GB_API_Scrape//game_meta_data/') if isfile(join('./GB_API_Scrape//game_meta_data/', f))] #get list of files\n",
    "list_of_meta = [] # fill this list with dictionaries \n",
    "feature_list = ['guid', 'name', 'concepts', 'themes', 'deck', 'developers', 'publishers', 'genres'] #list of features I care about\n",
    "for file in onlyfiles:\n",
    "    #looping through files, open them, put their contents into a dict, and add it to the list\n",
    "    with open(f'./GB_API_Scrape//game_meta_data/{file}', 'r') as f:\n",
    "        game = json.load(f)\n",
    "        game_dict = {key:value for key, value in game.items() if key in feature_list}\n",
    "\n",
    "        # convert lists to strings \n",
    "        for key, value in game_dict.items():\n",
    "            if type(value) == list:\n",
    "                game_dict[key] = ', '.join(value)\n",
    "        list_of_meta.append(game_dict)\n",
    "# make pandas dataframe\n",
    "df = pd.DataFrame(list_of_meta)\n",
    "df.fillna(\"\", inplace=True)"
   ]
  },
  {
   "cell_type": "markdown",
   "metadata": {},
   "source": [
    "## Here we have the raw data frame.  We need to:\n",
    "* Dummy the columns \n",
    "* Drop features that are too sparse\n",
    "* Drop games that have too few features"
   ]
  },
  {
   "cell_type": "code",
   "execution_count": 3,
   "metadata": {},
   "outputs": [
    {
     "data": {
      "text/html": [
       "<div>\n",
       "<table border=\"1\" class=\"dataframe\">\n",
       "  <thead>\n",
       "    <tr style=\"text-align: right;\">\n",
       "      <th></th>\n",
       "      <th>concepts</th>\n",
       "      <th>deck</th>\n",
       "      <th>developers</th>\n",
       "      <th>genres</th>\n",
       "      <th>guid</th>\n",
       "      <th>name</th>\n",
       "      <th>publishers</th>\n",
       "      <th>themes</th>\n",
       "    </tr>\n",
       "  </thead>\n",
       "  <tbody>\n",
       "    <tr>\n",
       "      <th>0</th>\n",
       "      <td>Achievements, PlayStation Trophies, Steam, Dig...</td>\n",
       "      <td>Kill The Bad Guy is a puzzle-game where physic...</td>\n",
       "      <td>Exkee</td>\n",
       "      <td>Strategy, Simulation</td>\n",
       "      <td>3030-46539</td>\n",
       "      <td>Kill the Bad Guy</td>\n",
       "      <td></td>\n",
       "      <td></td>\n",
       "    </tr>\n",
       "    <tr>\n",
       "      <th>1</th>\n",
       "      <td></td>\n",
       "      <td>Zeal is an indie online ARPG developed by Lyca...</td>\n",
       "      <td>Lycanic Studios</td>\n",
       "      <td>Action, Role-Playing, MOBA</td>\n",
       "      <td>3030-68714</td>\n",
       "      <td>Zeal</td>\n",
       "      <td></td>\n",
       "      <td>Fantasy, Medieval</td>\n",
       "    </tr>\n",
       "    <tr>\n",
       "      <th>2</th>\n",
       "      <td></td>\n",
       "      <td>Vertical Drop Heroes HD is an action platformer.</td>\n",
       "      <td>Nerdook Productions</td>\n",
       "      <td>Action, Role-Playing, Platformer</td>\n",
       "      <td>3030-48249</td>\n",
       "      <td>Vertical Drop Heroes HD</td>\n",
       "      <td></td>\n",
       "      <td>Fantasy</td>\n",
       "    </tr>\n",
       "    <tr>\n",
       "      <th>3</th>\n",
       "      <td>Unreal Engine 4, PlayStation VR Support</td>\n",
       "      <td>A puzzle mystery game for PS VR.</td>\n",
       "      <td>Tarsier Studios</td>\n",
       "      <td>Puzzle</td>\n",
       "      <td>3030-57976</td>\n",
       "      <td>Statik</td>\n",
       "      <td></td>\n",
       "      <td></td>\n",
       "    </tr>\n",
       "    <tr>\n",
       "      <th>4</th>\n",
       "      <td></td>\n",
       "      <td>A compilation of all three Banner Saga titles.</td>\n",
       "      <td>Stoic</td>\n",
       "      <td>Strategy, Role-Playing, Compilation</td>\n",
       "      <td>3030-68731</td>\n",
       "      <td>The Banner Saga Trilogy</td>\n",
       "      <td></td>\n",
       "      <td>Fantasy</td>\n",
       "    </tr>\n",
       "  </tbody>\n",
       "</table>\n",
       "</div>"
      ],
      "text/plain": [
       "                                            concepts  \\\n",
       "0  Achievements, PlayStation Trophies, Steam, Dig...   \n",
       "1                                                      \n",
       "2                                                      \n",
       "3            Unreal Engine 4, PlayStation VR Support   \n",
       "4                                                      \n",
       "\n",
       "                                                deck           developers  \\\n",
       "0  Kill The Bad Guy is a puzzle-game where physic...                Exkee   \n",
       "1  Zeal is an indie online ARPG developed by Lyca...      Lycanic Studios   \n",
       "2   Vertical Drop Heroes HD is an action platformer.  Nerdook Productions   \n",
       "3                   A puzzle mystery game for PS VR.      Tarsier Studios   \n",
       "4     A compilation of all three Banner Saga titles.                Stoic   \n",
       "\n",
       "                                genres        guid                     name  \\\n",
       "0                 Strategy, Simulation  3030-46539         Kill the Bad Guy   \n",
       "1           Action, Role-Playing, MOBA  3030-68714                     Zeal   \n",
       "2     Action, Role-Playing, Platformer  3030-48249  Vertical Drop Heroes HD   \n",
       "3                               Puzzle  3030-57976                   Statik   \n",
       "4  Strategy, Role-Playing, Compilation  3030-68731  The Banner Saga Trilogy   \n",
       "\n",
       "  publishers             themes  \n",
       "0                                \n",
       "1             Fantasy, Medieval  \n",
       "2                       Fantasy  \n",
       "3                                \n",
       "4                       Fantasy  "
      ]
     },
     "execution_count": 3,
     "metadata": {},
     "output_type": "execute_result"
    }
   ],
   "source": [
    "df.head()"
   ]
  },
  {
   "cell_type": "code",
   "execution_count": 4,
   "metadata": {},
   "outputs": [],
   "source": [
    "def split_features_from_col(df, col):\n",
    "    '''\n",
    "    Returns a dataframe of 1 hot encoded features from the selected col \n",
    "    '''\n",
    "    df[col] = ['' if entry == None else entry for entry in df[col] ]\n",
    "    cvec = CountVectorizer(stop_words='english', tokenizer=lambda x: x.split(', '))\n",
    "    bow = cvec.fit_transform(df[col])\n",
    "    ret_df  = pd.DataFrame(bow.todense(),\n",
    "                       columns=map(lambda x: col + \"_\" + x, cvec.get_feature_names()))\n",
    "    ret_df.drop(col+'_', 1, inplace=True)\n",
    "    return ret_df\n",
    "\n",
    "def split_features(df, list_of_cols):\n",
    "    '''\n",
    "    Returns a dataframe of 1 hot encoded features from a list of cols\n",
    "    '''\n",
    "    ret_df = df.loc[:, ['name', 'guid']]\n",
    "    for col in list_of_cols:\n",
    "        ret_df = pd.merge(ret_df, split_features_from_col(df, col), left_index=True, right_index=True)\n",
    "        \n",
    "    return ret_df"
   ]
  },
  {
   "cell_type": "code",
   "execution_count": 5,
   "metadata": {},
   "outputs": [],
   "source": [
    "# We have 4 features that we want to split\n",
    "dummied_df = split_features(df, ['concepts', 'genres', 'themes', 'developers'])"
   ]
  },
  {
   "cell_type": "code",
   "execution_count": 6,
   "metadata": {},
   "outputs": [
    {
     "data": {
      "text/plain": [
       "(1746, 5072)"
      ]
     },
     "execution_count": 6,
     "metadata": {},
     "output_type": "execute_result"
    }
   ],
   "source": [
    "dummied_df.shape"
   ]
  },
  {
   "cell_type": "markdown",
   "metadata": {},
   "source": [
    "##  Manual Feature Reduction"
   ]
  },
  {
   "cell_type": "code",
   "execution_count": 7,
   "metadata": {},
   "outputs": [
    {
     "data": {
      "text/plain": [
       "concepts_digital distribution    0.236484\n",
       "concepts_steam                   0.193403\n",
       "themes_fantasy                   0.171660\n",
       "genres_action                    0.169722\n",
       "themes_sci-fi                    0.154435\n",
       "concepts_indie                   0.128014\n",
       "concepts_steam achievements      0.127613\n",
       "genres_adventure                 0.114020\n",
       "genres_role-playing              0.111472\n",
       "concepts_achievements            0.108037\n",
       "genres_platformer                0.104998\n",
       "genres_action-adventure          0.104123\n",
       "concepts_playstation trophies    0.102367\n",
       "concepts_steam trading cards     0.100156\n",
       "concepts_gog.com                 0.097034\n",
       "concepts_2d                      0.093879\n",
       "concepts_voice acting            0.090693\n",
       "themes_comedy                    0.088397\n",
       "concepts_male protagonists       0.084689\n",
       "genres_puzzle                    0.081881\n",
       "dtype: float64"
      ]
     },
     "execution_count": 7,
     "metadata": {},
     "output_type": "execute_result"
    }
   ],
   "source": [
    "dummied_df.var().sort_values(ascending=False)[0:20]"
   ]
  },
  {
   "cell_type": "markdown",
   "metadata": {},
   "source": [
    "I don't want features like concepts_digital distribution or concepts_steam.\\* or concepts_pax.\\* or concepts_e3.\\*"
   ]
  },
  {
   "cell_type": "code",
   "execution_count": 8,
   "metadata": {},
   "outputs": [
    {
     "name": "stdout",
     "output_type": "stream",
     "text": [
      "Dropping 54 columns\n"
     ]
    }
   ],
   "source": [
    "drop_cols = [\"concepts_digital distribution\"]\n",
    "for col in dummied_df.columns:\n",
    "    if (\"concepts_steam\" in col) or (\"concepts_pax\" in col) or (\"concepts_e3\" in col):\n",
    "        drop_cols.append(col)\n",
    "drop_cols[0:10]\n",
    "print(f\"Dropping {len(drop_cols)} columns\")"
   ]
  },
  {
   "cell_type": "code",
   "execution_count": 9,
   "metadata": {},
   "outputs": [],
   "source": [
    "dummied_df.drop(drop_cols, 1, inplace=True)"
   ]
  },
  {
   "cell_type": "markdown",
   "metadata": {},
   "source": [
    "### Dropping games with too few (5 or less) features"
   ]
  },
  {
   "cell_type": "code",
   "execution_count": 10,
   "metadata": {
    "scrolled": true
   },
   "outputs": [
    {
     "data": {
      "text/plain": [
       "1097"
      ]
     },
     "execution_count": 10,
     "metadata": {},
     "output_type": "execute_result"
    }
   ],
   "source": [
    "thresh = 6\n",
    "(dummied_df.iloc[:,2:].T.sum()>=thresh).sum()"
   ]
  },
  {
   "cell_type": "code",
   "execution_count": 11,
   "metadata": {
    "scrolled": true
   },
   "outputs": [],
   "source": [
    "dummied_df.drop(dummied_df[dummied_df.iloc[:,2:].T.sum()<thresh].index, 0, inplace=True)"
   ]
  },
  {
   "cell_type": "code",
   "execution_count": 12,
   "metadata": {},
   "outputs": [],
   "source": [
    "dummied_df.set_index(\"name\", inplace=True)"
   ]
  },
  {
   "cell_type": "code",
   "execution_count": 13,
   "metadata": {},
   "outputs": [],
   "source": [
    "dummied_df.drop(\"guid\", 1, inplace=True)"
   ]
  },
  {
   "cell_type": "code",
   "execution_count": 14,
   "metadata": {},
   "outputs": [
    {
     "data": {
      "text/plain": [
       "(1097, 5016)"
      ]
     },
     "execution_count": 14,
     "metadata": {},
     "output_type": "execute_result"
    }
   ],
   "source": [
    "dummied_df.shape"
   ]
  },
  {
   "cell_type": "markdown",
   "metadata": {},
   "source": [
    "## Using Sklearn's Variance Threshold to drop features with variance of .005 and less"
   ]
  },
  {
   "cell_type": "code",
   "execution_count": 15,
   "metadata": {},
   "outputs": [],
   "source": [
    "vt = VarianceThreshold(.005)\n",
    "thresh_df = vt.fit_transform(dummied_df)"
   ]
  },
  {
   "cell_type": "code",
   "execution_count": 16,
   "metadata": {},
   "outputs": [
    {
     "data": {
      "text/plain": [
       "(1097, 1214)"
      ]
     },
     "execution_count": 16,
     "metadata": {},
     "output_type": "execute_result"
    }
   ],
   "source": [
    "thresh_df.shape"
   ]
  },
  {
   "cell_type": "markdown",
   "metadata": {},
   "source": [
    "## Using TruncatedSVD to condense 1214 features into 150 components.  \n",
    "150 components explains 74% of the variance"
   ]
  },
  {
   "cell_type": "code",
   "execution_count": 17,
   "metadata": {},
   "outputs": [],
   "source": [
    "svd = TruncatedSVD(n_components=150)\n",
    "content = svd.fit_transform(thresh_df)"
   ]
  },
  {
   "cell_type": "code",
   "execution_count": 18,
   "metadata": {},
   "outputs": [
    {
     "data": {
      "text/plain": [
       "<Container object of 150 artists>"
      ]
     },
     "execution_count": 18,
     "metadata": {},
     "output_type": "execute_result"
    },
    {
     "data": {
      "image/png": "[encoded data removed]",
      "text/plain": [
       "<matplotlib.figure.Figure at 0x7f4fdc24a4e0>"
      ]
     },
     "metadata": {},
     "output_type": "display_data"
    }
   ],
   "source": [
    "plt.bar(range(150),svd.explained_variance_)"
   ]
  },
  {
   "cell_type": "code",
   "execution_count": 19,
   "metadata": {},
   "outputs": [
    {
     "data": {
      "text/plain": [
       "[<matplotlib.lines.Line2D at 0x7f4fd73e35c0>]"
      ]
     },
     "execution_count": 19,
     "metadata": {},
     "output_type": "execute_result"
    },
    {
     "data": {
      "image/png": "[encoded data removed]",
      "text/plain": [
       "<matplotlib.figure.Figure at 0x7f4fd77186a0>"
      ]
     },
     "metadata": {},
     "output_type": "display_data"
    }
   ],
   "source": [
    "plt.plot(range(150), np.cumsum(svd.explained_variance_ratio_))"
   ]
  },
  {
   "cell_type": "markdown",
   "metadata": {},
   "source": [
    "# Now to make the simularity matrix\n",
    "* uses cosine distance\n",
    "* simularity matrix stored in pandas dataframe called `distance_df`\n"
   ]
  },
  {
   "cell_type": "code",
   "execution_count": 20,
   "metadata": {},
   "outputs": [],
   "source": [
    "sparse_content = sparse.csr_matrix(content)"
   ]
  },
  {
   "cell_type": "code",
   "execution_count": 21,
   "metadata": {},
   "outputs": [
    {
     "data": {
      "text/html": [
       "<div>\n",
       "<table border=\"1\" class=\"dataframe\">\n",
       "  <thead>\n",
       "    <tr style=\"text-align: right;\">\n",
       "      <th>name</th>\n",
       "      <th>Kill the Bad Guy</th>\n",
       "      <th>Zeal</th>\n",
       "      <th>Giana Sisters: Twisted Dreams</th>\n",
       "      <th>Warriors All-Stars</th>\n",
       "      <th>Ultra Street Fighter IV</th>\n",
       "      <th>Arcania: Gothic 4</th>\n",
       "      <th>Lichdom: Battlemage</th>\n",
       "      <th>The King of Fighters Collection: The Orochi Saga</th>\n",
       "      <th>Alien Shooter</th>\n",
       "      <th>JumpJet Rex</th>\n",
       "      <th>...</th>\n",
       "      <th>Alienation</th>\n",
       "      <th>World Heroes 2 JET</th>\n",
       "      <th>Way of Redemption</th>\n",
       "      <th>Mystereet F: Tantei-tachi no Curtain Call</th>\n",
       "      <th>Hotline Miami 2: Wrong Number</th>\n",
       "      <th>The Magic Circle</th>\n",
       "      <th>Gran Turismo Sport</th>\n",
       "      <th>Guts and Glory</th>\n",
       "      <th>Mighty No. 9</th>\n",
       "      <th>Sonic Forces</th>\n",
       "    </tr>\n",
       "    <tr>\n",
       "      <th>name</th>\n",
       "      <th></th>\n",
       "      <th></th>\n",
       "      <th></th>\n",
       "      <th></th>\n",
       "      <th></th>\n",
       "      <th></th>\n",
       "      <th></th>\n",
       "      <th></th>\n",
       "      <th></th>\n",
       "      <th></th>\n",
       "      <th></th>\n",
       "      <th></th>\n",
       "      <th></th>\n",
       "      <th></th>\n",
       "      <th></th>\n",
       "      <th></th>\n",
       "      <th></th>\n",
       "      <th></th>\n",
       "      <th></th>\n",
       "      <th></th>\n",
       "      <th></th>\n",
       "    </tr>\n",
       "  </thead>\n",
       "  <tbody>\n",
       "    <tr>\n",
       "      <th>Kill the Bad Guy</th>\n",
       "      <td>0.000000</td>\n",
       "      <td>0.978199</td>\n",
       "      <td>0.825618</td>\n",
       "      <td>1.014190</td>\n",
       "      <td>0.872995</td>\n",
       "      <td>0.921146</td>\n",
       "      <td>0.995766</td>\n",
       "      <td>1.009096</td>\n",
       "      <td>0.976556</td>\n",
       "      <td>1.014306</td>\n",
       "      <td>...</td>\n",
       "      <td>0.957869</td>\n",
       "      <td>0.996987</td>\n",
       "      <td>1.019170</td>\n",
       "      <td>0.998209</td>\n",
       "      <td>0.957836</td>\n",
       "      <td>0.980697</td>\n",
       "      <td>1.030605</td>\n",
       "      <td>1.027174</td>\n",
       "      <td>0.916695</td>\n",
       "      <td>0.977628</td>\n",
       "    </tr>\n",
       "    <tr>\n",
       "      <th>Zeal</th>\n",
       "      <td>0.978199</td>\n",
       "      <td>0.000000</td>\n",
       "      <td>0.934319</td>\n",
       "      <td>0.487563</td>\n",
       "      <td>1.012192</td>\n",
       "      <td>0.756049</td>\n",
       "      <td>0.500531</td>\n",
       "      <td>1.012192</td>\n",
       "      <td>0.809204</td>\n",
       "      <td>1.008336</td>\n",
       "      <td>...</td>\n",
       "      <td>0.995783</td>\n",
       "      <td>1.000855</td>\n",
       "      <td>0.432768</td>\n",
       "      <td>0.990797</td>\n",
       "      <td>0.864137</td>\n",
       "      <td>0.796216</td>\n",
       "      <td>0.994696</td>\n",
       "      <td>0.980154</td>\n",
       "      <td>0.881339</td>\n",
       "      <td>0.829145</td>\n",
       "    </tr>\n",
       "    <tr>\n",
       "      <th>Giana Sisters: Twisted Dreams</th>\n",
       "      <td>0.825618</td>\n",
       "      <td>0.934319</td>\n",
       "      <td>0.000000</td>\n",
       "      <td>0.924187</td>\n",
       "      <td>0.840163</td>\n",
       "      <td>0.881668</td>\n",
       "      <td>0.920170</td>\n",
       "      <td>1.001243</td>\n",
       "      <td>0.958576</td>\n",
       "      <td>0.809863</td>\n",
       "      <td>...</td>\n",
       "      <td>0.883003</td>\n",
       "      <td>0.994864</td>\n",
       "      <td>0.937035</td>\n",
       "      <td>0.993760</td>\n",
       "      <td>0.880805</td>\n",
       "      <td>0.921098</td>\n",
       "      <td>0.994085</td>\n",
       "      <td>0.917323</td>\n",
       "      <td>0.703323</td>\n",
       "      <td>0.753291</td>\n",
       "    </tr>\n",
       "    <tr>\n",
       "      <th>Warriors All-Stars</th>\n",
       "      <td>1.014190</td>\n",
       "      <td>0.487563</td>\n",
       "      <td>0.924187</td>\n",
       "      <td>0.000000</td>\n",
       "      <td>0.940749</td>\n",
       "      <td>0.944137</td>\n",
       "      <td>0.730326</td>\n",
       "      <td>0.869447</td>\n",
       "      <td>0.879576</td>\n",
       "      <td>1.055383</td>\n",
       "      <td>...</td>\n",
       "      <td>1.021109</td>\n",
       "      <td>0.988570</td>\n",
       "      <td>0.486553</td>\n",
       "      <td>1.001148</td>\n",
       "      <td>0.859728</td>\n",
       "      <td>0.819226</td>\n",
       "      <td>1.005107</td>\n",
       "      <td>1.040812</td>\n",
       "      <td>0.945948</td>\n",
       "      <td>0.762020</td>\n",
       "    </tr>\n",
       "    <tr>\n",
       "      <th>Ultra Street Fighter IV</th>\n",
       "      <td>0.872995</td>\n",
       "      <td>1.012192</td>\n",
       "      <td>0.840163</td>\n",
       "      <td>0.940749</td>\n",
       "      <td>0.000000</td>\n",
       "      <td>0.911902</td>\n",
       "      <td>0.856463</td>\n",
       "      <td>0.797041</td>\n",
       "      <td>0.979927</td>\n",
       "      <td>0.881597</td>\n",
       "      <td>...</td>\n",
       "      <td>0.921085</td>\n",
       "      <td>0.759502</td>\n",
       "      <td>1.008670</td>\n",
       "      <td>0.948804</td>\n",
       "      <td>1.022598</td>\n",
       "      <td>0.965358</td>\n",
       "      <td>0.982897</td>\n",
       "      <td>0.991643</td>\n",
       "      <td>0.909809</td>\n",
       "      <td>0.980951</td>\n",
       "    </tr>\n",
       "  </tbody>\n",
       "</table>\n",
       "<p>5 rows × 1097 columns</p>\n",
       "</div>"
      ],
      "text/plain": [
       "name                           Kill the Bad Guy      Zeal  \\\n",
       "name                                                        \n",
       "Kill the Bad Guy                       0.000000  0.978199   \n",
       "Zeal                                   0.978199  0.000000   \n",
       "Giana Sisters: Twisted Dreams          0.825618  0.934319   \n",
       "Warriors All-Stars                     1.014190  0.487563   \n",
       "Ultra Street Fighter IV                0.872995  1.012192   \n",
       "\n",
       "name                           Giana Sisters: Twisted Dreams  \\\n",
       "name                                                           \n",
       "Kill the Bad Guy                                    0.825618   \n",
       "Zeal                                                0.934319   \n",
       "Giana Sisters: Twisted Dreams                       0.000000   \n",
       "Warriors All-Stars                                  0.924187   \n",
       "Ultra Street Fighter IV                             0.840163   \n",
       "\n",
       "name                           Warriors All-Stars  Ultra Street Fighter IV  \\\n",
       "name                                                                         \n",
       "Kill the Bad Guy                         1.014190                 0.872995   \n",
       "Zeal                                     0.487563                 1.012192   \n",
       "Giana Sisters: Twisted Dreams            0.924187                 0.840163   \n",
       "Warriors All-Stars                       0.000000                 0.940749   \n",
       "Ultra Street Fighter IV                  0.940749                 0.000000   \n",
       "\n",
       "name                           Arcania: Gothic 4  Lichdom: Battlemage  \\\n",
       "name                                                                    \n",
       "Kill the Bad Guy                        0.921146             0.995766   \n",
       "Zeal                                    0.756049             0.500531   \n",
       "Giana Sisters: Twisted Dreams           0.881668             0.920170   \n",
       "Warriors All-Stars                      0.944137             0.730326   \n",
       "Ultra Street Fighter IV                 0.911902             0.856463   \n",
       "\n",
       "name                           The King of Fighters Collection: The Orochi Saga  \\\n",
       "name                                                                              \n",
       "Kill the Bad Guy                                                       1.009096   \n",
       "Zeal                                                                   1.012192   \n",
       "Giana Sisters: Twisted Dreams                                          1.001243   \n",
       "Warriors All-Stars                                                     0.869447   \n",
       "Ultra Street Fighter IV                                                0.797041   \n",
       "\n",
       "name                           Alien Shooter  JumpJet Rex      ...       \\\n",
       "name                                                           ...        \n",
       "Kill the Bad Guy                    0.976556     1.014306      ...        \n",
       "Zeal                                0.809204     1.008336      ...        \n",
       "Giana Sisters: Twisted Dreams       0.958576     0.809863      ...        \n",
       "Warriors All-Stars                  0.879576     1.055383      ...        \n",
       "Ultra Street Fighter IV             0.979927     0.881597      ...        \n",
       "\n",
       "name                           Alienation  World Heroes 2 JET  \\\n",
       "name                                                            \n",
       "Kill the Bad Guy                 0.957869            0.996987   \n",
       "Zeal                             0.995783            1.000855   \n",
       "Giana Sisters: Twisted Dreams    0.883003            0.994864   \n",
       "Warriors All-Stars               1.021109            0.988570   \n",
       "Ultra Street Fighter IV          0.921085            0.759502   \n",
       "\n",
       "name                           Way of Redemption  \\\n",
       "name                                               \n",
       "Kill the Bad Guy                        1.019170   \n",
       "Zeal                                    0.432768   \n",
       "Giana Sisters: Twisted Dreams           0.937035   \n",
       "Warriors All-Stars                      0.486553   \n",
       "Ultra Street Fighter IV                 1.008670   \n",
       "\n",
       "name                           Mystereet F: Tantei-tachi no Curtain Call  \\\n",
       "name                                                                       \n",
       "Kill the Bad Guy                                                0.998209   \n",
       "Zeal                                                            0.990797   \n",
       "Giana Sisters: Twisted Dreams                                   0.993760   \n",
       "Warriors All-Stars                                              1.001148   \n",
       "Ultra Street Fighter IV                                         0.948804   \n",
       "\n",
       "name                           Hotline Miami 2: Wrong Number  \\\n",
       "name                                                           \n",
       "Kill the Bad Guy                                    0.957836   \n",
       "Zeal                                                0.864137   \n",
       "Giana Sisters: Twisted Dreams                       0.880805   \n",
       "Warriors All-Stars                                  0.859728   \n",
       "Ultra Street Fighter IV                             1.022598   \n",
       "\n",
       "name                           The Magic Circle  Gran Turismo Sport  \\\n",
       "name                                                                  \n",
       "Kill the Bad Guy                       0.980697            1.030605   \n",
       "Zeal                                   0.796216            0.994696   \n",
       "Giana Sisters: Twisted Dreams          0.921098            0.994085   \n",
       "Warriors All-Stars                     0.819226            1.005107   \n",
       "Ultra Street Fighter IV                0.965358            0.982897   \n",
       "\n",
       "name                           Guts and Glory  Mighty No. 9  Sonic Forces  \n",
       "name                                                                       \n",
       "Kill the Bad Guy                     1.027174      0.916695      0.977628  \n",
       "Zeal                                 0.980154      0.881339      0.829145  \n",
       "Giana Sisters: Twisted Dreams        0.917323      0.703323      0.753291  \n",
       "Warriors All-Stars                   1.040812      0.945948      0.762020  \n",
       "Ultra Street Fighter IV              0.991643      0.909809      0.980951  \n",
       "\n",
       "[5 rows x 1097 columns]"
      ]
     },
     "execution_count": 21,
     "metadata": {},
     "output_type": "execute_result"
    }
   ],
   "source": [
    "distances = pairwise_distances(content, metric='cosine') \n",
    "distance_df = pd.DataFrame(distances, index=dummied_df.index, columns=dummied_df.index)\n",
    "distance_df.head()"
   ]
  },
  {
   "cell_type": "code",
   "execution_count": 22,
   "metadata": {},
   "outputs": [],
   "source": [
    "# Functions that interact with the content filter\n",
    "\n",
    "def getSimilarGames(game, num=10):\n",
    "    '''\n",
    "    This function searches for a game and returns the similar games\n",
    "    '''\n",
    "    return get_simular_games_from_title(search_game(game)[0], num)\n",
    "\n",
    "def search_game(search): # Added to class\n",
    "    '''\n",
    "    This helper function looks for games that match the search and returns them as a list\n",
    "    '''\n",
    "    return [game for game in distance_df.columns if search.lower() in game.lower() ]\n",
    "\n",
    "def get_simular_games_from_title(title, num):\n",
    "    '''\n",
    "    This helper function returns the top num similar games given a title\n",
    "    '''\n",
    "    return distance_df[title].sort_values(ascending=True).index[1:num+1]\n",
    "\n",
    "# requires the dummied_df, and needs to be run through vt and svd (maybe use a pipe)\n",
    "def get_feature_vec(game):\n",
    "    '''\n",
    "    This function returns the binary vector associated with the feature space of a single game entry in the dummied dataframe\n",
    "    '''\n",
    "    title = search_game(game)[0]\n",
    "    return dummied_df.loc[title, :].values\n",
    "\n",
    "def combine_vec(v1, v2, method = 'or'):\n",
    "    '''\n",
    "    combines 2 feature vectors in the specified method\n",
    "    method = {'union', 'and', 'or', 'intersect', 'add'}\n",
    "    '''\n",
    "    # add = v1+v2\n",
    "    # XOR = (v1+v2) %2\n",
    "    # or = (v1+v2)>0\n",
    "    # and/intersect = (v1*v2) \n",
    "    \n",
    "    if method == 'or' or method == 'union':\n",
    "        return ((v1+v2)>0).astype(int)\n",
    "    if method == 'and' or method == 'intersect':\n",
    "        return v1*v2\n",
    "    if method == 'add':\n",
    "        return v1+v2\n",
    "\n",
    "def transform_vector(vector):\n",
    "    '''\n",
    "    Given a binary vector of features, returns the transformed vector after feature reduction\n",
    "    '''\n",
    "    return svd.transform(vt.transform(vector.reshape(1, -1)))\n",
    "\n",
    "# Requires content\n",
    "def getCosineToVector(vector):\n",
    "    '''\n",
    "    returns a vector of cosine distances from a custom transformed vector to every game\n",
    "    '''\n",
    "    return cosine_distances(vector, content)\n",
    "\n",
    "def getSimilarFeatures(game1, game2):\n",
    "    '''\n",
    "    Prints the simularity score and common features between @param game1 and @param game2\n",
    "    '''\n",
    "    vec1 = dummied_df.loc[search_game(game1)[0], :]\n",
    "    vec2 = dummied_df.loc[search_game(game2)[0], :] \n",
    "    \n",
    "    common = vec1 & vec2\n",
    "    common = common[common==1]\n",
    "\n",
    "    print(\"Simularity Score:\")\n",
    "    print()\n",
    "    print(distance_df.loc[game1, game2])\n",
    "    print()\n",
    "    \n",
    "    print(\"Number of features:\")\n",
    "    print((vec1.sum(), vec2.sum()))\n",
    "    print()\n",
    "    \n",
    "    print(\"Number of Common Features:\")\n",
    "    print()\n",
    "    print(len(common))\n",
    "    print()\n",
    "    \n",
    "    print(\"Common features:\")\n",
    "    print()\n",
    "    print(common)\n",
    "    \n"
   ]
  },
  {
   "cell_type": "code",
   "execution_count": 23,
   "metadata": {},
   "outputs": [
    {
     "data": {
      "text/plain": [
       "Index(['Uncharted 4: A Thief's End', 'Metal Gear Solid V: The Phantom Pain',\n",
       "       'Grand Theft Auto V', 'Fallout 4', 'Resident Evil 5',\n",
       "       'The Walking Dead', 'Resident Evil', 'Resident Evil: Revelations',\n",
       "       'God of War', 'Rise of the Tomb Raider'],\n",
       "      dtype='object', name='name')"
      ]
     },
     "execution_count": 23,
     "metadata": {},
     "output_type": "execute_result"
    }
   ],
   "source": [
    "getSimilarGames(\"Last of us\")"
   ]
  },
  {
   "cell_type": "code",
   "execution_count": 24,
   "metadata": {
    "scrolled": true
   },
   "outputs": [],
   "source": [
    "# getSimilarFeatures( \"The Last of Us\", \"Grand Theft Auto V\")"
   ]
  },
  {
   "cell_type": "code",
   "execution_count": 25,
   "metadata": {},
   "outputs": [],
   "source": [
    "# distance_df.to_csv(\"./sim_matrix.csv\")"
   ]
  },
  {
   "cell_type": "code",
   "execution_count": 26,
   "metadata": {},
   "outputs": [],
   "source": [
    "# pd.read_csv(\"./sim_matrix.csv\", index_col=\"name\").head()"
   ]
  },
  {
   "cell_type": "markdown",
   "metadata": {},
   "source": [
    "## Multiple game search without using the class"
   ]
  },
  {
   "cell_type": "code",
   "execution_count": 27,
   "metadata": {
    "scrolled": true
   },
   "outputs": [],
   "source": [
    "# get the combined feature vectors\n",
    "combo = combine_vec(get_feature_vec(\"Fez\"), get_feature_vec(\"N++\"))"
   ]
  },
  {
   "cell_type": "code",
   "execution_count": 28,
   "metadata": {},
   "outputs": [],
   "source": [
    "# combo = combine_vec(combo, get_feature_vec(\"the last of us\"), \"add\")"
   ]
  },
  {
   "cell_type": "code",
   "execution_count": 29,
   "metadata": {},
   "outputs": [],
   "source": [
    "# find the cosine distances to all the games\n",
    "dists = getCosineToVector(transform_vector(combo))"
   ]
  },
  {
   "cell_type": "code",
   "execution_count": 30,
   "metadata": {},
   "outputs": [
    {
     "data": {
      "text/plain": [
       "name\n",
       "Fez              0.028611\n",
       "Celeste          0.525409\n",
       "Badland          0.526874\n",
       "VVVVVV           0.563615\n",
       "N++              0.606898\n",
       "The Bridge       0.608850\n",
       "Ninja Senki      0.615310\n",
       "Machinarium      0.620123\n",
       "Escape Goat 2    0.621264\n",
       "Kero Blaster     0.640147\n",
       "dtype: float64"
      ]
     },
     "execution_count": 30,
     "metadata": {},
     "output_type": "execute_result"
    }
   ],
   "source": [
    "# put in a series to identify the games\n",
    "pd.Series(dists[0], index=distance_df.index).sort_values()[0:10]"
   ]
  },
  {
   "cell_type": "markdown",
   "metadata": {},
   "source": [
    "## Here is a class for custom searches.  To use it, you instantiate the class with a list of the games you want to include in the search, then call get"
   ]
  },
  {
   "cell_type": "code",
   "execution_count": 43,
   "metadata": {},
   "outputs": [],
   "source": [
    "class CustomSearch(object):\n",
    "    \n",
    "    features_df = dummied_df\n",
    "    content = content\n",
    "    svd = svd\n",
    "    vt = vt\n",
    "    \n",
    "    def __init__(self, games, combination_type = \"or\"):\n",
    "        self.boolop = combination_type\n",
    "        if type(games) == type([]):\n",
    "            self.search_list=[]\n",
    "            for game in games:\n",
    "                title = self.search_game(game)\n",
    "                self.search_list.append(title)\n",
    "        else:\n",
    "            title = self.search_game(games)\n",
    "            self.search_list = [title]\n",
    "        \n",
    "    def search_game(self, search):\n",
    "        '''\n",
    "        This helper function looks for games that match the search and returns them as a list\n",
    "        '''\n",
    "        return [game for game in CustomSearch.features_df.index if search.lower() in game.lower()][0]\n",
    "    \n",
    "    def get_single_feature_vec(self, title):\n",
    "        '''\n",
    "        This helper function returns the binary vector associated with the feature space of a single game entry in the dummied dataframe\n",
    "        '''\n",
    "        return CustomSearch.features_df.loc[title, :].values\n",
    "    \n",
    "    def combine_vec(self, v1, v2, method = 'or'):\n",
    "        '''\n",
    "        combines 2 feature vectors in the specified method\n",
    "        method = {'union', 'and', 'or', 'intersect', 'add'}\n",
    "        '''\n",
    "        # add = v1+v2\n",
    "        # XOR = (v1+v2) %2\n",
    "        # or = (v1+v2)>0\n",
    "        # and/intersect = (v1*v2) \n",
    "\n",
    "        if method == 'or' or method == 'union':\n",
    "            return ((v1+v2)>0).astype(int)\n",
    "        if method == 'and' or method == 'intersect':\n",
    "            return v1*v2\n",
    "        if method == 'add':\n",
    "            return v1+v2\n",
    "\n",
    "    def getFeatureVector(self):\n",
    "        ret_vec = self.get_single_feature_vec(self.search_list[0])\n",
    "        if len(self.search_list) >1:\n",
    "            for game in self.search_list[1:]:\n",
    "                ret_vec = self.combine_vec(ret_vec, self.get_single_feature_vec(game))\n",
    "        return ret_vec\n",
    "            \n",
    "\n",
    "    def transform_vector(self, vector):\n",
    "        '''\n",
    "        Given a binary vector of features, returns the transformed vector after feature reduction\n",
    "        '''\n",
    "        return CustomSearch.svd.transform(CustomSearch.vt.transform(vector.reshape(1, -1)))\n",
    "\n",
    "    \n",
    "    # Requires content\n",
    "    def getCosineToVector(self):\n",
    "        '''\n",
    "        returns a vector of cosine distances from a custom transformed vector to every game\n",
    "        '''\n",
    "        vector = self.getFeatureVector()\n",
    "        tvec = self.transform_vector(vector)\n",
    "        return cosine_distances(tvec, content)\n",
    "\n",
    "    def SearchSimilarGames(self, n=10):\n",
    "        '''\n",
    "        Returns an ordered array of the top n most similar games to the current search feature vector\n",
    "        '''\n",
    "        return [game for game in pd.Series(self.getCosineToVector()[0], index=distance_df.index).sort_values().index if game not in self.search_list][0:10]"
   ]
  },
  {
   "cell_type": "code",
   "execution_count": 44,
   "metadata": {},
   "outputs": [],
   "source": [
    "testClass = CustomSearch([\"uncharted 4\", \"tomb raider\"])"
   ]
  },
  {
   "cell_type": "code",
   "execution_count": 45,
   "metadata": {},
   "outputs": [
    {
     "data": {
      "text/plain": [
       "['Uncharted: The Nathan Drake Collection',\n",
       " 'Hitman',\n",
       " \"Tom Clancy's The Division\",\n",
       " 'inFamous: First Light',\n",
       " 'Middle-earth: Shadow of War',\n",
       " 'The Last of Us',\n",
       " 'Metal Gear Solid V: The Phantom Pain',\n",
       " 'Bloodborne',\n",
       " 'Star Wars Battlefront',\n",
       " 'Resident Evil: Code: Veronica']"
      ]
     },
     "execution_count": 45,
     "metadata": {},
     "output_type": "execute_result"
    }
   ],
   "source": [
    "testClass.SearchSimilarGames()"
   ]
  },
  {
   "cell_type": "code",
   "execution_count": 46,
   "metadata": {},
   "outputs": [
    {
     "data": {
      "text/plain": [
       "['Badland',\n",
       " 'VVVVVV',\n",
       " 'Kero Blaster',\n",
       " 'Ninja Senki',\n",
       " 'The Bridge',\n",
       " 'Mutant Mudds',\n",
       " 'Mark of the Ninja',\n",
       " 'Escape Goat 2',\n",
       " 'Giana Sisters: Twisted Dreams',\n",
       " 'Stealth Bastard Deluxe']"
      ]
     },
     "execution_count": 46,
     "metadata": {},
     "output_type": "execute_result"
    }
   ],
   "source": [
    "CustomSearch([\"Fez\", \"N++\", \"Celeste\"]).SearchSimilarGames()"
   ]
  },
  {
   "cell_type": "markdown",
   "metadata": {},
   "source": [
    "#### TODO:\n",
    "* write pickles for appropriate objects\n",
    "* write class file in server's directory\n",
    "    * Make the static vars read from pickles\n",
    "* implement multisearch in site\n",
    "* "
   ]
  },
  {
   "cell_type": "markdown",
   "metadata": {},
   "source": [
    "features_df = dummied_df\n",
    "content = content\n",
    "svd = svd\n",
    "vt = vt"
   ]
  },
  {
   "cell_type": "code",
   "execution_count": 47,
   "metadata": {},
   "outputs": [],
   "source": [
    "import pickle as pkl\n"
   ]
  },
  {
   "cell_type": "code",
   "execution_count": 48,
   "metadata": {},
   "outputs": [],
   "source": [
    "with open(\"./model_assets/features_df.pkl\", \"wb+\") as f:\n",
    "    pkl.dump(dummied_df, f)\n",
    "\n",
    "with open(\"./model_assets/content.pkl\", \"wb+\") as f:\n",
    "    pkl.dump(content, f)\n",
    "\n",
    "with open(\"./model_assets/svd.pkl\", \"wb+\") as f:\n",
    "    pkl.dump(svd, f)\n",
    "\n",
    "with open(\"./model_assets/vt.pkl\", \"wb+\") as f:\n",
    "    pkl.dump(vt, f)"
   ]
  },
  {
   "cell_type": "code",
   "execution_count": null,
   "metadata": {},
   "outputs": [],
   "source": [
    "pkl.load()"
   ]
  }
 ],
 "metadata": {
  "kernelspec": {
   "display_name": "Python 3",
   "language": "python",
   "name": "python3"
  },
  "language_info": {
   "codemirror_mode": {
    "name": "ipython",
    "version": 3
   },
   "file_extension": ".py",
   "mimetype": "text/x-python",
   "name": "python",
   "nbconvert_exporter": "python",
   "pygments_lexer": "ipython3",
   "version": "3.6.2"
  }
 },
 "nbformat": 4,
 "nbformat_minor": 2
}
