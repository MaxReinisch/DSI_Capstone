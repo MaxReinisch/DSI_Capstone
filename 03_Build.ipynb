{
 "cells": [
  {
   "cell_type": "markdown",
   "metadata": {},
   "source": [
    "# Building the Recommendation system\n",
    "\n",
    "In this notebook, I am building the recommendation system.  \n",
    "* I will clean the data using the same process in the EDA notebook\n",
    "* I then make a cosine distance matrix and implement several functions to help search it. \n",
    "* Finally, I made a custom python class `CustomSearch` that can run a search on 1 or multiple games in a single line call"
   ]
  },
  {
   "cell_type": "code",
   "execution_count": 1,
   "metadata": {},
   "outputs": [],
   "source": [
    "import pandas as pd\n",
    "from sklearn.feature_extraction.text import CountVectorizer\n",
    "from sklearn.decomposition import TruncatedSVD\n",
    "from sklearn.metrics.pairwise import pairwise_distances, cosine_distances\n",
    "from sklearn.feature_selection.variance_threshold import VarianceThreshold\n",
    "from scipy import sparse\n",
    "import numpy as np\n",
    "import matplotlib.pyplot as plt\n",
    "import seaborn as sns\n",
    "import json\n",
    "import csv\n",
    "from collections import Counter"
   ]
  },
  {
   "cell_type": "markdown",
   "metadata": {},
   "source": [
    "# Content: \n",
    "\n",
    "Import Game Meta Data"
   ]
  },
  {
   "cell_type": "code",
   "execution_count": 2,
   "metadata": {},
   "outputs": [],
   "source": [
    "from os import listdir\n",
    "from os.path import isfile, join\n",
    "onlyfiles = [f for f in listdir('./GB_API_Scrape//game_meta_data/') if isfile(join('./GB_API_Scrape//game_meta_data/', f))] #get list of files\n",
    "list_of_meta = [] # fill this list with dictionaries \n",
    "feature_list = ['guid', 'name', 'concepts', 'themes', 'deck', 'developers', 'publishers', 'genres'] #list of features I care about\n",
    "for file in onlyfiles:\n",
    "    #looping through files, open them, put their contents into a dict, and add it to the list\n",
    "    with open(f'./GB_API_Scrape//game_meta_data/{file}', 'r') as f:\n",
    "        game = json.load(f)\n",
    "        game_dict = {key:value for key, value in game.items() if key in feature_list}\n",
    "\n",
    "        # convert lists to strings \n",
    "        for key, value in game_dict.items():\n",
    "            if type(value) == list:\n",
    "                game_dict[key] = ', '.join(value)\n",
    "        list_of_meta.append(game_dict)\n",
    "# make pandas dataframe\n",
    "df = pd.DataFrame(list_of_meta)\n",
    "df.fillna(\"\", inplace=True)"
   ]
  },
  {
   "cell_type": "markdown",
   "metadata": {},
   "source": [
    "## Here we have the raw data frame.  We need to:\n",
    "* Dummy the columns \n",
    "* Drop features that are too sparse\n",
    "* Drop games that have too few features"
   ]
  },
  {
   "cell_type": "code",
   "execution_count": 3,
   "metadata": {},
   "outputs": [
    {
     "data": {
      "text/html": [
       "<div>\n",
       "<table border=\"1\" class=\"dataframe\">\n",
       "  <thead>\n",
       "    <tr style=\"text-align: right;\">\n",
       "      <th></th>\n",
       "      <th>concepts</th>\n",
       "      <th>deck</th>\n",
       "      <th>developers</th>\n",
       "      <th>genres</th>\n",
       "      <th>guid</th>\n",
       "      <th>name</th>\n",
       "      <th>publishers</th>\n",
       "      <th>themes</th>\n",
       "    </tr>\n",
       "  </thead>\n",
       "  <tbody>\n",
       "    <tr>\n",
       "      <th>0</th>\n",
       "      <td>Achievements, PlayStation Trophies, Steam, Dig...</td>\n",
       "      <td>Kill The Bad Guy is a puzzle-game where physic...</td>\n",
       "      <td>Exkee</td>\n",
       "      <td>Strategy, Simulation</td>\n",
       "      <td>3030-46539</td>\n",
       "      <td>Kill the Bad Guy</td>\n",
       "      <td></td>\n",
       "      <td></td>\n",
       "    </tr>\n",
       "    <tr>\n",
       "      <th>1</th>\n",
       "      <td></td>\n",
       "      <td>Zeal is an indie online ARPG developed by Lyca...</td>\n",
       "      <td>Lycanic Studios</td>\n",
       "      <td>Action, Role-Playing, MOBA</td>\n",
       "      <td>3030-68714</td>\n",
       "      <td>Zeal</td>\n",
       "      <td></td>\n",
       "      <td>Fantasy, Medieval</td>\n",
       "    </tr>\n",
       "    <tr>\n",
       "      <th>2</th>\n",
       "      <td></td>\n",
       "      <td>Vertical Drop Heroes HD is an action platformer.</td>\n",
       "      <td>Nerdook Productions</td>\n",
       "      <td>Action, Role-Playing, Platformer</td>\n",
       "      <td>3030-48249</td>\n",
       "      <td>Vertical Drop Heroes HD</td>\n",
       "      <td></td>\n",
       "      <td>Fantasy</td>\n",
       "    </tr>\n",
       "    <tr>\n",
       "      <th>3</th>\n",
       "      <td>Unreal Engine 4, PlayStation VR Support</td>\n",
       "      <td>A puzzle mystery game for PS VR.</td>\n",
       "      <td>Tarsier Studios</td>\n",
       "      <td>Puzzle</td>\n",
       "      <td>3030-57976</td>\n",
       "      <td>Statik</td>\n",
       "      <td></td>\n",
       "      <td></td>\n",
       "    </tr>\n",
       "    <tr>\n",
       "      <th>4</th>\n",
       "      <td></td>\n",
       "      <td>A compilation of all three Banner Saga titles.</td>\n",
       "      <td>Stoic</td>\n",
       "      <td>Strategy, Role-Playing, Compilation</td>\n",
       "      <td>3030-68731</td>\n",
       "      <td>The Banner Saga Trilogy</td>\n",
       "      <td></td>\n",
       "      <td>Fantasy</td>\n",
       "    </tr>\n",
       "  </tbody>\n",
       "</table>\n",
       "</div>"
      ],
      "text/plain": [
       "                                            concepts  \\\n",
       "0  Achievements, PlayStation Trophies, Steam, Dig...   \n",
       "1                                                      \n",
       "2                                                      \n",
       "3            Unreal Engine 4, PlayStation VR Support   \n",
       "4                                                      \n",
       "\n",
       "                                                deck           developers  \\\n",
       "0  Kill The Bad Guy is a puzzle-game where physic...                Exkee   \n",
       "1  Zeal is an indie online ARPG developed by Lyca...      Lycanic Studios   \n",
       "2   Vertical Drop Heroes HD is an action platformer.  Nerdook Productions   \n",
       "3                   A puzzle mystery game for PS VR.      Tarsier Studios   \n",
       "4     A compilation of all three Banner Saga titles.                Stoic   \n",
       "\n",
       "                                genres        guid                     name  \\\n",
       "0                 Strategy, Simulation  3030-46539         Kill the Bad Guy   \n",
       "1           Action, Role-Playing, MOBA  3030-68714                     Zeal   \n",
       "2     Action, Role-Playing, Platformer  3030-48249  Vertical Drop Heroes HD   \n",
       "3                               Puzzle  3030-57976                   Statik   \n",
       "4  Strategy, Role-Playing, Compilation  3030-68731  The Banner Saga Trilogy   \n",
       "\n",
       "  publishers             themes  \n",
       "0                                \n",
       "1             Fantasy, Medieval  \n",
       "2                       Fantasy  \n",
       "3                                \n",
       "4                       Fantasy  "
      ]
     },
     "execution_count": 3,
     "metadata": {},
     "output_type": "execute_result"
    }
   ],
   "source": [
    "df.head()"
   ]
  },
  {
   "cell_type": "code",
   "execution_count": 4,
   "metadata": {},
   "outputs": [],
   "source": [
    "def split_features_from_col(df, col):\n",
    "    '''\n",
    "    Returns a dataframe of 1 hot encoded features from the selected col \n",
    "    '''\n",
    "    df[col] = ['' if entry == None else entry for entry in df[col] ]\n",
    "    cvec = CountVectorizer(stop_words='english', tokenizer=lambda x: x.split(', '))\n",
    "    bow = cvec.fit_transform(df[col])\n",
    "    ret_df  = pd.DataFrame(bow.todense(),\n",
    "                       columns=map(lambda x: col + \"_\" + x, cvec.get_feature_names()))\n",
    "    ret_df.drop(col+'_', 1, inplace=True)\n",
    "    return ret_df\n",
    "\n",
    "def split_features(df, list_of_cols):\n",
    "    '''\n",
    "    Returns a dataframe of 1 hot encoded features from a list of cols\n",
    "    '''\n",
    "    ret_df = df.loc[:, ['name', 'guid']]\n",
    "    for col in list_of_cols:\n",
    "        ret_df = pd.merge(ret_df, split_features_from_col(df, col), left_index=True, right_index=True)\n",
    "        \n",
    "    return ret_df"
   ]
  },
  {
   "cell_type": "code",
   "execution_count": 5,
   "metadata": {},
   "outputs": [],
   "source": [
    "# We have 4 features that we want to split\n",
    "dummied_df = split_features(df, ['concepts', 'genres', 'themes', 'developers'])"
   ]
  },
  {
   "cell_type": "code",
   "execution_count": 6,
   "metadata": {},
   "outputs": [
    {
     "data": {
      "text/plain": [
       "(1746, 5070)"
      ]
     },
     "execution_count": 6,
     "metadata": {},
     "output_type": "execute_result"
    }
   ],
   "source": [
    "dummied_df.set_index(\"name\", inplace=True)\n",
    "\n",
    "dummied_df.drop(\"guid\", 1, inplace=True)\n",
    "\n",
    "dummied_df.shape"
   ]
  },
  {
   "cell_type": "markdown",
   "metadata": {},
   "source": [
    "##  Manual Feature Reduction"
   ]
  },
  {
   "cell_type": "code",
   "execution_count": 7,
   "metadata": {},
   "outputs": [
    {
     "data": {
      "text/plain": [
       "concepts_digital distribution    0.236484\n",
       "concepts_steam                   0.193403\n",
       "themes_fantasy                   0.171660\n",
       "genres_action                    0.169722\n",
       "themes_sci-fi                    0.154435\n",
       "concepts_indie                   0.128014\n",
       "concepts_steam achievements      0.127613\n",
       "genres_adventure                 0.114020\n",
       "genres_role-playing              0.111472\n",
       "concepts_achievements            0.108037\n",
       "dtype: float64"
      ]
     },
     "execution_count": 7,
     "metadata": {},
     "output_type": "execute_result"
    }
   ],
   "source": [
    "dummied_df.var().sort_values(ascending=False)[0:10]"
   ]
  },
  {
   "cell_type": "markdown",
   "metadata": {},
   "source": [
    "I don't want features like concepts_digital distribution or concepts_steam.\\* or concepts_pax.\\* or concepts_e3.\\*"
   ]
  },
  {
   "cell_type": "code",
   "execution_count": 8,
   "metadata": {},
   "outputs": [
    {
     "name": "stdout",
     "output_type": "stream",
     "text": [
      "Dropping 58 columns\n"
     ]
    }
   ],
   "source": [
    "drop_cols = [\"concepts_digital distribution\", \"concepts_wasd movement\", \n",
    "             \"concepts_achievements\", \"concepts_playstation trophies\",\n",
    "              \"concepts_subtitles\"]\n",
    "for col in dummied_df.columns:\n",
    "    if (\"concepts_steam\" in col) or (\"concepts_pax\" in col) or (\"concepts_e3\" in col):\n",
    "        drop_cols.append(col)\n",
    "drop_cols[0:10]\n",
    "print(f\"Dropping {len(drop_cols)} columns\")"
   ]
  },
  {
   "cell_type": "code",
   "execution_count": 9,
   "metadata": {},
   "outputs": [],
   "source": [
    "dummied_df.drop(drop_cols, 1, inplace=True)"
   ]
  },
  {
   "cell_type": "markdown",
   "metadata": {},
   "source": [
    "### Dropping games with too few (5 or less) features"
   ]
  },
  {
   "cell_type": "code",
   "execution_count": 10,
   "metadata": {
    "scrolled": true
   },
   "outputs": [
    {
     "data": {
      "text/plain": [
       "1073"
      ]
     },
     "execution_count": 10,
     "metadata": {},
     "output_type": "execute_result"
    }
   ],
   "source": [
    "thresh = 6\n",
    "(dummied_df.iloc[:,2:].T.sum()>=thresh).sum()"
   ]
  },
  {
   "cell_type": "code",
   "execution_count": 11,
   "metadata": {
    "scrolled": true
   },
   "outputs": [],
   "source": [
    "dummied_df.drop(dummied_df[dummied_df.iloc[:,2:].T.sum()<thresh].index, 0, inplace=True)"
   ]
  },
  {
   "cell_type": "code",
   "execution_count": 12,
   "metadata": {},
   "outputs": [
    {
     "data": {
      "text/plain": [
       "(1073, 5012)"
      ]
     },
     "execution_count": 12,
     "metadata": {},
     "output_type": "execute_result"
    }
   ],
   "source": [
    "dummied_df.shape"
   ]
  },
  {
   "cell_type": "markdown",
   "metadata": {},
   "source": [
    "## Using Sklearn's Variance Threshold to drop features with variance of .005 and less"
   ]
  },
  {
   "cell_type": "code",
   "execution_count": 13,
   "metadata": {},
   "outputs": [],
   "source": [
    "vt = VarianceThreshold(.005)\n",
    "thresh_df = vt.fit_transform(dummied_df)"
   ]
  },
  {
   "cell_type": "code",
   "execution_count": 14,
   "metadata": {},
   "outputs": [
    {
     "data": {
      "text/plain": [
       "(1073, 1208)"
      ]
     },
     "execution_count": 14,
     "metadata": {},
     "output_type": "execute_result"
    }
   ],
   "source": [
    "thresh_df.shape"
   ]
  },
  {
   "cell_type": "markdown",
   "metadata": {},
   "source": [
    "## Using TruncatedSVD to reduce feature space\n",
    "* The goal was to capture at least 90% of the variance\n",
    "* I found that 300 components does this"
   ]
  },
  {
   "cell_type": "code",
   "execution_count": 15,
   "metadata": {},
   "outputs": [],
   "source": [
    "svd = TruncatedSVD(n_components=300)\n",
    "content = svd.fit_transform(thresh_df)"
   ]
  },
  {
   "cell_type": "markdown",
   "metadata": {},
   "source": [
    "# Now to make the simularity matrix\n",
    "* uses cosine distance\n",
    "* simularity matrix stored in pandas dataframe called `distance_df`\n"
   ]
  },
  {
   "cell_type": "code",
   "execution_count": 16,
   "metadata": {},
   "outputs": [],
   "source": [
    "sparse_content = sparse.csr_matrix(content)"
   ]
  },
  {
   "cell_type": "code",
   "execution_count": 17,
   "metadata": {},
   "outputs": [
    {
     "data": {
      "text/html": [
       "<div>\n",
       "<table border=\"1\" class=\"dataframe\">\n",
       "  <thead>\n",
       "    <tr style=\"text-align: right;\">\n",
       "      <th>name</th>\n",
       "      <th>Zeal</th>\n",
       "      <th>Giana Sisters: Twisted Dreams</th>\n",
       "      <th>Warriors All-Stars</th>\n",
       "      <th>Ultra Street Fighter IV</th>\n",
       "      <th>Arcania: Gothic 4</th>\n",
       "      <th>Lichdom: Battlemage</th>\n",
       "      <th>The King of Fighters Collection: The Orochi Saga</th>\n",
       "      <th>Alien Shooter</th>\n",
       "      <th>JumpJet Rex</th>\n",
       "      <th>Anthem</th>\n",
       "      <th>...</th>\n",
       "      <th>Alienation</th>\n",
       "      <th>World Heroes 2 JET</th>\n",
       "      <th>Way of Redemption</th>\n",
       "      <th>Mystereet F: Tantei-tachi no Curtain Call</th>\n",
       "      <th>Hotline Miami 2: Wrong Number</th>\n",
       "      <th>The Magic Circle</th>\n",
       "      <th>Gran Turismo Sport</th>\n",
       "      <th>Guts and Glory</th>\n",
       "      <th>Mighty No. 9</th>\n",
       "      <th>Sonic Forces</th>\n",
       "    </tr>\n",
       "    <tr>\n",
       "      <th>name</th>\n",
       "      <th></th>\n",
       "      <th></th>\n",
       "      <th></th>\n",
       "      <th></th>\n",
       "      <th></th>\n",
       "      <th></th>\n",
       "      <th></th>\n",
       "      <th></th>\n",
       "      <th></th>\n",
       "      <th></th>\n",
       "      <th></th>\n",
       "      <th></th>\n",
       "      <th></th>\n",
       "      <th></th>\n",
       "      <th></th>\n",
       "      <th></th>\n",
       "      <th></th>\n",
       "      <th></th>\n",
       "      <th></th>\n",
       "      <th></th>\n",
       "      <th></th>\n",
       "    </tr>\n",
       "  </thead>\n",
       "  <tbody>\n",
       "    <tr>\n",
       "      <th>Zeal</th>\n",
       "      <td>0.000000</td>\n",
       "      <td>0.938141</td>\n",
       "      <td>0.639236</td>\n",
       "      <td>1.005570</td>\n",
       "      <td>0.781601</td>\n",
       "      <td>0.588130</td>\n",
       "      <td>1.002414</td>\n",
       "      <td>0.845765</td>\n",
       "      <td>0.977440</td>\n",
       "      <td>0.532770</td>\n",
       "      <td>...</td>\n",
       "      <td>0.977181</td>\n",
       "      <td>1.001847</td>\n",
       "      <td>0.517220</td>\n",
       "      <td>1.017724</td>\n",
       "      <td>0.899563</td>\n",
       "      <td>0.837721</td>\n",
       "      <td>0.996237</td>\n",
       "      <td>1.009289</td>\n",
       "      <td>0.911808</td>\n",
       "      <td>0.871629</td>\n",
       "    </tr>\n",
       "    <tr>\n",
       "      <th>Giana Sisters: Twisted Dreams</th>\n",
       "      <td>0.938141</td>\n",
       "      <td>0.000000</td>\n",
       "      <td>0.952108</td>\n",
       "      <td>0.913315</td>\n",
       "      <td>0.904198</td>\n",
       "      <td>0.929111</td>\n",
       "      <td>1.003138</td>\n",
       "      <td>0.959817</td>\n",
       "      <td>0.836322</td>\n",
       "      <td>0.999555</td>\n",
       "      <td>...</td>\n",
       "      <td>0.898772</td>\n",
       "      <td>1.004193</td>\n",
       "      <td>0.942976</td>\n",
       "      <td>1.002356</td>\n",
       "      <td>0.916096</td>\n",
       "      <td>0.962112</td>\n",
       "      <td>1.002712</td>\n",
       "      <td>0.926630</td>\n",
       "      <td>0.780074</td>\n",
       "      <td>0.821885</td>\n",
       "    </tr>\n",
       "    <tr>\n",
       "      <th>Warriors All-Stars</th>\n",
       "      <td>0.639236</td>\n",
       "      <td>0.952108</td>\n",
       "      <td>0.000000</td>\n",
       "      <td>0.951291</td>\n",
       "      <td>0.963152</td>\n",
       "      <td>0.814962</td>\n",
       "      <td>0.927697</td>\n",
       "      <td>0.902171</td>\n",
       "      <td>0.999816</td>\n",
       "      <td>0.834512</td>\n",
       "      <td>...</td>\n",
       "      <td>0.992497</td>\n",
       "      <td>1.006173</td>\n",
       "      <td>0.715051</td>\n",
       "      <td>1.000826</td>\n",
       "      <td>0.931356</td>\n",
       "      <td>0.873099</td>\n",
       "      <td>1.015287</td>\n",
       "      <td>1.004599</td>\n",
       "      <td>0.941035</td>\n",
       "      <td>0.889685</td>\n",
       "    </tr>\n",
       "    <tr>\n",
       "      <th>Ultra Street Fighter IV</th>\n",
       "      <td>1.005570</td>\n",
       "      <td>0.913315</td>\n",
       "      <td>0.951291</td>\n",
       "      <td>0.000000</td>\n",
       "      <td>0.928852</td>\n",
       "      <td>0.886480</td>\n",
       "      <td>0.843954</td>\n",
       "      <td>0.999383</td>\n",
       "      <td>0.918656</td>\n",
       "      <td>1.001679</td>\n",
       "      <td>...</td>\n",
       "      <td>0.939886</td>\n",
       "      <td>0.780165</td>\n",
       "      <td>1.004629</td>\n",
       "      <td>0.950730</td>\n",
       "      <td>1.003902</td>\n",
       "      <td>0.960288</td>\n",
       "      <td>1.003845</td>\n",
       "      <td>0.998059</td>\n",
       "      <td>0.935235</td>\n",
       "      <td>1.000497</td>\n",
       "    </tr>\n",
       "    <tr>\n",
       "      <th>Arcania: Gothic 4</th>\n",
       "      <td>0.781601</td>\n",
       "      <td>0.904198</td>\n",
       "      <td>0.963152</td>\n",
       "      <td>0.928852</td>\n",
       "      <td>0.000000</td>\n",
       "      <td>0.800334</td>\n",
       "      <td>1.001393</td>\n",
       "      <td>0.961998</td>\n",
       "      <td>0.917262</td>\n",
       "      <td>0.934299</td>\n",
       "      <td>...</td>\n",
       "      <td>0.971011</td>\n",
       "      <td>0.967038</td>\n",
       "      <td>0.947819</td>\n",
       "      <td>0.946803</td>\n",
       "      <td>0.979807</td>\n",
       "      <td>0.865154</td>\n",
       "      <td>0.995119</td>\n",
       "      <td>0.996230</td>\n",
       "      <td>0.977566</td>\n",
       "      <td>0.958615</td>\n",
       "    </tr>\n",
       "  </tbody>\n",
       "</table>\n",
       "<p>5 rows × 1073 columns</p>\n",
       "</div>"
      ],
      "text/plain": [
       "name                               Zeal  Giana Sisters: Twisted Dreams  \\\n",
       "name                                                                     \n",
       "Zeal                           0.000000                       0.938141   \n",
       "Giana Sisters: Twisted Dreams  0.938141                       0.000000   \n",
       "Warriors All-Stars             0.639236                       0.952108   \n",
       "Ultra Street Fighter IV        1.005570                       0.913315   \n",
       "Arcania: Gothic 4              0.781601                       0.904198   \n",
       "\n",
       "name                           Warriors All-Stars  Ultra Street Fighter IV  \\\n",
       "name                                                                         \n",
       "Zeal                                     0.639236                 1.005570   \n",
       "Giana Sisters: Twisted Dreams            0.952108                 0.913315   \n",
       "Warriors All-Stars                       0.000000                 0.951291   \n",
       "Ultra Street Fighter IV                  0.951291                 0.000000   \n",
       "Arcania: Gothic 4                        0.963152                 0.928852   \n",
       "\n",
       "name                           Arcania: Gothic 4  Lichdom: Battlemage  \\\n",
       "name                                                                    \n",
       "Zeal                                    0.781601             0.588130   \n",
       "Giana Sisters: Twisted Dreams           0.904198             0.929111   \n",
       "Warriors All-Stars                      0.963152             0.814962   \n",
       "Ultra Street Fighter IV                 0.928852             0.886480   \n",
       "Arcania: Gothic 4                       0.000000             0.800334   \n",
       "\n",
       "name                           The King of Fighters Collection: The Orochi Saga  \\\n",
       "name                                                                              \n",
       "Zeal                                                                   1.002414   \n",
       "Giana Sisters: Twisted Dreams                                          1.003138   \n",
       "Warriors All-Stars                                                     0.927697   \n",
       "Ultra Street Fighter IV                                                0.843954   \n",
       "Arcania: Gothic 4                                                      1.001393   \n",
       "\n",
       "name                           Alien Shooter  JumpJet Rex    Anthem  \\\n",
       "name                                                                  \n",
       "Zeal                                0.845765     0.977440  0.532770   \n",
       "Giana Sisters: Twisted Dreams       0.959817     0.836322  0.999555   \n",
       "Warriors All-Stars                  0.902171     0.999816  0.834512   \n",
       "Ultra Street Fighter IV             0.999383     0.918656  1.001679   \n",
       "Arcania: Gothic 4                   0.961998     0.917262  0.934299   \n",
       "\n",
       "name                               ...       Alienation  World Heroes 2 JET  \\\n",
       "name                               ...                                        \n",
       "Zeal                               ...         0.977181            1.001847   \n",
       "Giana Sisters: Twisted Dreams      ...         0.898772            1.004193   \n",
       "Warriors All-Stars                 ...         0.992497            1.006173   \n",
       "Ultra Street Fighter IV            ...         0.939886            0.780165   \n",
       "Arcania: Gothic 4                  ...         0.971011            0.967038   \n",
       "\n",
       "name                           Way of Redemption  \\\n",
       "name                                               \n",
       "Zeal                                    0.517220   \n",
       "Giana Sisters: Twisted Dreams           0.942976   \n",
       "Warriors All-Stars                      0.715051   \n",
       "Ultra Street Fighter IV                 1.004629   \n",
       "Arcania: Gothic 4                       0.947819   \n",
       "\n",
       "name                           Mystereet F: Tantei-tachi no Curtain Call  \\\n",
       "name                                                                       \n",
       "Zeal                                                            1.017724   \n",
       "Giana Sisters: Twisted Dreams                                   1.002356   \n",
       "Warriors All-Stars                                              1.000826   \n",
       "Ultra Street Fighter IV                                         0.950730   \n",
       "Arcania: Gothic 4                                               0.946803   \n",
       "\n",
       "name                           Hotline Miami 2: Wrong Number  \\\n",
       "name                                                           \n",
       "Zeal                                                0.899563   \n",
       "Giana Sisters: Twisted Dreams                       0.916096   \n",
       "Warriors All-Stars                                  0.931356   \n",
       "Ultra Street Fighter IV                             1.003902   \n",
       "Arcania: Gothic 4                                   0.979807   \n",
       "\n",
       "name                           The Magic Circle  Gran Turismo Sport  \\\n",
       "name                                                                  \n",
       "Zeal                                   0.837721            0.996237   \n",
       "Giana Sisters: Twisted Dreams          0.962112            1.002712   \n",
       "Warriors All-Stars                     0.873099            1.015287   \n",
       "Ultra Street Fighter IV                0.960288            1.003845   \n",
       "Arcania: Gothic 4                      0.865154            0.995119   \n",
       "\n",
       "name                           Guts and Glory  Mighty No. 9  Sonic Forces  \n",
       "name                                                                       \n",
       "Zeal                                 1.009289      0.911808      0.871629  \n",
       "Giana Sisters: Twisted Dreams        0.926630      0.780074      0.821885  \n",
       "Warriors All-Stars                   1.004599      0.941035      0.889685  \n",
       "Ultra Street Fighter IV              0.998059      0.935235      1.000497  \n",
       "Arcania: Gothic 4                    0.996230      0.977566      0.958615  \n",
       "\n",
       "[5 rows x 1073 columns]"
      ]
     },
     "execution_count": 17,
     "metadata": {},
     "output_type": "execute_result"
    }
   ],
   "source": [
    "distances = pairwise_distances(content, metric='cosine') \n",
    "distance_df = pd.DataFrame(distances, index=dummied_df.index, columns=dummied_df.index)\n",
    "distance_df.head()"
   ]
  },
  {
   "cell_type": "code",
   "execution_count": 18,
   "metadata": {},
   "outputs": [],
   "source": [
    "# Functions that interact with the content filter\n",
    "\n",
    "def getSimilarGames(game, num=10):\n",
    "    '''\n",
    "    This function searches for a game and returns the similar games\n",
    "    '''\n",
    "    return get_simular_games_from_title(search_game(game)[0], num)\n",
    "\n",
    "def search_game(search): # Added to class\n",
    "    '''\n",
    "    This helper function looks for games that match the search and returns them as a list\n",
    "    '''\n",
    "    return [game for game in distance_df.columns if search.lower() in game.lower() ]\n",
    "\n",
    "def get_simular_games_from_title(title, num):\n",
    "    '''\n",
    "    This helper function returns the top num similar games given a title\n",
    "    '''\n",
    "    return distance_df[title].sort_values(ascending=True).index[1:num+1]\n",
    "\n",
    "# requires the dummied_df, and needs to be run through vt and svd (maybe use a pipe)\n",
    "def get_feature_vec(game):\n",
    "    '''\n",
    "    This function returns the binary vector associated with the feature space of a single game entry in the dummied dataframe\n",
    "    '''\n",
    "    title = search_game(game)[0]\n",
    "    return dummied_df.loc[title, :].values\n",
    "\n",
    "def combine_vec(v1, v2, method = 'or'):\n",
    "    '''\n",
    "    combines 2 feature vectors in the specified method\n",
    "    method = {'union', 'and', 'or', 'intersect', 'add'}\n",
    "    '''\n",
    "    # add = v1+v2\n",
    "    # XOR = (v1+v2) %2\n",
    "    # or = (v1+v2)>0\n",
    "    # and/intersect = (v1*v2) \n",
    "    \n",
    "    if method == 'or' or method == 'union':\n",
    "        return ((v1+v2)>0).astype(int)\n",
    "    if method == 'and' or method == 'intersect':\n",
    "        return v1*v2\n",
    "    if method == 'add':\n",
    "        return v1+v2\n",
    "\n",
    "def transform_vector(vector):\n",
    "    '''\n",
    "    Given a binary vector of features, returns the transformed vector after feature reduction\n",
    "    '''\n",
    "    return svd.transform(vt.transform(vector.reshape(1, -1)))\n",
    "\n",
    "# Requires content\n",
    "def getCosineToVector(vector):\n",
    "    '''\n",
    "    returns a vector of cosine distances from a custom transformed vector to every game\n",
    "    '''\n",
    "    return cosine_distances(vector, content)\n"
   ]
  },
  {
   "cell_type": "code",
   "execution_count": 19,
   "metadata": {},
   "outputs": [
    {
     "data": {
      "text/plain": [
       "Index(['VVVVVV', 'Escape Goat 2', 'Celeste', 'Badland', 'Machinarium',\n",
       "       'Jak II', 'Mutant Mudds', 'Unravel', 'Mutant Mudds Super Challenge',\n",
       "       'Pneuma: Breath of Life'],\n",
       "      dtype='object', name='name')"
      ]
     },
     "execution_count": 19,
     "metadata": {},
     "output_type": "execute_result"
    }
   ],
   "source": [
    "getSimilarGames(\"Fez\")"
   ]
  },
  {
   "cell_type": "markdown",
   "metadata": {},
   "source": [
    "# I made a class to run Custom Searches with multiple games\n",
    "Here is an example of it being used"
   ]
  },
  {
   "cell_type": "code",
   "execution_count": 20,
   "metadata": {},
   "outputs": [],
   "source": [
    "from model_assets.CustomSearch import CustomSearch"
   ]
  },
  {
   "cell_type": "code",
   "execution_count": 21,
   "metadata": {},
   "outputs": [],
   "source": [
    "testClass = CustomSearch([\"uncharted 4\", \"tomb raider\"])"
   ]
  },
  {
   "cell_type": "code",
   "execution_count": 22,
   "metadata": {},
   "outputs": [
    {
     "data": {
      "text/plain": [
       "['Uncharted: The Nathan Drake Collection',\n",
       " 'Hitman',\n",
       " 'The Last of Us',\n",
       " 'Metal Gear Solid V: The Phantom Pain',\n",
       " 'Star Wars Battlefront',\n",
       " 'Resident Evil: Revelations',\n",
       " \"Tom Clancy's The Division\",\n",
       " 'Far Cry 4',\n",
       " 'inFamous: First Light',\n",
       " 'Bloodborne']"
      ]
     },
     "execution_count": 22,
     "metadata": {},
     "output_type": "execute_result"
    }
   ],
   "source": [
    "testClass.SearchSimilarGames()"
   ]
  },
  {
   "cell_type": "code",
   "execution_count": 23,
   "metadata": {},
   "outputs": [
    {
     "data": {
      "text/plain": [
       "['Celeste',\n",
       " 'Badland',\n",
       " 'Ninja Senki',\n",
       " 'VVVVVV',\n",
       " 'Red Goddess: Inner World',\n",
       " 'Mutant Mudds Super Challenge',\n",
       " 'Magician Lord',\n",
       " 'Escape Goat 2',\n",
       " 'Kero Blaster',\n",
       " 'The Bridge']"
      ]
     },
     "execution_count": 23,
     "metadata": {},
     "output_type": "execute_result"
    }
   ],
   "source": [
    "CustomSearch([\"Fez\", \"N++\"]).SearchSimilarGames()"
   ]
  },
  {
   "cell_type": "markdown",
   "metadata": {},
   "source": [
    "### For comparison, here is the same search done without the custom class."
   ]
  },
  {
   "cell_type": "code",
   "execution_count": 24,
   "metadata": {
    "scrolled": true
   },
   "outputs": [],
   "source": [
    "# get the combined feature vectors\n",
    "combo = combine_vec(get_feature_vec(\"Fez\"), get_feature_vec(\"N++\"))"
   ]
  },
  {
   "cell_type": "code",
   "execution_count": 25,
   "metadata": {},
   "outputs": [],
   "source": [
    "# find the cosine distances to all the games\n",
    "dists = getCosineToVector(transform_vector(combo))"
   ]
  },
  {
   "cell_type": "code",
   "execution_count": 26,
   "metadata": {},
   "outputs": [
    {
     "data": {
      "text/plain": [
       "name\n",
       "Celeste                         0.666249\n",
       "VVVVVV                          0.668538\n",
       "Badland                         0.670113\n",
       "Ninja Senki                     0.679771\n",
       "Escape Goat 2                   0.694125\n",
       "Red Goddess: Inner World        0.709668\n",
       "Machinarium                     0.712792\n",
       "Mutant Mudds Super Challenge    0.713111\n",
       "Magician Lord                   0.722529\n",
       "The Bridge                      0.723623\n",
       "dtype: float64"
      ]
     },
     "execution_count": 26,
     "metadata": {},
     "output_type": "execute_result"
    }
   ],
   "source": [
    "# put in a series to identify the games\n",
    "pd.Series(dists[0], index=distance_df.index).sort_values()[2:12]"
   ]
  },
  {
   "cell_type": "markdown",
   "metadata": {},
   "source": [
    "## These exports are the requirements for the `CustomSearch` class"
   ]
  },
  {
   "cell_type": "code",
   "execution_count": 27,
   "metadata": {},
   "outputs": [],
   "source": [
    "import pickle as pkl\n",
    "\n",
    "\n",
    "# with open(\"./model_assets/features_df.csv\", \"w+\") as f:\n",
    "#     dummied_df.to_csv(f)\n",
    "\n",
    "# with open(\"./model_assets/content.pkl\", \"wb+\") as f:\n",
    "#     pkl.dump(content, f)\n",
    "\n",
    "# with open(\"./model_assets/svd.pkl\", \"wb+\") as f:\n",
    "#     pkl.dump(svd, f)\n",
    "\n",
    "# with open(\"./model_assets/vt.pkl\", \"wb+\") as f:\n",
    "#     pkl.dump(vt, f)"
   ]
  },
  {
   "cell_type": "code",
   "execution_count": null,
   "metadata": {},
   "outputs": [],
   "source": []
  }
 ],
 "metadata": {
  "kernelspec": {
   "display_name": "Python 3",
   "language": "python",
   "name": "python3"
  },
  "language_info": {
   "codemirror_mode": {
    "name": "ipython",
    "version": 3
   },
   "file_extension": ".py",
   "mimetype": "text/x-python",
   "name": "python",
   "nbconvert_exporter": "python",
   "pygments_lexer": "ipython3",
   "version": "3.6.2"
  }
 },
 "nbformat": 4,
 "nbformat_minor": 2
}
