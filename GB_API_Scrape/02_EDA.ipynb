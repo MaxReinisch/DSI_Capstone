{
 "cells": [
  {
   "cell_type": "code",
   "execution_count": 1,
   "metadata": {},
   "outputs": [],
   "source": [
    "import pandas as pd\n",
    "import numpy as np\n",
    "import matplotlib.pyplot as plt\n",
    "import seaborn as sns\n",
    "import json\n",
    "import csv\n",
    "from collections import Counter"
   ]
  },
  {
   "cell_type": "markdown",
   "metadata": {},
   "source": [
    "## Reading in the User Reviews\n",
    "\n",
    "Var `users` is just a count of the reviews written by an individual user.\n"
   ]
  },
  {
   "cell_type": "code",
   "execution_count": 2,
   "metadata": {},
   "outputs": [],
   "source": [
    "with open(f'./review_data/reviews_list_100.json', 'r') as f:\n",
    "        file = json.load(f)"
   ]
  },
  {
   "cell_type": "code",
   "execution_count": 3,
   "metadata": {},
   "outputs": [],
   "source": [
    "users = Counter()\n",
    "reviews = []\n",
    "for i in range(0,26900, 100):\n",
    "    with open(f'./review_data/reviews_list_{i}.json', 'r') as f:\n",
    "        file = json.load(f)\n",
    "        reviews.extend(file) # TODO implement this part.  Forgot to scrape the actual games that the review is for\n",
    "    users.update([review['reviewer'] for review in file])\n"
   ]
  },
  {
   "cell_type": "markdown",
   "metadata": {},
   "source": [
    "### Make a df"
   ]
  },
  {
   "cell_type": "code",
   "execution_count": 4,
   "metadata": {},
   "outputs": [],
   "source": [
    "rev_df = pd.DataFrame(reviews)"
   ]
  },
  {
   "cell_type": "code",
   "execution_count": 5,
   "metadata": {},
   "outputs": [
    {
     "data": {
      "text/plain": [
       "(26864, 7)"
      ]
     },
     "execution_count": 5,
     "metadata": {},
     "output_type": "execute_result"
    }
   ],
   "source": [
    "rev_df.shape"
   ]
  },
  {
   "cell_type": "markdown",
   "metadata": {},
   "source": [
    "### Checking to see how many reviews were about games in my list"
   ]
  },
  {
   "cell_type": "code",
   "execution_count": 6,
   "metadata": {},
   "outputs": [],
   "source": [
    "with open(\"games_list.json\", 'r') as f:\n",
    "    games_list = json.load(f)\n",
    "    \n",
    "game_df = pd.DataFrame(games_list)"
   ]
  },
  {
   "cell_type": "code",
   "execution_count": 7,
   "metadata": {},
   "outputs": [],
   "source": [
    "rev_df = pd.merge(game_df, rev_df, left_on='name', right_on='wikiObject')\n",
    "rev_df.drop(['wikiObject', 'guid_y', 'site_detail_url'] ,1, inplace=True)"
   ]
  },
  {
   "cell_type": "code",
   "execution_count": 8,
   "metadata": {},
   "outputs": [
    {
     "data": {
      "text/plain": [
       "(3608, 6)"
      ]
     },
     "execution_count": 8,
     "metadata": {},
     "output_type": "execute_result"
    }
   ],
   "source": [
    "rev_df.shape"
   ]
  },
  {
   "cell_type": "markdown",
   "metadata": {},
   "source": [
    "### Get number of users who have written at least `review_thresh` reviews"
   ]
  },
  {
   "cell_type": "code",
   "execution_count": 9,
   "metadata": {},
   "outputs": [
    {
     "data": {
      "text/plain": [
       "87"
      ]
     },
     "execution_count": 9,
     "metadata": {},
     "output_type": "execute_result"
    }
   ],
   "source": [
    "(rev_df.reviewer.value_counts()>6).sum()"
   ]
  },
  {
   "cell_type": "markdown",
   "metadata": {},
   "source": [
    "Well that is not a lot... "
   ]
  },
  {
   "cell_type": "markdown",
   "metadata": {},
   "source": [
    "# Game Meta Data EDA"
   ]
  },
  {
   "cell_type": "code",
   "execution_count": 15,
   "metadata": {},
   "outputs": [],
   "source": [
    "from os import listdir\n",
    "from os.path import isfile, join\n",
    "onlyfiles = [f for f in listdir('./game_meta_data/') if isfile(join('./game_meta_data/', f))]"
   ]
  },
  {
   "cell_type": "code",
   "execution_count": 16,
   "metadata": {},
   "outputs": [],
   "source": [
    "list_of_meta = []\n",
    "for file in onlyfiles:\n",
    "    with open(f'./game_meta_data/{file}', 'r') as f:\n",
    "        game = json.load(f)\n",
    "        feature_list = ['guid', 'name', 'concepts', 'themes', 'deck', 'developers', 'publishers', 'genres', 'people']\n",
    "        game_dict = {key:value for key, value in game.items() if key in feature_list}\n",
    "\n",
    "        # convert lists to strings \n",
    "        for key, value in game_dict.items():\n",
    "            if type(value) == list:\n",
    "                game_dict[key] = ', '.join(value)\n",
    "        list_of_meta.append(game_dict)\n",
    "df = pd.DataFrame(list_of_meta)"
   ]
  },
  {
   "cell_type": "code",
   "execution_count": 18,
   "metadata": {},
   "outputs": [],
   "source": [
    "df.fillna(\"\", inplace=True)"
   ]
  },
  {
   "cell_type": "code",
   "execution_count": 19,
   "metadata": {
    "scrolled": true
   },
   "outputs": [
    {
     "data": {
      "text/html": [
       "<div>\n",
       "<table border=\"1\" class=\"dataframe\">\n",
       "  <thead>\n",
       "    <tr style=\"text-align: right;\">\n",
       "      <th></th>\n",
       "      <th>concepts</th>\n",
       "      <th>deck</th>\n",
       "      <th>developers</th>\n",
       "      <th>genres</th>\n",
       "      <th>guid</th>\n",
       "      <th>name</th>\n",
       "      <th>people</th>\n",
       "      <th>publishers</th>\n",
       "      <th>themes</th>\n",
       "    </tr>\n",
       "  </thead>\n",
       "  <tbody>\n",
       "    <tr>\n",
       "      <th>0</th>\n",
       "      <td>Achievements, PlayStation Trophies, Steam, Dig...</td>\n",
       "      <td>Kill The Bad Guy is a puzzle-game where physic...</td>\n",
       "      <td>Exkee</td>\n",
       "      <td>Strategy, Simulation</td>\n",
       "      <td>3030-46539</td>\n",
       "      <td>Kill the Bad Guy</td>\n",
       "      <td>Iaromil Stievenard, Anibal G. Hormeche, Sylvai...</td>\n",
       "      <td></td>\n",
       "      <td></td>\n",
       "    </tr>\n",
       "    <tr>\n",
       "      <th>1</th>\n",
       "      <td></td>\n",
       "      <td>Zeal is an indie online ARPG developed by Lyca...</td>\n",
       "      <td>Lycanic Studios</td>\n",
       "      <td>Action, Role-Playing, MOBA</td>\n",
       "      <td>3030-68714</td>\n",
       "      <td>Zeal</td>\n",
       "      <td></td>\n",
       "      <td></td>\n",
       "      <td>Fantasy, Medieval</td>\n",
       "    </tr>\n",
       "    <tr>\n",
       "      <th>2</th>\n",
       "      <td></td>\n",
       "      <td>Vertical Drop Heroes HD is an action platformer.</td>\n",
       "      <td>Nerdook Productions</td>\n",
       "      <td>Action, Role-Playing, Platformer</td>\n",
       "      <td>3030-48249</td>\n",
       "      <td>Vertical Drop Heroes HD</td>\n",
       "      <td>Yong Cheol Sim</td>\n",
       "      <td></td>\n",
       "      <td>Fantasy</td>\n",
       "    </tr>\n",
       "    <tr>\n",
       "      <th>3</th>\n",
       "      <td>Unreal Engine 4, PlayStation VR Support</td>\n",
       "      <td>A puzzle mystery game for PS VR.</td>\n",
       "      <td>Tarsier Studios</td>\n",
       "      <td>Puzzle</td>\n",
       "      <td>3030-57976</td>\n",
       "      <td>Statik</td>\n",
       "      <td></td>\n",
       "      <td></td>\n",
       "      <td></td>\n",
       "    </tr>\n",
       "    <tr>\n",
       "      <th>4</th>\n",
       "      <td></td>\n",
       "      <td>A compilation of all three Banner Saga titles.</td>\n",
       "      <td>Stoic</td>\n",
       "      <td>Strategy, Role-Playing, Compilation</td>\n",
       "      <td>3030-68731</td>\n",
       "      <td>The Banner Saga Trilogy</td>\n",
       "      <td></td>\n",
       "      <td></td>\n",
       "      <td>Fantasy</td>\n",
       "    </tr>\n",
       "  </tbody>\n",
       "</table>\n",
       "</div>"
      ],
      "text/plain": [
       "                                            concepts  \\\n",
       "0  Achievements, PlayStation Trophies, Steam, Dig...   \n",
       "1                                                      \n",
       "2                                                      \n",
       "3            Unreal Engine 4, PlayStation VR Support   \n",
       "4                                                      \n",
       "\n",
       "                                                deck           developers  \\\n",
       "0  Kill The Bad Guy is a puzzle-game where physic...                Exkee   \n",
       "1  Zeal is an indie online ARPG developed by Lyca...      Lycanic Studios   \n",
       "2   Vertical Drop Heroes HD is an action platformer.  Nerdook Productions   \n",
       "3                   A puzzle mystery game for PS VR.      Tarsier Studios   \n",
       "4     A compilation of all three Banner Saga titles.                Stoic   \n",
       "\n",
       "                                genres        guid                     name  \\\n",
       "0                 Strategy, Simulation  3030-46539         Kill the Bad Guy   \n",
       "1           Action, Role-Playing, MOBA  3030-68714                     Zeal   \n",
       "2     Action, Role-Playing, Platformer  3030-48249  Vertical Drop Heroes HD   \n",
       "3                               Puzzle  3030-57976                   Statik   \n",
       "4  Strategy, Role-Playing, Compilation  3030-68731  The Banner Saga Trilogy   \n",
       "\n",
       "                                              people publishers  \\\n",
       "0  Iaromil Stievenard, Anibal G. Hormeche, Sylvai...              \n",
       "1                                                                 \n",
       "2                                     Yong Cheol Sim              \n",
       "3                                                                 \n",
       "4                                                                 \n",
       "\n",
       "              themes  \n",
       "0                     \n",
       "1  Fantasy, Medieval  \n",
       "2            Fantasy  \n",
       "3                     \n",
       "4            Fantasy  "
      ]
     },
     "execution_count": 19,
     "metadata": {},
     "output_type": "execute_result"
    }
   ],
   "source": [
    "df.head()"
   ]
  },
  {
   "cell_type": "markdown",
   "metadata": {},
   "source": [
    "### Using `concepts` to test initial EDA and to use as features for a content filter prototype\n",
    "\n",
    "This should eventually be generalized as a function that takes in any column or one that just does all the right cols"
   ]
  },
  {
   "cell_type": "code",
   "execution_count": 13,
   "metadata": {},
   "outputs": [],
   "source": [
    "df.concepts = ['' if concept == None else concept for concept in df.concepts ]"
   ]
  },
  {
   "cell_type": "code",
   "execution_count": 14,
   "metadata": {
    "scrolled": true
   },
   "outputs": [],
   "source": [
    "df['num_concepts'] = list(map(lambda x: len(x.split(',')), df.concepts))"
   ]
  },
  {
   "cell_type": "code",
   "execution_count": 15,
   "metadata": {},
   "outputs": [
    {
     "data": {
      "text/plain": [
       "<matplotlib.text.Text at 0x7f9f7bff9748>"
      ]
     },
     "execution_count": 15,
     "metadata": {},
     "output_type": "execute_result"
    },
    {
     "data": {
      "image/png": "[encoded data removed]",
      "text/plain": [
       "<matplotlib.figure.Figure at 0x7f9f83e508d0>"
      ]
     },
     "metadata": {},
     "output_type": "display_data"
    }
   ],
   "source": [
    "x = [i for i in range(df.shape[0])]\n",
    "plt.bar(x, height=df.sort_values(by='num_concepts', ascending=False).num_concepts, width=1)\n",
    "plt.title('Number of concepts by game')"
   ]
  },
  {
   "cell_type": "code",
   "execution_count": 23,
   "metadata": {},
   "outputs": [
    {
     "data": {
      "text/html": [
       "<div>\n",
       "<table border=\"1\" class=\"dataframe\">\n",
       "  <thead>\n",
       "    <tr style=\"text-align: right;\">\n",
       "      <th></th>\n",
       "      <th></th>\n",
       "      <th>180 degree turn</th>\n",
       "      <th>2.5d</th>\n",
       "      <th>21:9 ultrawide support</th>\n",
       "      <th>21st annual d.i.c.e. awards</th>\n",
       "      <th>285 code 6</th>\n",
       "      <th>2d</th>\n",
       "      <th>2d depth attack</th>\n",
       "      <th>3 round burst</th>\n",
       "      <th>360 flip</th>\n",
       "      <th>...</th>\n",
       "      <th>zombie pigmen</th>\n",
       "      <th>zombie protagonist</th>\n",
       "      <th>zombie virus</th>\n",
       "      <th>zombrex</th>\n",
       "      <th>zoning character</th>\n",
       "      <th>zoom</th>\n",
       "      <th>zoom platform</th>\n",
       "      <th>zooming out to orbit</th>\n",
       "      <th>zooming to platform pathway</th>\n",
       "      <th>zu</th>\n",
       "    </tr>\n",
       "  </thead>\n",
       "  <tbody>\n",
       "    <tr>\n",
       "      <th>0</th>\n",
       "      <td>0</td>\n",
       "      <td>0</td>\n",
       "      <td>0</td>\n",
       "      <td>0</td>\n",
       "      <td>0</td>\n",
       "      <td>0</td>\n",
       "      <td>0</td>\n",
       "      <td>0</td>\n",
       "      <td>0</td>\n",
       "      <td>0</td>\n",
       "      <td>...</td>\n",
       "      <td>0</td>\n",
       "      <td>0</td>\n",
       "      <td>0</td>\n",
       "      <td>0</td>\n",
       "      <td>0</td>\n",
       "      <td>0</td>\n",
       "      <td>0</td>\n",
       "      <td>0</td>\n",
       "      <td>0</td>\n",
       "      <td>0</td>\n",
       "    </tr>\n",
       "    <tr>\n",
       "      <th>1</th>\n",
       "      <td>1</td>\n",
       "      <td>0</td>\n",
       "      <td>0</td>\n",
       "      <td>0</td>\n",
       "      <td>0</td>\n",
       "      <td>0</td>\n",
       "      <td>0</td>\n",
       "      <td>0</td>\n",
       "      <td>0</td>\n",
       "      <td>0</td>\n",
       "      <td>...</td>\n",
       "      <td>0</td>\n",
       "      <td>0</td>\n",
       "      <td>0</td>\n",
       "      <td>0</td>\n",
       "      <td>0</td>\n",
       "      <td>0</td>\n",
       "      <td>0</td>\n",
       "      <td>0</td>\n",
       "      <td>0</td>\n",
       "      <td>0</td>\n",
       "    </tr>\n",
       "    <tr>\n",
       "      <th>2</th>\n",
       "      <td>1</td>\n",
       "      <td>0</td>\n",
       "      <td>0</td>\n",
       "      <td>0</td>\n",
       "      <td>0</td>\n",
       "      <td>0</td>\n",
       "      <td>0</td>\n",
       "      <td>0</td>\n",
       "      <td>0</td>\n",
       "      <td>0</td>\n",
       "      <td>...</td>\n",
       "      <td>0</td>\n",
       "      <td>0</td>\n",
       "      <td>0</td>\n",
       "      <td>0</td>\n",
       "      <td>0</td>\n",
       "      <td>0</td>\n",
       "      <td>0</td>\n",
       "      <td>0</td>\n",
       "      <td>0</td>\n",
       "      <td>0</td>\n",
       "    </tr>\n",
       "    <tr>\n",
       "      <th>3</th>\n",
       "      <td>0</td>\n",
       "      <td>0</td>\n",
       "      <td>0</td>\n",
       "      <td>0</td>\n",
       "      <td>0</td>\n",
       "      <td>0</td>\n",
       "      <td>0</td>\n",
       "      <td>0</td>\n",
       "      <td>0</td>\n",
       "      <td>0</td>\n",
       "      <td>...</td>\n",
       "      <td>0</td>\n",
       "      <td>0</td>\n",
       "      <td>0</td>\n",
       "      <td>0</td>\n",
       "      <td>0</td>\n",
       "      <td>0</td>\n",
       "      <td>0</td>\n",
       "      <td>0</td>\n",
       "      <td>0</td>\n",
       "      <td>0</td>\n",
       "    </tr>\n",
       "    <tr>\n",
       "      <th>4</th>\n",
       "      <td>1</td>\n",
       "      <td>0</td>\n",
       "      <td>0</td>\n",
       "      <td>0</td>\n",
       "      <td>0</td>\n",
       "      <td>0</td>\n",
       "      <td>0</td>\n",
       "      <td>0</td>\n",
       "      <td>0</td>\n",
       "      <td>0</td>\n",
       "      <td>...</td>\n",
       "      <td>0</td>\n",
       "      <td>0</td>\n",
       "      <td>0</td>\n",
       "      <td>0</td>\n",
       "      <td>0</td>\n",
       "      <td>0</td>\n",
       "      <td>0</td>\n",
       "      <td>0</td>\n",
       "      <td>0</td>\n",
       "      <td>0</td>\n",
       "    </tr>\n",
       "  </tbody>\n",
       "</table>\n",
       "<p>5 rows × 3768 columns</p>\n",
       "</div>"
      ],
      "text/plain": [
       "      180 degree turn  2.5d  21:9 ultrawide support  \\\n",
       "0  0                0     0                       0   \n",
       "1  1                0     0                       0   \n",
       "2  1                0     0                       0   \n",
       "3  0                0     0                       0   \n",
       "4  1                0     0                       0   \n",
       "\n",
       "   21st annual d.i.c.e. awards  285 code 6  2d  2d depth attack  \\\n",
       "0                            0           0   0                0   \n",
       "1                            0           0   0                0   \n",
       "2                            0           0   0                0   \n",
       "3                            0           0   0                0   \n",
       "4                            0           0   0                0   \n",
       "\n",
       "   3 round burst  360 flip ...  zombie pigmen  zombie protagonist  \\\n",
       "0              0         0 ...              0                   0   \n",
       "1              0         0 ...              0                   0   \n",
       "2              0         0 ...              0                   0   \n",
       "3              0         0 ...              0                   0   \n",
       "4              0         0 ...              0                   0   \n",
       "\n",
       "   zombie virus  zombrex  zoning character  zoom  zoom platform  \\\n",
       "0             0        0                 0     0              0   \n",
       "1             0        0                 0     0              0   \n",
       "2             0        0                 0     0              0   \n",
       "3             0        0                 0     0              0   \n",
       "4             0        0                 0     0              0   \n",
       "\n",
       "   zooming out to orbit  zooming to platform pathway  zu  \n",
       "0                     0                            0   0  \n",
       "1                     0                            0   0  \n",
       "2                     0                            0   0  \n",
       "3                     0                            0   0  \n",
       "4                     0                            0   0  \n",
       "\n",
       "[5 rows x 3768 columns]"
      ]
     },
     "execution_count": 23,
     "metadata": {},
     "output_type": "execute_result"
    }
   ],
   "source": [
    "import pandas as pd\n",
    "from sklearn.feature_extraction.text import CountVectorizer\n",
    "\n",
    "# Instantiate a CountVectorizer\n",
    "cvec = CountVectorizer(stop_words='english', tokenizer=lambda x: x.split(', '))\n",
    "bow = cvec.fit_transform(df.concepts)\n",
    "\n",
    "\n",
    "contents_df  = pd.DataFrame(bow.todense(),\n",
    "                   columns=cvec.get_feature_names())\n",
    "contents_df.head()"
   ]
  },
  {
   "cell_type": "markdown",
   "metadata": {},
   "source": [
    "## Now I am going to convert the previous chunk of code into a function so I can use it on other features like `genres` or `developers`"
   ]
  },
  {
   "cell_type": "code",
   "execution_count": 21,
   "metadata": {},
   "outputs": [],
   "source": [
    "def split_features(df, col):\n",
    "    df[col] = ['AAAA' if entry == None else entry for entry in df[col] ]\n",
    "    cvec = CountVectorizer(stop_words='english', tokenizer=lambda x: x.split(', '))\n",
    "    bow = cvec.fit_transform(df[col])\n",
    "    ret_df  = pd.DataFrame(bow.todense(),\n",
    "                       columns=cvec.get_feature_names())\n",
    "    return ret_df"
   ]
  },
  {
   "cell_type": "code",
   "execution_count": 18,
   "metadata": {},
   "outputs": [
    {
     "data": {
      "text/plain": [
       "concepts        PlayStation Trophies, First-Person Perspective...\n",
       "deck            A completely new game designed from the ground...\n",
       "developers                                          SUPERHOT Team\n",
       "genres                                                           \n",
       "guid                                                   3030-54217\n",
       "name                                                  Superhot VR\n",
       "publishers                                                       \n",
       "themes                                                           \n",
       "num_concepts                                                   11\n",
       "Name: 22, dtype: object"
      ]
     },
     "execution_count": 18,
     "metadata": {},
     "output_type": "execute_result"
    }
   ],
   "source": [
    "df.loc[22, :]"
   ]
  },
  {
   "cell_type": "code",
   "execution_count": 24,
   "metadata": {},
   "outputs": [
    {
     "data": {
      "text/html": [
       "<div>\n",
       "<table border=\"1\" class=\"dataframe\">\n",
       "  <thead>\n",
       "    <tr style=\"text-align: right;\">\n",
       "      <th></th>\n",
       "      <th></th>\n",
       "      <th>bart wiltenburg</th>\n",
       "      <th>eric beyhl</th>\n",
       "      <th>jacek kwiecień</th>\n",
       "      <th>kiomi ōshima</th>\n",
       "      <th>sybille adrien</th>\n",
       "      <th>xavier thomas</th>\n",
       "      <th>peter chapman</th>\n",
       "      <th>takuya sakai</th>\n",
       "      <th>2joe90</th>\n",
       "      <th>...</th>\n",
       "      <th>özlem sagbili</th>\n",
       "      <th>østnorsk filmsenter</th>\n",
       "      <th>øystein skadsem</th>\n",
       "      <th>øystein stokkan</th>\n",
       "      <th>łukasz bieńko</th>\n",
       "      <th>łukasz darmochwał</th>\n",
       "      <th>łukasz mazurkiewicz</th>\n",
       "      <th>łukasz pala</th>\n",
       "      <th>łukasz tywoniak</th>\n",
       "      <th>łukasz wyrostek</th>\n",
       "    </tr>\n",
       "  </thead>\n",
       "  <tbody>\n",
       "    <tr>\n",
       "      <th>0</th>\n",
       "      <td>0</td>\n",
       "      <td>0</td>\n",
       "      <td>0</td>\n",
       "      <td>0</td>\n",
       "      <td>0</td>\n",
       "      <td>0</td>\n",
       "      <td>0</td>\n",
       "      <td>0</td>\n",
       "      <td>0</td>\n",
       "      <td>0</td>\n",
       "      <td>...</td>\n",
       "      <td>0</td>\n",
       "      <td>0</td>\n",
       "      <td>0</td>\n",
       "      <td>0</td>\n",
       "      <td>0</td>\n",
       "      <td>0</td>\n",
       "      <td>0</td>\n",
       "      <td>0</td>\n",
       "      <td>0</td>\n",
       "      <td>0</td>\n",
       "    </tr>\n",
       "    <tr>\n",
       "      <th>1</th>\n",
       "      <td>1</td>\n",
       "      <td>0</td>\n",
       "      <td>0</td>\n",
       "      <td>0</td>\n",
       "      <td>0</td>\n",
       "      <td>0</td>\n",
       "      <td>0</td>\n",
       "      <td>0</td>\n",
       "      <td>0</td>\n",
       "      <td>0</td>\n",
       "      <td>...</td>\n",
       "      <td>0</td>\n",
       "      <td>0</td>\n",
       "      <td>0</td>\n",
       "      <td>0</td>\n",
       "      <td>0</td>\n",
       "      <td>0</td>\n",
       "      <td>0</td>\n",
       "      <td>0</td>\n",
       "      <td>0</td>\n",
       "      <td>0</td>\n",
       "    </tr>\n",
       "    <tr>\n",
       "      <th>2</th>\n",
       "      <td>0</td>\n",
       "      <td>0</td>\n",
       "      <td>0</td>\n",
       "      <td>0</td>\n",
       "      <td>0</td>\n",
       "      <td>0</td>\n",
       "      <td>0</td>\n",
       "      <td>0</td>\n",
       "      <td>0</td>\n",
       "      <td>0</td>\n",
       "      <td>...</td>\n",
       "      <td>0</td>\n",
       "      <td>0</td>\n",
       "      <td>0</td>\n",
       "      <td>0</td>\n",
       "      <td>0</td>\n",
       "      <td>0</td>\n",
       "      <td>0</td>\n",
       "      <td>0</td>\n",
       "      <td>0</td>\n",
       "      <td>0</td>\n",
       "    </tr>\n",
       "    <tr>\n",
       "      <th>3</th>\n",
       "      <td>1</td>\n",
       "      <td>0</td>\n",
       "      <td>0</td>\n",
       "      <td>0</td>\n",
       "      <td>0</td>\n",
       "      <td>0</td>\n",
       "      <td>0</td>\n",
       "      <td>0</td>\n",
       "      <td>0</td>\n",
       "      <td>0</td>\n",
       "      <td>...</td>\n",
       "      <td>0</td>\n",
       "      <td>0</td>\n",
       "      <td>0</td>\n",
       "      <td>0</td>\n",
       "      <td>0</td>\n",
       "      <td>0</td>\n",
       "      <td>0</td>\n",
       "      <td>0</td>\n",
       "      <td>0</td>\n",
       "      <td>0</td>\n",
       "    </tr>\n",
       "    <tr>\n",
       "      <th>4</th>\n",
       "      <td>1</td>\n",
       "      <td>0</td>\n",
       "      <td>0</td>\n",
       "      <td>0</td>\n",
       "      <td>0</td>\n",
       "      <td>0</td>\n",
       "      <td>0</td>\n",
       "      <td>0</td>\n",
       "      <td>0</td>\n",
       "      <td>0</td>\n",
       "      <td>...</td>\n",
       "      <td>0</td>\n",
       "      <td>0</td>\n",
       "      <td>0</td>\n",
       "      <td>0</td>\n",
       "      <td>0</td>\n",
       "      <td>0</td>\n",
       "      <td>0</td>\n",
       "      <td>0</td>\n",
       "      <td>0</td>\n",
       "      <td>0</td>\n",
       "    </tr>\n",
       "  </tbody>\n",
       "</table>\n",
       "<p>5 rows × 15268 columns</p>\n",
       "</div>"
      ],
      "text/plain": [
       "      \\tbart wiltenburg  \\teric beyhl  \\tjacek kwiecień  \\tkiomi ōshima  \\\n",
       "0  0                  0             0                 0               0   \n",
       "1  1                  0             0                 0               0   \n",
       "2  0                  0             0                 0               0   \n",
       "3  1                  0             0                 0               0   \n",
       "4  1                  0             0                 0               0   \n",
       "\n",
       "   \\tsybille adrien  \\txavier thomas   peter chapman    takuya sakai  2joe90  \\\n",
       "0                 0                0                0              0       0   \n",
       "1                 0                0                0              0       0   \n",
       "2                 0                0                0              0       0   \n",
       "3                 0                0                0              0       0   \n",
       "4                 0                0                0              0       0   \n",
       "\n",
       "        ...         özlem sagbili  østnorsk filmsenter  øystein skadsem  \\\n",
       "0       ...                     0                    0                0   \n",
       "1       ...                     0                    0                0   \n",
       "2       ...                     0                    0                0   \n",
       "3       ...                     0                    0                0   \n",
       "4       ...                     0                    0                0   \n",
       "\n",
       "   øystein stokkan  łukasz bieńko  łukasz darmochwał  łukasz mazurkiewicz  \\\n",
       "0                0              0                  0                    0   \n",
       "1                0              0                  0                    0   \n",
       "2                0              0                  0                    0   \n",
       "3                0              0                  0                    0   \n",
       "4                0              0                  0                    0   \n",
       "\n",
       "   łukasz pala  łukasz tywoniak  łukasz wyrostek  \n",
       "0            0                0                0  \n",
       "1            0                0                0  \n",
       "2            0                0                0  \n",
       "3            0                0                0  \n",
       "4            0                0                0  \n",
       "\n",
       "[5 rows x 15268 columns]"
      ]
     },
     "execution_count": 24,
     "metadata": {},
     "output_type": "execute_result"
    }
   ],
   "source": [
    "split_features(df, 'people').head()"
   ]
  },
  {
   "cell_type": "markdown",
   "metadata": {},
   "source": [
    "## lets drop all the features that apply to less than 5 games"
   ]
  },
  {
   "cell_type": "code",
   "execution_count": 20,
   "metadata": {},
   "outputs": [
    {
     "data": {
      "text/plain": [
       "(1746, 3767)"
      ]
     },
     "execution_count": 20,
     "metadata": {},
     "output_type": "execute_result"
    }
   ],
   "source": [
    "contents_df.shape"
   ]
  },
  {
   "cell_type": "code",
   "execution_count": 21,
   "metadata": {},
   "outputs": [],
   "source": [
    "thresh = 5\n",
    "cols_to_drop = []\n",
    "for col in contents_df.columns:\n",
    "    try:\n",
    "        if contents_df[col].value_counts()[0] >=contents_df.shape[0]-thresh:\n",
    "            cols_to_drop.append(col)\n",
    "    except: \n",
    "        print(col)\n"
   ]
  },
  {
   "cell_type": "code",
   "execution_count": 22,
   "metadata": {},
   "outputs": [
    {
     "data": {
      "text/plain": [
       "2580"
      ]
     },
     "execution_count": 22,
     "metadata": {},
     "output_type": "execute_result"
    }
   ],
   "source": [
    "len(cols_to_drop)"
   ]
  },
  {
   "cell_type": "code",
   "execution_count": 23,
   "metadata": {},
   "outputs": [
    {
     "data": {
      "text/plain": [
       "(1746, 1187)"
      ]
     },
     "execution_count": 23,
     "metadata": {},
     "output_type": "execute_result"
    }
   ],
   "source": [
    "contents_df.drop(cols_to_drop, axis=1, inplace=True)\n",
    "contents_df.shape"
   ]
  },
  {
   "cell_type": "markdown",
   "metadata": {},
   "source": [
    "## Doing the same, but with the actual games"
   ]
  },
  {
   "cell_type": "code",
   "execution_count": 24,
   "metadata": {
    "scrolled": true
   },
   "outputs": [],
   "source": [
    "rows_to_drop = []\n",
    "for ind in contents_df.T.columns:\n",
    "    if contents_df.T.get(ind).sum() < thresh:\n",
    "        rows_to_drop.append(ind)"
   ]
  },
  {
   "cell_type": "code",
   "execution_count": null,
   "metadata": {},
   "outputs": [],
   "source": []
  },
  {
   "cell_type": "code",
   "execution_count": 25,
   "metadata": {},
   "outputs": [
    {
     "data": {
      "text/plain": [
       "815"
      ]
     },
     "execution_count": 25,
     "metadata": {},
     "output_type": "execute_result"
    }
   ],
   "source": [
    "len(rows_to_drop)"
   ]
  },
  {
   "cell_type": "code",
   "execution_count": 26,
   "metadata": {},
   "outputs": [
    {
     "data": {
      "text/plain": [
       "(931, 1187)"
      ]
     },
     "execution_count": 26,
     "metadata": {},
     "output_type": "execute_result"
    }
   ],
   "source": [
    "contents_df.drop(rows_to_drop, axis = 0, inplace=True)\n",
    "contents_df.shape"
   ]
  },
  {
   "cell_type": "code",
   "execution_count": 37,
   "metadata": {},
   "outputs": [],
   "source": [
    "merged = pd.merge(df, contents_df, left_index=True, right_index=True, )"
   ]
  },
  {
   "cell_type": "code",
   "execution_count": 38,
   "metadata": {},
   "outputs": [
    {
     "data": {
      "text/plain": [
       "(931, 1196)"
      ]
     },
     "execution_count": 38,
     "metadata": {},
     "output_type": "execute_result"
    }
   ],
   "source": [
    "merged.shape"
   ]
  },
  {
   "cell_type": "code",
   "execution_count": 39,
   "metadata": {},
   "outputs": [
    {
     "data": {
      "text/html": [
       "<div>\n",
       "<table border=\"1\" class=\"dataframe\">\n",
       "  <thead>\n",
       "    <tr style=\"text-align: right;\">\n",
       "      <th></th>\n",
       "      <th>concepts</th>\n",
       "      <th>deck</th>\n",
       "      <th>developers</th>\n",
       "      <th>genres</th>\n",
       "      <th>guid</th>\n",
       "      <th>name</th>\n",
       "      <th>publishers</th>\n",
       "      <th>themes</th>\n",
       "      <th>num_concepts</th>\n",
       "      <th></th>\n",
       "      <th>...</th>\n",
       "      <th>xbox one backwards compatibility</th>\n",
       "      <th>xbox one controller support for pc</th>\n",
       "      <th>xbox one x enhanced</th>\n",
       "      <th>xbox play anywhere</th>\n",
       "      <th>xfire</th>\n",
       "      <th>year in the title</th>\n",
       "      <th>young protagonist</th>\n",
       "      <th>zombie</th>\n",
       "      <th>zoning character</th>\n",
       "      <th>zoom</th>\n",
       "    </tr>\n",
       "  </thead>\n",
       "  <tbody>\n",
       "    <tr>\n",
       "      <th>0</th>\n",
       "      <td>Achievements, PlayStation Trophies, Steam, Dig...</td>\n",
       "      <td>Kill The Bad Guy is a puzzle-game where physic...</td>\n",
       "      <td>Exkee</td>\n",
       "      <td>Strategy, Simulation</td>\n",
       "      <td>3030-46539</td>\n",
       "      <td>Kill the Bad Guy</td>\n",
       "      <td></td>\n",
       "      <td></td>\n",
       "      <td>11</td>\n",
       "      <td>0</td>\n",
       "      <td>...</td>\n",
       "      <td>0</td>\n",
       "      <td>0</td>\n",
       "      <td>0</td>\n",
       "      <td>0</td>\n",
       "      <td>0</td>\n",
       "      <td>0</td>\n",
       "      <td>0</td>\n",
       "      <td>0</td>\n",
       "      <td>0</td>\n",
       "      <td>0</td>\n",
       "    </tr>\n",
       "    <tr>\n",
       "      <th>6</th>\n",
       "      <td>Double Jump, Teleportation, Achievements, Boss...</td>\n",
       "      <td>The third entry in the Super Mario Bros inspir...</td>\n",
       "      <td>Black Forest Games</td>\n",
       "      <td>Platformer</td>\n",
       "      <td>3030-39484</td>\n",
       "      <td>Giana Sisters: Twisted Dreams</td>\n",
       "      <td></td>\n",
       "      <td>Fantasy</td>\n",
       "      <td>78</td>\n",
       "      <td>0</td>\n",
       "      <td>...</td>\n",
       "      <td>0</td>\n",
       "      <td>0</td>\n",
       "      <td>0</td>\n",
       "      <td>0</td>\n",
       "      <td>0</td>\n",
       "      <td>0</td>\n",
       "      <td>0</td>\n",
       "      <td>0</td>\n",
       "      <td>0</td>\n",
       "      <td>0</td>\n",
       "    </tr>\n",
       "    <tr>\n",
       "      <th>11</th>\n",
       "      <td>Ninja, Anthropomorphism, Crossover, Sexualized...</td>\n",
       "      <td>A crossover Warriors game from Omega Force and...</td>\n",
       "      <td>Omega Force</td>\n",
       "      <td>Action</td>\n",
       "      <td>3030-55468</td>\n",
       "      <td>Warriors All-Stars</td>\n",
       "      <td></td>\n",
       "      <td>Fantasy, Alternate Historical</td>\n",
       "      <td>8</td>\n",
       "      <td>0</td>\n",
       "      <td>...</td>\n",
       "      <td>0</td>\n",
       "      <td>0</td>\n",
       "      <td>0</td>\n",
       "      <td>0</td>\n",
       "      <td>0</td>\n",
       "      <td>0</td>\n",
       "      <td>0</td>\n",
       "      <td>0</td>\n",
       "      <td>0</td>\n",
       "      <td>0</td>\n",
       "    </tr>\n",
       "    <tr>\n",
       "      <th>12</th>\n",
       "      <td>Steam, Digital Distribution, Indie, PlayStatio...</td>\n",
       "      <td>We Are Doomed is a frantic shoot-em-up in a vi...</td>\n",
       "      <td>Vertex Pop</td>\n",
       "      <td>Shoot 'Em Up</td>\n",
       "      <td>3030-45908</td>\n",
       "      <td>We Are Doomed</td>\n",
       "      <td></td>\n",
       "      <td></td>\n",
       "      <td>7</td>\n",
       "      <td>0</td>\n",
       "      <td>...</td>\n",
       "      <td>0</td>\n",
       "      <td>0</td>\n",
       "      <td>0</td>\n",
       "      <td>0</td>\n",
       "      <td>0</td>\n",
       "      <td>0</td>\n",
       "      <td>0</td>\n",
       "      <td>0</td>\n",
       "      <td>0</td>\n",
       "      <td>0</td>\n",
       "    </tr>\n",
       "    <tr>\n",
       "      <th>14</th>\n",
       "      <td>Combo, Achievements, Health, Heads Up Display,...</td>\n",
       "      <td>The third major installment of the Street Figh...</td>\n",
       "      <td>Dimps Corporation, Capcom</td>\n",
       "      <td>Fighting</td>\n",
       "      <td>3030-43241</td>\n",
       "      <td>Ultra Street Fighter IV</td>\n",
       "      <td></td>\n",
       "      <td>Martial Arts</td>\n",
       "      <td>92</td>\n",
       "      <td>0</td>\n",
       "      <td>...</td>\n",
       "      <td>0</td>\n",
       "      <td>0</td>\n",
       "      <td>0</td>\n",
       "      <td>0</td>\n",
       "      <td>0</td>\n",
       "      <td>0</td>\n",
       "      <td>0</td>\n",
       "      <td>0</td>\n",
       "      <td>0</td>\n",
       "      <td>0</td>\n",
       "    </tr>\n",
       "  </tbody>\n",
       "</table>\n",
       "<p>5 rows × 1196 columns</p>\n",
       "</div>"
      ],
      "text/plain": [
       "                                             concepts  \\\n",
       "0   Achievements, PlayStation Trophies, Steam, Dig...   \n",
       "6   Double Jump, Teleportation, Achievements, Boss...   \n",
       "11  Ninja, Anthropomorphism, Crossover, Sexualized...   \n",
       "12  Steam, Digital Distribution, Indie, PlayStatio...   \n",
       "14  Combo, Achievements, Health, Heads Up Display,...   \n",
       "\n",
       "                                                 deck  \\\n",
       "0   Kill The Bad Guy is a puzzle-game where physic...   \n",
       "6   The third entry in the Super Mario Bros inspir...   \n",
       "11  A crossover Warriors game from Omega Force and...   \n",
       "12  We Are Doomed is a frantic shoot-em-up in a vi...   \n",
       "14  The third major installment of the Street Figh...   \n",
       "\n",
       "                   developers                genres        guid  \\\n",
       "0                       Exkee  Strategy, Simulation  3030-46539   \n",
       "6          Black Forest Games            Platformer  3030-39484   \n",
       "11                Omega Force                Action  3030-55468   \n",
       "12                 Vertex Pop          Shoot 'Em Up  3030-45908   \n",
       "14  Dimps Corporation, Capcom              Fighting  3030-43241   \n",
       "\n",
       "                             name publishers                         themes  \\\n",
       "0                Kill the Bad Guy                                             \n",
       "6   Giana Sisters: Twisted Dreams                                   Fantasy   \n",
       "11             Warriors All-Stars             Fantasy, Alternate Historical   \n",
       "12                  We Are Doomed                                             \n",
       "14        Ultra Street Fighter IV                              Martial Arts   \n",
       "\n",
       "    num_concepts     ...   xbox one backwards compatibility  \\\n",
       "0             11  0  ...                                  0   \n",
       "6             78  0  ...                                  0   \n",
       "11             8  0  ...                                  0   \n",
       "12             7  0  ...                                  0   \n",
       "14            92  0  ...                                  0   \n",
       "\n",
       "    xbox one controller support for pc  xbox one x enhanced  \\\n",
       "0                                    0                    0   \n",
       "6                                    0                    0   \n",
       "11                                   0                    0   \n",
       "12                                   0                    0   \n",
       "14                                   0                    0   \n",
       "\n",
       "    xbox play anywhere  xfire  year in the title  young protagonist  zombie  \\\n",
       "0                    0      0                  0                  0       0   \n",
       "6                    0      0                  0                  0       0   \n",
       "11                   0      0                  0                  0       0   \n",
       "12                   0      0                  0                  0       0   \n",
       "14                   0      0                  0                  0       0   \n",
       "\n",
       "    zoning character  zoom  \n",
       "0                  0     0  \n",
       "6                  0     0  \n",
       "11                 0     0  \n",
       "12                 0     0  \n",
       "14                 0     0  \n",
       "\n",
       "[5 rows x 1196 columns]"
      ]
     },
     "execution_count": 39,
     "metadata": {},
     "output_type": "execute_result"
    }
   ],
   "source": [
    "merged.head()"
   ]
  },
  {
   "cell_type": "code",
   "execution_count": 40,
   "metadata": {},
   "outputs": [],
   "source": [
    "merged.set_index(['name'], inplace=True)"
   ]
  },
  {
   "cell_type": "code",
   "execution_count": 41,
   "metadata": {},
   "outputs": [],
   "source": [
    "merged.drop(['concepts', 'deck', 'developers', 'genres', 'themes', 'publishers','num_concepts', '', 'guid'], 1, inplace=True)"
   ]
  },
  {
   "cell_type": "code",
   "execution_count": 42,
   "metadata": {},
   "outputs": [
    {
     "data": {
      "text/plain": [
       "(931, 1186)"
      ]
     },
     "execution_count": 42,
     "metadata": {},
     "output_type": "execute_result"
    }
   ],
   "source": [
    "merged.shape"
   ]
  },
  {
   "cell_type": "code",
   "execution_count": 43,
   "metadata": {},
   "outputs": [],
   "source": [
    "from scipy import sparse\n",
    "from sklearn.metrics.pairwise import pairwise_distances"
   ]
  },
  {
   "cell_type": "code",
   "execution_count": 44,
   "metadata": {},
   "outputs": [],
   "source": [
    "sparse_content = sparse.csr_matrix(merged)"
   ]
  },
  {
   "cell_type": "code",
   "execution_count": 45,
   "metadata": {},
   "outputs": [],
   "source": [
    "distances = pairwise_distances(sparse_content, metric='cosine')"
   ]
  },
  {
   "cell_type": "code",
   "execution_count": 46,
   "metadata": {},
   "outputs": [
    {
     "data": {
      "text/html": [
       "<div>\n",
       "<table border=\"1\" class=\"dataframe\">\n",
       "  <thead>\n",
       "    <tr style=\"text-align: right;\">\n",
       "      <th>name</th>\n",
       "      <th>Kill the Bad Guy</th>\n",
       "      <th>Giana Sisters: Twisted Dreams</th>\n",
       "      <th>Warriors All-Stars</th>\n",
       "      <th>We Are Doomed</th>\n",
       "      <th>Ultra Street Fighter IV</th>\n",
       "      <th>Arcania: Gothic 4</th>\n",
       "      <th>Lichdom: Battlemage</th>\n",
       "      <th>The King of Fighters Collection: The Orochi Saga</th>\n",
       "      <th>Alien Shooter</th>\n",
       "      <th>JumpJet Rex</th>\n",
       "      <th>...</th>\n",
       "      <th>LEGO Marvel Super Heroes 2</th>\n",
       "      <th>Sword Art Online: Hollow Fragment</th>\n",
       "      <th>Alienation</th>\n",
       "      <th>World Heroes 2 JET</th>\n",
       "      <th>Mystereet F: Tantei-tachi no Curtain Call</th>\n",
       "      <th>Hotline Miami 2: Wrong Number</th>\n",
       "      <th>The Magic Circle</th>\n",
       "      <th>Gran Turismo Sport</th>\n",
       "      <th>Mighty No. 9</th>\n",
       "      <th>Sonic Forces</th>\n",
       "    </tr>\n",
       "    <tr>\n",
       "      <th>name</th>\n",
       "      <th></th>\n",
       "      <th></th>\n",
       "      <th></th>\n",
       "      <th></th>\n",
       "      <th></th>\n",
       "      <th></th>\n",
       "      <th></th>\n",
       "      <th></th>\n",
       "      <th></th>\n",
       "      <th></th>\n",
       "      <th></th>\n",
       "      <th></th>\n",
       "      <th></th>\n",
       "      <th></th>\n",
       "      <th></th>\n",
       "      <th></th>\n",
       "      <th></th>\n",
       "      <th></th>\n",
       "      <th></th>\n",
       "      <th></th>\n",
       "      <th></th>\n",
       "    </tr>\n",
       "  </thead>\n",
       "  <tbody>\n",
       "    <tr>\n",
       "      <th>Kill the Bad Guy</th>\n",
       "      <td>0.000000</td>\n",
       "      <td>0.736178</td>\n",
       "      <td>1.000000</td>\n",
       "      <td>0.772079</td>\n",
       "      <td>0.709618</td>\n",
       "      <td>0.875753</td>\n",
       "      <td>0.654143</td>\n",
       "      <td>0.922150</td>\n",
       "      <td>0.899496</td>\n",
       "      <td>0.844300</td>\n",
       "      <td>...</td>\n",
       "      <td>1.000000</td>\n",
       "      <td>0.865160</td>\n",
       "      <td>0.932580</td>\n",
       "      <td>1.000000</td>\n",
       "      <td>1.000000</td>\n",
       "      <td>0.944011</td>\n",
       "      <td>0.912961</td>\n",
       "      <td>1.0</td>\n",
       "      <td>0.729235</td>\n",
       "      <td>1.000000</td>\n",
       "    </tr>\n",
       "    <tr>\n",
       "      <th>Giana Sisters: Twisted Dreams</th>\n",
       "      <td>0.736178</td>\n",
       "      <td>0.000000</td>\n",
       "      <td>1.000000</td>\n",
       "      <td>0.858263</td>\n",
       "      <td>0.819421</td>\n",
       "      <td>0.879810</td>\n",
       "      <td>0.827938</td>\n",
       "      <td>0.967725</td>\n",
       "      <td>0.916667</td>\n",
       "      <td>0.838626</td>\n",
       "      <td>...</td>\n",
       "      <td>0.966592</td>\n",
       "      <td>0.944098</td>\n",
       "      <td>0.888197</td>\n",
       "      <td>1.000000</td>\n",
       "      <td>1.000000</td>\n",
       "      <td>0.907152</td>\n",
       "      <td>0.963916</td>\n",
       "      <td>1.0</td>\n",
       "      <td>0.708141</td>\n",
       "      <td>0.903175</td>\n",
       "    </tr>\n",
       "    <tr>\n",
       "      <th>Warriors All-Stars</th>\n",
       "      <td>1.000000</td>\n",
       "      <td>1.000000</td>\n",
       "      <td>0.000000</td>\n",
       "      <td>1.000000</td>\n",
       "      <td>0.954498</td>\n",
       "      <td>1.000000</td>\n",
       "      <td>1.000000</td>\n",
       "      <td>0.902410</td>\n",
       "      <td>1.000000</td>\n",
       "      <td>1.000000</td>\n",
       "      <td>...</td>\n",
       "      <td>0.898985</td>\n",
       "      <td>1.000000</td>\n",
       "      <td>1.000000</td>\n",
       "      <td>1.000000</td>\n",
       "      <td>1.000000</td>\n",
       "      <td>1.000000</td>\n",
       "      <td>1.000000</td>\n",
       "      <td>1.0</td>\n",
       "      <td>1.000000</td>\n",
       "      <td>1.000000</td>\n",
       "    </tr>\n",
       "    <tr>\n",
       "      <th>We Are Doomed</th>\n",
       "      <td>0.772079</td>\n",
       "      <td>0.858263</td>\n",
       "      <td>1.000000</td>\n",
       "      <td>0.000000</td>\n",
       "      <td>0.863495</td>\n",
       "      <td>0.896165</td>\n",
       "      <td>0.653156</td>\n",
       "      <td>0.902410</td>\n",
       "      <td>0.874012</td>\n",
       "      <td>0.902410</td>\n",
       "      <td>...</td>\n",
       "      <td>1.000000</td>\n",
       "      <td>0.830969</td>\n",
       "      <td>0.830969</td>\n",
       "      <td>1.000000</td>\n",
       "      <td>1.000000</td>\n",
       "      <td>0.789441</td>\n",
       "      <td>0.672673</td>\n",
       "      <td>1.0</td>\n",
       "      <td>0.796347</td>\n",
       "      <td>1.000000</td>\n",
       "    </tr>\n",
       "    <tr>\n",
       "      <th>Ultra Street Fighter IV</th>\n",
       "      <td>0.709618</td>\n",
       "      <td>0.819421</td>\n",
       "      <td>0.954498</td>\n",
       "      <td>0.863495</td>\n",
       "      <td>0.000000</td>\n",
       "      <td>0.884246</td>\n",
       "      <td>0.723816</td>\n",
       "      <td>0.875666</td>\n",
       "      <td>0.959871</td>\n",
       "      <td>0.875666</td>\n",
       "      <td>...</td>\n",
       "      <td>0.967826</td>\n",
       "      <td>0.946162</td>\n",
       "      <td>0.919243</td>\n",
       "      <td>0.833055</td>\n",
       "      <td>0.950853</td>\n",
       "      <td>0.932935</td>\n",
       "      <td>0.895743</td>\n",
       "      <td>1.0</td>\n",
       "      <td>0.827024</td>\n",
       "      <td>1.000000</td>\n",
       "    </tr>\n",
       "  </tbody>\n",
       "</table>\n",
       "<p>5 rows × 931 columns</p>\n",
       "</div>"
      ],
      "text/plain": [
       "name                           Kill the Bad Guy  \\\n",
       "name                                              \n",
       "Kill the Bad Guy                       0.000000   \n",
       "Giana Sisters: Twisted Dreams          0.736178   \n",
       "Warriors All-Stars                     1.000000   \n",
       "We Are Doomed                          0.772079   \n",
       "Ultra Street Fighter IV                0.709618   \n",
       "\n",
       "name                           Giana Sisters: Twisted Dreams  \\\n",
       "name                                                           \n",
       "Kill the Bad Guy                                    0.736178   \n",
       "Giana Sisters: Twisted Dreams                       0.000000   \n",
       "Warriors All-Stars                                  1.000000   \n",
       "We Are Doomed                                       0.858263   \n",
       "Ultra Street Fighter IV                             0.819421   \n",
       "\n",
       "name                           Warriors All-Stars  We Are Doomed  \\\n",
       "name                                                               \n",
       "Kill the Bad Guy                         1.000000       0.772079   \n",
       "Giana Sisters: Twisted Dreams            1.000000       0.858263   \n",
       "Warriors All-Stars                       0.000000       1.000000   \n",
       "We Are Doomed                            1.000000       0.000000   \n",
       "Ultra Street Fighter IV                  0.954498       0.863495   \n",
       "\n",
       "name                           Ultra Street Fighter IV  Arcania: Gothic 4  \\\n",
       "name                                                                        \n",
       "Kill the Bad Guy                              0.709618           0.875753   \n",
       "Giana Sisters: Twisted Dreams                 0.819421           0.879810   \n",
       "Warriors All-Stars                            0.954498           1.000000   \n",
       "We Are Doomed                                 0.863495           0.896165   \n",
       "Ultra Street Fighter IV                       0.000000           0.884246   \n",
       "\n",
       "name                           Lichdom: Battlemage  \\\n",
       "name                                                 \n",
       "Kill the Bad Guy                          0.654143   \n",
       "Giana Sisters: Twisted Dreams             0.827938   \n",
       "Warriors All-Stars                        1.000000   \n",
       "We Are Doomed                             0.653156   \n",
       "Ultra Street Fighter IV                   0.723816   \n",
       "\n",
       "name                           The King of Fighters Collection: The Orochi Saga  \\\n",
       "name                                                                              \n",
       "Kill the Bad Guy                                                       0.922150   \n",
       "Giana Sisters: Twisted Dreams                                          0.967725   \n",
       "Warriors All-Stars                                                     0.902410   \n",
       "We Are Doomed                                                          0.902410   \n",
       "Ultra Street Fighter IV                                                0.875666   \n",
       "\n",
       "name                           Alien Shooter  JumpJet Rex      ...       \\\n",
       "name                                                           ...        \n",
       "Kill the Bad Guy                    0.899496     0.844300      ...        \n",
       "Giana Sisters: Twisted Dreams       0.916667     0.838626      ...        \n",
       "Warriors All-Stars                  1.000000     1.000000      ...        \n",
       "We Are Doomed                       0.874012     0.902410      ...        \n",
       "Ultra Street Fighter IV             0.959871     0.875666      ...        \n",
       "\n",
       "name                           LEGO Marvel Super Heroes 2  \\\n",
       "name                                                        \n",
       "Kill the Bad Guy                                 1.000000   \n",
       "Giana Sisters: Twisted Dreams                    0.966592   \n",
       "Warriors All-Stars                               0.898985   \n",
       "We Are Doomed                                    1.000000   \n",
       "Ultra Street Fighter IV                          0.967826   \n",
       "\n",
       "name                           Sword Art Online: Hollow Fragment  Alienation  \\\n",
       "name                                                                           \n",
       "Kill the Bad Guy                                        0.865160    0.932580   \n",
       "Giana Sisters: Twisted Dreams                           0.944098    0.888197   \n",
       "Warriors All-Stars                                      1.000000    1.000000   \n",
       "We Are Doomed                                           0.830969    0.830969   \n",
       "Ultra Street Fighter IV                                 0.946162    0.919243   \n",
       "\n",
       "name                           World Heroes 2 JET  \\\n",
       "name                                                \n",
       "Kill the Bad Guy                         1.000000   \n",
       "Giana Sisters: Twisted Dreams            1.000000   \n",
       "Warriors All-Stars                       1.000000   \n",
       "We Are Doomed                            1.000000   \n",
       "Ultra Street Fighter IV                  0.833055   \n",
       "\n",
       "name                           Mystereet F: Tantei-tachi no Curtain Call  \\\n",
       "name                                                                       \n",
       "Kill the Bad Guy                                                1.000000   \n",
       "Giana Sisters: Twisted Dreams                                   1.000000   \n",
       "Warriors All-Stars                                              1.000000   \n",
       "We Are Doomed                                                   1.000000   \n",
       "Ultra Street Fighter IV                                         0.950853   \n",
       "\n",
       "name                           Hotline Miami 2: Wrong Number  \\\n",
       "name                                                           \n",
       "Kill the Bad Guy                                    0.944011   \n",
       "Giana Sisters: Twisted Dreams                       0.907152   \n",
       "Warriors All-Stars                                  1.000000   \n",
       "We Are Doomed                                       0.789441   \n",
       "Ultra Street Fighter IV                             0.932935   \n",
       "\n",
       "name                           The Magic Circle  Gran Turismo Sport  \\\n",
       "name                                                                  \n",
       "Kill the Bad Guy                       0.912961                 1.0   \n",
       "Giana Sisters: Twisted Dreams          0.963916                 1.0   \n",
       "Warriors All-Stars                     1.000000                 1.0   \n",
       "We Are Doomed                          0.672673                 1.0   \n",
       "Ultra Street Fighter IV                0.895743                 1.0   \n",
       "\n",
       "name                           Mighty No. 9  Sonic Forces  \n",
       "name                                                       \n",
       "Kill the Bad Guy                   0.729235      1.000000  \n",
       "Giana Sisters: Twisted Dreams      0.708141      0.903175  \n",
       "Warriors All-Stars                 1.000000      1.000000  \n",
       "We Are Doomed                      0.796347      1.000000  \n",
       "Ultra Street Fighter IV            0.827024      1.000000  \n",
       "\n",
       "[5 rows x 931 columns]"
      ]
     },
     "execution_count": 46,
     "metadata": {},
     "output_type": "execute_result"
    }
   ],
   "source": [
    "distance_df = pd.DataFrame(distances, index=merged.index, columns=merged.index)\n",
    "distance_df.head()"
   ]
  },
  {
   "cell_type": "markdown",
   "metadata": {},
   "source": [
    "This throws some errors when you request a dropped game"
   ]
  },
  {
   "cell_type": "code",
   "execution_count": 47,
   "metadata": {},
   "outputs": [
    {
     "name": "stdout",
     "output_type": "stream",
     "text": [
      "Far Cry 4\n",
      "\n",
      "Similar Games:\n",
      "name\n",
      "Far Cry 3                               0.474328\n",
      "Assassin's Creed Unity                  0.640078\n",
      "Grand Theft Auto V                      0.645396\n",
      "Assassin's Creed Origins                0.650993\n",
      "Metal Gear Solid V: The Phantom Pain    0.651397\n",
      "Assassin's Creed IV: Black Flag         0.656691\n",
      "Watch Dogs                              0.665481\n",
      "Call of Duty: Ghosts                    0.672383\n",
      "Middle-earth: Shadow of Mordor          0.686693\n",
      "Dying Light                             0.692233\n",
      "Name: Far Cry 4, dtype: float64\n",
      "\n",
      "\n",
      "Far Cry 3\n",
      "\n",
      "Similar Games:\n",
      "name\n",
      "Far Cry 4                               0.474328\n",
      "Assassin's Creed Origins                0.541962\n",
      "Grand Theft Auto V                      0.550388\n",
      "Metal Gear Solid V: The Phantom Pain    0.615854\n",
      "Assassin's Creed IV: Black Flag         0.625602\n",
      "Call of Duty: Ghosts                    0.636869\n",
      "Saints Row IV                           0.638114\n",
      "Call of Duty 4: Modern Warfare          0.640223\n",
      "Fallout 4                               0.661783\n",
      "L.A. Noire                              0.667204\n",
      "Name: Far Cry 3, dtype: float64\n",
      "\n",
      "\n",
      "Far Cry 5\n",
      "\n",
      "Similar Games:\n",
      "name\n",
      "The Crew 2                          0.659793\n",
      "Monopoly Plus                       0.709043\n",
      "Red Faction: Guerrilla              0.709871\n",
      "Wolfenstein II: The New Colossus    0.722222\n",
      "Metro Exodus                        0.727834\n",
      "Far Cry 4                           0.734804\n",
      "NHL 18                              0.741801\n",
      "Real Farm                           0.741801\n",
      "Extinction                          0.741801\n",
      "Assassin's Creed IV: Black Flag     0.744286\n",
      "Name: Far Cry 5, dtype: float64\n",
      "\n",
      "\n"
     ]
    }
   ],
   "source": [
    "search = 'Far Cry'\n",
    "for title in df.loc[df['name'].str.contains(search), 'name'].values:\n",
    "    if title in distance_df.columns:\n",
    "        print(title)\n",
    "        print()\n",
    "        print('Similar Games:')\n",
    "        print(distance_df[title].sort_values()[1:11])\n",
    "        print()\n",
    "        print()\n"
   ]
  },
  {
   "cell_type": "code",
   "execution_count": 48,
   "metadata": {},
   "outputs": [
    {
     "data": {
      "text/plain": [
       "digital distribution    1\n",
       "grapple                 1\n",
       "language selection      1\n",
       "loading screens         1\n",
       "options menu            1\n",
       "playstation trophies    1\n",
       "taunting                1\n",
       "Name: 5 Star Wrestling, dtype: int64"
      ]
     },
     "execution_count": 48,
     "metadata": {},
     "output_type": "execute_result"
    }
   ],
   "source": [
    "merged.loc['5 Star Wrestling',merged.loc['5 Star Wrestling', :]==1]"
   ]
  },
  {
   "cell_type": "code",
   "execution_count": 49,
   "metadata": {},
   "outputs": [
    {
     "data": {
      "text/plain": [
       "achievements            1\n",
       "digital distribution    1\n",
       "free to play            1\n",
       "loading screens         1\n",
       "options menu            1\n",
       "playstation trophies    1\n",
       "tutorial                1\n",
       "Name: Adventure Pop, dtype: int64"
      ]
     },
     "execution_count": 49,
     "metadata": {},
     "output_type": "execute_result"
    }
   ],
   "source": [
    "merged.loc['Adventure Pop',merged.loc['Adventure Pop', :]==1]"
   ]
  },
  {
   "cell_type": "code",
   "execution_count": null,
   "metadata": {},
   "outputs": [],
   "source": []
  }
 ],
 "metadata": {
  "kernelspec": {
   "display_name": "Python 3",
   "language": "python",
   "name": "python3"
  },
  "language_info": {
   "codemirror_mode": {
    "name": "ipython",
    "version": 3
   },
   "file_extension": ".py",
   "mimetype": "text/x-python",
   "name": "python",
   "nbconvert_exporter": "python",
   "pygments_lexer": "ipython3",
   "version": "3.6.2"
  }
 },
 "nbformat": 4,
 "nbformat_minor": 2
}
