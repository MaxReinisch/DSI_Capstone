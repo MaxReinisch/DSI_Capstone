{
 "cells": [
  {
   "cell_type": "code",
   "execution_count": 7,
   "metadata": {},
   "outputs": [],
   "source": [
    "import pandas as pd\n",
    "import numpy as np\n",
    "import matplotlib.pyplot as plt\n",
    "import seaborn as sns\n",
    "import json\n",
    "import csv\n",
    "from collections import Counter"
   ]
  },
  {
   "cell_type": "code",
   "execution_count": 14,
   "metadata": {},
   "outputs": [],
   "source": [
    "users = Counter()\n",
    "for i in range(0,26900, 100):\n",
    "    with open(f'./review_data/reviews_list_{i}.json', 'r') as f:\n",
    "        file = json.load(f)\n",
    "\n",
    "    users.update([review['reviewer'] for review in file])\n"
   ]
  },
  {
   "cell_type": "code",
   "execution_count": 17,
   "metadata": {},
   "outputs": [
    {
     "data": {
      "text/plain": [
       "7042"
      ]
     },
     "execution_count": 17,
     "metadata": {},
     "output_type": "execute_result"
    }
   ],
   "source": [
    "len(users.most_common())"
   ]
  },
  {
   "cell_type": "code",
   "execution_count": 28,
   "metadata": {},
   "outputs": [
    {
     "data": {
      "text/plain": [
       "1512"
      ]
     },
     "execution_count": 28,
     "metadata": {},
     "output_type": "execute_result"
    }
   ],
   "source": [
    "review_thresh = 4\n",
    "review_stars = [user for user in users.most_common() if user[1]>=review_thresh]\n",
    "len(review_stars)"
   ]
  },
  {
   "cell_type": "code",
   "execution_count": 33,
   "metadata": {},
   "outputs": [
    {
     "data": {
      "text/plain": [
       "'  Like any good sequel this game adds layers to a already complex tale of a group of friends that try to defy fate. If you somehow started reading this and haven’t played Steins; Gate then stop. Literally impossible for me to not spoil some of the plot in the original game in the upcoming paragraph. This is 100% the game. So I hope you like to read. This picks up directly after our primary protagonist Rintarou failed to save Kurisu. Even though he went back to change her fate via a time machine yet his drive to save her ends up leading to her death. Unwilling to go through that again he instead decides to stay in the current world line and try to be content with the fact he at least saved Maryuri. Yet his need to forget is challenged by new found friends and a AI named Amadeus [Kurisu]. Leading the world down the path he knows is going to happen yet he is unwilling to do anything about it.With this being a 100% visual novel the gist of its strength lies in the tale it weaves. It does have one main mechanic that relies on if the player decides to answer a phone call or not. Which will either send the narrative down one of two paths that then split off into different directions. The game makes it 100% apparent when something serious is going down so it isn’t hard to figure out the different paths player can take.How you deal with different phone calls is key to seeing all the endings. The best part of this little story is how well it connects all the endings together. Each one adds a new layer to the ongoing plot. Either by giving more characters more time to develop or showing off something the player could only see in the current world line. Each piece of the puzzle is put together till it all comes together. Unlike some visual novels I easily wanted to see what would happen in the next ending. I just couldn’t take my eyes away from the very compelling narrative.Yet unlike the first game I am left with some questions about facts that are brought up but are never quite explained. Leaving some of the twists feeling like they were just done for the shock value. Additionally some of the new characters feel like they were included for very little reason, becoming little more than background characters. Like Mayuri’s friends that barely get to do much other than the fact they are around during certain scenes. At the same time the ones they do flesh out like Maho who must come to grip with being Kurisu’s replacement in this timeline figuratively and literally. Are very well done and compel the story forward in different ways.This game does reuse some old art but all the new stuff looks great. Thus we now end where we began. This is a game worth playing if you enjoyed the first game. While it is a bit more darker than the first it still has all the lighthearted moments to keep it from becoming to grim. Although it can rely a bit to much on anime tropes sometimes. Still this is a tale that once again shows you how much the protagonist and his friends have to go through to get to Steins Gate. Not a easy path yet it is worth experiencing. '"
      ]
     },
     "execution_count": 33,
     "metadata": {},
     "output_type": "execute_result"
    }
   ],
   "source": [
    "file[1]['description']"
   ]
  },
  {
   "cell_type": "code",
   "execution_count": null,
   "metadata": {},
   "outputs": [],
   "source": []
  }
 ],
 "metadata": {
  "kernelspec": {
   "display_name": "Python 3",
   "language": "python",
   "name": "python3"
  },
  "language_info": {
   "codemirror_mode": {
    "name": "ipython",
    "version": 3
   },
   "file_extension": ".py",
   "mimetype": "text/x-python",
   "name": "python",
   "nbconvert_exporter": "python",
   "pygments_lexer": "ipython3",
   "version": "3.6.2"
  }
 },
 "nbformat": 4,
 "nbformat_minor": 2
}
