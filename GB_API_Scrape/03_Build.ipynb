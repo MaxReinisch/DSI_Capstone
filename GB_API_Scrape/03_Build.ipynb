{
 "cells": [
  {
   "cell_type": "markdown",
   "metadata": {},
   "source": [
    "# Building the Recommendation system\n",
    "\n",
    "In this notebook, I am building a table for the consine dist for both content"
   ]
  },
  {
   "cell_type": "code",
   "execution_count": 1,
   "metadata": {},
   "outputs": [],
   "source": [
    "import pandas as pd\n",
    "from sklearn.feature_extraction.text import CountVectorizer\n",
    "from sklearn.decomposition import TruncatedSVD\n",
    "from sklearn.metrics.pairwise import pairwise_distances\n",
    "from sklearn.feature_selection.variance_threshold import VarianceThreshold\n",
    "from scipy import sparse\n",
    "import numpy as np\n",
    "import matplotlib.pyplot as plt\n",
    "import seaborn as sns\n",
    "import json\n",
    "import csv\n",
    "from collections import Counter"
   ]
  },
  {
   "cell_type": "markdown",
   "metadata": {},
   "source": [
    "# Content: \n",
    "\n",
    "Import Game Meta Data"
   ]
  },
  {
   "cell_type": "code",
   "execution_count": 2,
   "metadata": {},
   "outputs": [],
   "source": [
    "from os import listdir\n",
    "from os.path import isfile, join\n",
    "onlyfiles = [f for f in listdir('./game_meta_data/') if isfile(join('./game_meta_data/', f))] #get list of files\n",
    "list_of_meta = [] # fill this list with dictionaries \n",
    "feature_list = ['guid', 'name', 'concepts', 'themes', 'deck', 'developers', 'publishers', 'genres'] #list of features I care about\n",
    "for file in onlyfiles:\n",
    "    #looping through files, open them, put their contents into a dict, and add it to the list\n",
    "    with open(f'./game_meta_data/{file}', 'r') as f:\n",
    "        game = json.load(f)\n",
    "        game_dict = {key:value for key, value in game.items() if key in feature_list}\n",
    "\n",
    "        # convert lists to strings \n",
    "        for key, value in game_dict.items():\n",
    "            if type(value) == list:\n",
    "                game_dict[key] = ', '.join(value)\n",
    "        list_of_meta.append(game_dict)\n",
    "# make pandas dataframe\n",
    "df = pd.DataFrame(list_of_meta)\n",
    "df.fillna(\"\", inplace=True)"
   ]
  },
  {
   "cell_type": "markdown",
   "metadata": {},
   "source": [
    "## Here we have the raw data frame.  We need to:\n",
    "* Dummy the columns \n",
    "* Drop features that are too sparse\n",
    "* Drop games that have too few features"
   ]
  },
  {
   "cell_type": "code",
   "execution_count": 3,
   "metadata": {},
   "outputs": [
    {
     "data": {
      "text/html": [
       "<div>\n",
       "<table border=\"1\" class=\"dataframe\">\n",
       "  <thead>\n",
       "    <tr style=\"text-align: right;\">\n",
       "      <th></th>\n",
       "      <th>concepts</th>\n",
       "      <th>deck</th>\n",
       "      <th>developers</th>\n",
       "      <th>genres</th>\n",
       "      <th>guid</th>\n",
       "      <th>name</th>\n",
       "      <th>publishers</th>\n",
       "      <th>themes</th>\n",
       "    </tr>\n",
       "  </thead>\n",
       "  <tbody>\n",
       "    <tr>\n",
       "      <th>0</th>\n",
       "      <td>Achievements, PlayStation Trophies, Steam, Dig...</td>\n",
       "      <td>Kill The Bad Guy is a puzzle-game where physic...</td>\n",
       "      <td>Exkee</td>\n",
       "      <td>Strategy, Simulation</td>\n",
       "      <td>3030-46539</td>\n",
       "      <td>Kill the Bad Guy</td>\n",
       "      <td></td>\n",
       "      <td></td>\n",
       "    </tr>\n",
       "    <tr>\n",
       "      <th>1</th>\n",
       "      <td></td>\n",
       "      <td>Zeal is an indie online ARPG developed by Lyca...</td>\n",
       "      <td>Lycanic Studios</td>\n",
       "      <td>Action, Role-Playing, MOBA</td>\n",
       "      <td>3030-68714</td>\n",
       "      <td>Zeal</td>\n",
       "      <td></td>\n",
       "      <td>Fantasy, Medieval</td>\n",
       "    </tr>\n",
       "    <tr>\n",
       "      <th>2</th>\n",
       "      <td></td>\n",
       "      <td>Vertical Drop Heroes HD is an action platformer.</td>\n",
       "      <td>Nerdook Productions</td>\n",
       "      <td>Action, Role-Playing, Platformer</td>\n",
       "      <td>3030-48249</td>\n",
       "      <td>Vertical Drop Heroes HD</td>\n",
       "      <td></td>\n",
       "      <td>Fantasy</td>\n",
       "    </tr>\n",
       "    <tr>\n",
       "      <th>3</th>\n",
       "      <td>Unreal Engine 4, PlayStation VR Support</td>\n",
       "      <td>A puzzle mystery game for PS VR.</td>\n",
       "      <td>Tarsier Studios</td>\n",
       "      <td>Puzzle</td>\n",
       "      <td>3030-57976</td>\n",
       "      <td>Statik</td>\n",
       "      <td></td>\n",
       "      <td></td>\n",
       "    </tr>\n",
       "    <tr>\n",
       "      <th>4</th>\n",
       "      <td></td>\n",
       "      <td>A compilation of all three Banner Saga titles.</td>\n",
       "      <td>Stoic</td>\n",
       "      <td>Strategy, Role-Playing, Compilation</td>\n",
       "      <td>3030-68731</td>\n",
       "      <td>The Banner Saga Trilogy</td>\n",
       "      <td></td>\n",
       "      <td>Fantasy</td>\n",
       "    </tr>\n",
       "  </tbody>\n",
       "</table>\n",
       "</div>"
      ],
      "text/plain": [
       "                                            concepts  \\\n",
       "0  Achievements, PlayStation Trophies, Steam, Dig...   \n",
       "1                                                      \n",
       "2                                                      \n",
       "3            Unreal Engine 4, PlayStation VR Support   \n",
       "4                                                      \n",
       "\n",
       "                                                deck           developers  \\\n",
       "0  Kill The Bad Guy is a puzzle-game where physic...                Exkee   \n",
       "1  Zeal is an indie online ARPG developed by Lyca...      Lycanic Studios   \n",
       "2   Vertical Drop Heroes HD is an action platformer.  Nerdook Productions   \n",
       "3                   A puzzle mystery game for PS VR.      Tarsier Studios   \n",
       "4     A compilation of all three Banner Saga titles.                Stoic   \n",
       "\n",
       "                                genres        guid                     name  \\\n",
       "0                 Strategy, Simulation  3030-46539         Kill the Bad Guy   \n",
       "1           Action, Role-Playing, MOBA  3030-68714                     Zeal   \n",
       "2     Action, Role-Playing, Platformer  3030-48249  Vertical Drop Heroes HD   \n",
       "3                               Puzzle  3030-57976                   Statik   \n",
       "4  Strategy, Role-Playing, Compilation  3030-68731  The Banner Saga Trilogy   \n",
       "\n",
       "  publishers             themes  \n",
       "0                                \n",
       "1             Fantasy, Medieval  \n",
       "2                       Fantasy  \n",
       "3                                \n",
       "4                       Fantasy  "
      ]
     },
     "execution_count": 3,
     "metadata": {},
     "output_type": "execute_result"
    }
   ],
   "source": [
    "df.head()"
   ]
  },
  {
   "cell_type": "code",
   "execution_count": 4,
   "metadata": {},
   "outputs": [],
   "source": [
    "def split_features_from_col(df, col):\n",
    "    '''\n",
    "    Returns a dataframe of 1 hot encoded features from the selected col \n",
    "    '''\n",
    "    df[col] = ['' if entry == None else entry for entry in df[col] ]\n",
    "    cvec = CountVectorizer(stop_words='english', tokenizer=lambda x: x.split(', '))\n",
    "    bow = cvec.fit_transform(df[col])\n",
    "    ret_df  = pd.DataFrame(bow.todense(),\n",
    "                       columns=map(lambda x: col + \"_\" + x, cvec.get_feature_names()))\n",
    "    ret_df.drop(col+'_', 1, inplace=True)\n",
    "    return ret_df\n",
    "\n",
    "def split_features(df, list_of_cols):\n",
    "    '''\n",
    "    Returns a dataframe of 1 hot encoded features from a list of cols\n",
    "    '''\n",
    "    ret_df = df.loc[:, ['name', 'guid']]\n",
    "    for col in list_of_cols:\n",
    "        ret_df = pd.merge(ret_df, split_features_from_col(df, col), left_index=True, right_index=True)\n",
    "        \n",
    "    return ret_df"
   ]
  },
  {
   "cell_type": "code",
   "execution_count": 5,
   "metadata": {},
   "outputs": [],
   "source": [
    "# We have 4 features that we want to split\n",
    "dummied_df = split_features(df, ['concepts', 'genres', 'themes', 'developers'])"
   ]
  },
  {
   "cell_type": "code",
   "execution_count": 6,
   "metadata": {},
   "outputs": [
    {
     "data": {
      "text/plain": [
       "(1746, 5072)"
      ]
     },
     "execution_count": 6,
     "metadata": {},
     "output_type": "execute_result"
    }
   ],
   "source": [
    "dummied_df.shape"
   ]
  },
  {
   "cell_type": "markdown",
   "metadata": {},
   "source": [
    "##  Manual Feature Reduction"
   ]
  },
  {
   "cell_type": "code",
   "execution_count": 7,
   "metadata": {},
   "outputs": [
    {
     "data": {
      "text/plain": [
       "concepts_digital distribution    0.236484\n",
       "concepts_steam                   0.193403\n",
       "themes_fantasy                   0.171660\n",
       "genres_action                    0.169722\n",
       "themes_sci-fi                    0.154435\n",
       "concepts_indie                   0.128014\n",
       "concepts_steam achievements      0.127613\n",
       "genres_adventure                 0.114020\n",
       "genres_role-playing              0.111472\n",
       "concepts_achievements            0.108037\n",
       "genres_platformer                0.104998\n",
       "genres_action-adventure          0.104123\n",
       "concepts_playstation trophies    0.102367\n",
       "concepts_steam trading cards     0.100156\n",
       "concepts_gog.com                 0.097034\n",
       "concepts_2d                      0.093879\n",
       "concepts_voice acting            0.090693\n",
       "themes_comedy                    0.088397\n",
       "concepts_male protagonists       0.084689\n",
       "genres_puzzle                    0.081881\n",
       "dtype: float64"
      ]
     },
     "execution_count": 7,
     "metadata": {},
     "output_type": "execute_result"
    }
   ],
   "source": [
    "dummied_df.var().sort_values(ascending=False)[0:20]"
   ]
  },
  {
   "cell_type": "markdown",
   "metadata": {},
   "source": [
    "I don't want features like concepts_digital distribution or concepts_steam.\\* or concepts_pax.\\* or concepts_e3.\\*"
   ]
  },
  {
   "cell_type": "code",
   "execution_count": 8,
   "metadata": {},
   "outputs": [
    {
     "name": "stdout",
     "output_type": "stream",
     "text": [
      "Dropping 54 columns\n"
     ]
    }
   ],
   "source": [
    "drop_cols = [\"concepts_digital distribution\"]\n",
    "for col in dummied_df.columns:\n",
    "    if (\"concepts_steam\" in col) or (\"concepts_pax\" in col) or (\"concepts_e3\" in col):\n",
    "        drop_cols.append(col)\n",
    "drop_cols[0:10]\n",
    "print(f\"Dropping {len(drop_cols)} columns\")"
   ]
  },
  {
   "cell_type": "code",
   "execution_count": 9,
   "metadata": {},
   "outputs": [],
   "source": [
    "dummied_df.drop(drop_cols, 1, inplace=True)"
   ]
  },
  {
   "cell_type": "markdown",
   "metadata": {},
   "source": [
    "### Dropping games with too few (5 or less) features"
   ]
  },
  {
   "cell_type": "code",
   "execution_count": 10,
   "metadata": {
    "scrolled": true
   },
   "outputs": [
    {
     "data": {
      "text/plain": [
       "1097"
      ]
     },
     "execution_count": 10,
     "metadata": {},
     "output_type": "execute_result"
    }
   ],
   "source": [
    "thresh = 6\n",
    "(dummied_df.iloc[:,2:].T.sum()>=thresh).sum()"
   ]
  },
  {
   "cell_type": "code",
   "execution_count": 11,
   "metadata": {
    "scrolled": true
   },
   "outputs": [],
   "source": [
    "dummied_df.drop(dummied_df[dummied_df.iloc[:,2:].T.sum()<thresh].index, 0, inplace=True)"
   ]
  },
  {
   "cell_type": "code",
   "execution_count": 12,
   "metadata": {},
   "outputs": [],
   "source": [
    "dummied_df.set_index(\"name\", inplace=True)"
   ]
  },
  {
   "cell_type": "code",
   "execution_count": 13,
   "metadata": {},
   "outputs": [],
   "source": [
    "dummied_df.drop(\"guid\", 1, inplace=True)"
   ]
  },
  {
   "cell_type": "code",
   "execution_count": 14,
   "metadata": {},
   "outputs": [
    {
     "data": {
      "text/plain": [
       "(1097, 5016)"
      ]
     },
     "execution_count": 14,
     "metadata": {},
     "output_type": "execute_result"
    }
   ],
   "source": [
    "dummied_df.shape"
   ]
  },
  {
   "cell_type": "markdown",
   "metadata": {},
   "source": [
    "## Using Sklearn's Variance Threshold to drop features with variance of .005 and less"
   ]
  },
  {
   "cell_type": "code",
   "execution_count": 15,
   "metadata": {},
   "outputs": [],
   "source": [
    "vt = VarianceThreshold(.005)\n",
    "thresh_df = vt.fit_transform(dummied_df)"
   ]
  },
  {
   "cell_type": "code",
   "execution_count": 16,
   "metadata": {},
   "outputs": [
    {
     "data": {
      "text/plain": [
       "(1097, 1214)"
      ]
     },
     "execution_count": 16,
     "metadata": {},
     "output_type": "execute_result"
    }
   ],
   "source": [
    "thresh_df.shape"
   ]
  },
  {
   "cell_type": "markdown",
   "metadata": {},
   "source": [
    "## Using TruncatedSVD to condense 1214 features into 150 components.  \n",
    "150 components explains 74% of the variance"
   ]
  },
  {
   "cell_type": "code",
   "execution_count": 17,
   "metadata": {},
   "outputs": [],
   "source": [
    "svd = TruncatedSVD(n_components=150)\n",
    "content = svd.fit_transform(thresh_df)"
   ]
  },
  {
   "cell_type": "code",
   "execution_count": 18,
   "metadata": {},
   "outputs": [
    {
     "data": {
      "text/plain": [
       "<Container object of 150 artists>"
      ]
     },
     "execution_count": 18,
     "metadata": {},
     "output_type": "execute_result"
    },
    {
     "data": {
      "image/png": "[encoded data removed]",
      "text/plain": [
       "<matplotlib.figure.Figure at 0x7f0215d0a4a8>"
      ]
     },
     "metadata": {},
     "output_type": "display_data"
    }
   ],
   "source": [
    "plt.bar(range(150),svd.explained_variance_)"
   ]
  },
  {
   "cell_type": "code",
   "execution_count": 19,
   "metadata": {},
   "outputs": [
    {
     "data": {
      "text/plain": [
       "[<matplotlib.lines.Line2D at 0x7f0210ea45f8>]"
      ]
     },
     "execution_count": 19,
     "metadata": {},
     "output_type": "execute_result"
    },
    {
     "data": {
      "image/png": "[encoded data removed]",
      "text/plain": [
       "<matplotlib.figure.Figure at 0x7f02111cc3c8>"
      ]
     },
     "metadata": {},
     "output_type": "display_data"
    }
   ],
   "source": [
    "plt.plot(range(150), np.cumsum(svd.explained_variance_ratio_))"
   ]
  },
  {
   "cell_type": "markdown",
   "metadata": {},
   "source": [
    "# Now to make the simularity matrix\n",
    "* uses cosine distance\n",
    "* simularity matrix stored in pandas dataframe called `distance_df`\n"
   ]
  },
  {
   "cell_type": "code",
   "execution_count": 20,
   "metadata": {},
   "outputs": [],
   "source": [
    "sparse_content = sparse.csr_matrix(content)"
   ]
  },
  {
   "cell_type": "code",
   "execution_count": 21,
   "metadata": {},
   "outputs": [
    {
     "data": {
      "text/html": [
       "<div>\n",
       "<table border=\"1\" class=\"dataframe\">\n",
       "  <thead>\n",
       "    <tr style=\"text-align: right;\">\n",
       "      <th>name</th>\n",
       "      <th>Kill the Bad Guy</th>\n",
       "      <th>Zeal</th>\n",
       "      <th>Giana Sisters: Twisted Dreams</th>\n",
       "      <th>Warriors All-Stars</th>\n",
       "      <th>Ultra Street Fighter IV</th>\n",
       "      <th>Arcania: Gothic 4</th>\n",
       "      <th>Lichdom: Battlemage</th>\n",
       "      <th>The King of Fighters Collection: The Orochi Saga</th>\n",
       "      <th>Alien Shooter</th>\n",
       "      <th>JumpJet Rex</th>\n",
       "      <th>...</th>\n",
       "      <th>Alienation</th>\n",
       "      <th>World Heroes 2 JET</th>\n",
       "      <th>Way of Redemption</th>\n",
       "      <th>Mystereet F: Tantei-tachi no Curtain Call</th>\n",
       "      <th>Hotline Miami 2: Wrong Number</th>\n",
       "      <th>The Magic Circle</th>\n",
       "      <th>Gran Turismo Sport</th>\n",
       "      <th>Guts and Glory</th>\n",
       "      <th>Mighty No. 9</th>\n",
       "      <th>Sonic Forces</th>\n",
       "    </tr>\n",
       "    <tr>\n",
       "      <th>name</th>\n",
       "      <th></th>\n",
       "      <th></th>\n",
       "      <th></th>\n",
       "      <th></th>\n",
       "      <th></th>\n",
       "      <th></th>\n",
       "      <th></th>\n",
       "      <th></th>\n",
       "      <th></th>\n",
       "      <th></th>\n",
       "      <th></th>\n",
       "      <th></th>\n",
       "      <th></th>\n",
       "      <th></th>\n",
       "      <th></th>\n",
       "      <th></th>\n",
       "      <th></th>\n",
       "      <th></th>\n",
       "      <th></th>\n",
       "      <th></th>\n",
       "      <th></th>\n",
       "    </tr>\n",
       "  </thead>\n",
       "  <tbody>\n",
       "    <tr>\n",
       "      <th>Kill the Bad Guy</th>\n",
       "      <td>0.000000</td>\n",
       "      <td>0.984854</td>\n",
       "      <td>0.820719</td>\n",
       "      <td>1.024092</td>\n",
       "      <td>0.868586</td>\n",
       "      <td>0.913612</td>\n",
       "      <td>0.987859</td>\n",
       "      <td>1.000790</td>\n",
       "      <td>0.979661</td>\n",
       "      <td>1.013405</td>\n",
       "      <td>...</td>\n",
       "      <td>0.992022</td>\n",
       "      <td>0.990302</td>\n",
       "      <td>0.985415</td>\n",
       "      <td>0.986773</td>\n",
       "      <td>0.977569</td>\n",
       "      <td>0.992358</td>\n",
       "      <td>1.032096</td>\n",
       "      <td>1.040443</td>\n",
       "      <td>0.917575</td>\n",
       "      <td>0.973354</td>\n",
       "    </tr>\n",
       "    <tr>\n",
       "      <th>Zeal</th>\n",
       "      <td>0.984854</td>\n",
       "      <td>0.000000</td>\n",
       "      <td>0.931720</td>\n",
       "      <td>0.491866</td>\n",
       "      <td>1.010024</td>\n",
       "      <td>0.768714</td>\n",
       "      <td>0.504344</td>\n",
       "      <td>1.010329</td>\n",
       "      <td>0.803300</td>\n",
       "      <td>1.016844</td>\n",
       "      <td>...</td>\n",
       "      <td>0.976963</td>\n",
       "      <td>1.001705</td>\n",
       "      <td>0.422917</td>\n",
       "      <td>0.991411</td>\n",
       "      <td>0.866036</td>\n",
       "      <td>0.795410</td>\n",
       "      <td>1.004279</td>\n",
       "      <td>0.982257</td>\n",
       "      <td>0.891096</td>\n",
       "      <td>0.816847</td>\n",
       "    </tr>\n",
       "    <tr>\n",
       "      <th>Giana Sisters: Twisted Dreams</th>\n",
       "      <td>0.820719</td>\n",
       "      <td>0.931720</td>\n",
       "      <td>0.000000</td>\n",
       "      <td>0.944992</td>\n",
       "      <td>0.829711</td>\n",
       "      <td>0.859967</td>\n",
       "      <td>0.921122</td>\n",
       "      <td>1.003701</td>\n",
       "      <td>0.953222</td>\n",
       "      <td>0.821423</td>\n",
       "      <td>...</td>\n",
       "      <td>0.886188</td>\n",
       "      <td>1.006228</td>\n",
       "      <td>0.909956</td>\n",
       "      <td>1.003195</td>\n",
       "      <td>0.882134</td>\n",
       "      <td>0.927619</td>\n",
       "      <td>1.037160</td>\n",
       "      <td>0.934407</td>\n",
       "      <td>0.710477</td>\n",
       "      <td>0.752584</td>\n",
       "    </tr>\n",
       "    <tr>\n",
       "      <th>Warriors All-Stars</th>\n",
       "      <td>1.024092</td>\n",
       "      <td>0.491866</td>\n",
       "      <td>0.944992</td>\n",
       "      <td>0.000000</td>\n",
       "      <td>0.921681</td>\n",
       "      <td>0.941183</td>\n",
       "      <td>0.736190</td>\n",
       "      <td>0.858389</td>\n",
       "      <td>0.888432</td>\n",
       "      <td>1.024581</td>\n",
       "      <td>...</td>\n",
       "      <td>1.037060</td>\n",
       "      <td>0.983754</td>\n",
       "      <td>0.464854</td>\n",
       "      <td>0.987844</td>\n",
       "      <td>0.851744</td>\n",
       "      <td>0.813249</td>\n",
       "      <td>1.011818</td>\n",
       "      <td>1.044860</td>\n",
       "      <td>0.937790</td>\n",
       "      <td>0.768492</td>\n",
       "    </tr>\n",
       "    <tr>\n",
       "      <th>Ultra Street Fighter IV</th>\n",
       "      <td>0.868586</td>\n",
       "      <td>1.010024</td>\n",
       "      <td>0.829711</td>\n",
       "      <td>0.921681</td>\n",
       "      <td>0.000000</td>\n",
       "      <td>0.913375</td>\n",
       "      <td>0.872066</td>\n",
       "      <td>0.787157</td>\n",
       "      <td>0.988340</td>\n",
       "      <td>0.886741</td>\n",
       "      <td>...</td>\n",
       "      <td>0.928659</td>\n",
       "      <td>0.757578</td>\n",
       "      <td>1.014756</td>\n",
       "      <td>0.937888</td>\n",
       "      <td>1.038304</td>\n",
       "      <td>0.958674</td>\n",
       "      <td>0.991172</td>\n",
       "      <td>0.985641</td>\n",
       "      <td>0.910743</td>\n",
       "      <td>0.995620</td>\n",
       "    </tr>\n",
       "  </tbody>\n",
       "</table>\n",
       "<p>5 rows × 1097 columns</p>\n",
       "</div>"
      ],
      "text/plain": [
       "name                           Kill the Bad Guy      Zeal  \\\n",
       "name                                                        \n",
       "Kill the Bad Guy                       0.000000  0.984854   \n",
       "Zeal                                   0.984854  0.000000   \n",
       "Giana Sisters: Twisted Dreams          0.820719  0.931720   \n",
       "Warriors All-Stars                     1.024092  0.491866   \n",
       "Ultra Street Fighter IV                0.868586  1.010024   \n",
       "\n",
       "name                           Giana Sisters: Twisted Dreams  \\\n",
       "name                                                           \n",
       "Kill the Bad Guy                                    0.820719   \n",
       "Zeal                                                0.931720   \n",
       "Giana Sisters: Twisted Dreams                       0.000000   \n",
       "Warriors All-Stars                                  0.944992   \n",
       "Ultra Street Fighter IV                             0.829711   \n",
       "\n",
       "name                           Warriors All-Stars  Ultra Street Fighter IV  \\\n",
       "name                                                                         \n",
       "Kill the Bad Guy                         1.024092                 0.868586   \n",
       "Zeal                                     0.491866                 1.010024   \n",
       "Giana Sisters: Twisted Dreams            0.944992                 0.829711   \n",
       "Warriors All-Stars                       0.000000                 0.921681   \n",
       "Ultra Street Fighter IV                  0.921681                 0.000000   \n",
       "\n",
       "name                           Arcania: Gothic 4  Lichdom: Battlemage  \\\n",
       "name                                                                    \n",
       "Kill the Bad Guy                        0.913612             0.987859   \n",
       "Zeal                                    0.768714             0.504344   \n",
       "Giana Sisters: Twisted Dreams           0.859967             0.921122   \n",
       "Warriors All-Stars                      0.941183             0.736190   \n",
       "Ultra Street Fighter IV                 0.913375             0.872066   \n",
       "\n",
       "name                           The King of Fighters Collection: The Orochi Saga  \\\n",
       "name                                                                              \n",
       "Kill the Bad Guy                                                       1.000790   \n",
       "Zeal                                                                   1.010329   \n",
       "Giana Sisters: Twisted Dreams                                          1.003701   \n",
       "Warriors All-Stars                                                     0.858389   \n",
       "Ultra Street Fighter IV                                                0.787157   \n",
       "\n",
       "name                           Alien Shooter  JumpJet Rex      ...       \\\n",
       "name                                                           ...        \n",
       "Kill the Bad Guy                    0.979661     1.013405      ...        \n",
       "Zeal                                0.803300     1.016844      ...        \n",
       "Giana Sisters: Twisted Dreams       0.953222     0.821423      ...        \n",
       "Warriors All-Stars                  0.888432     1.024581      ...        \n",
       "Ultra Street Fighter IV             0.988340     0.886741      ...        \n",
       "\n",
       "name                           Alienation  World Heroes 2 JET  \\\n",
       "name                                                            \n",
       "Kill the Bad Guy                 0.992022            0.990302   \n",
       "Zeal                             0.976963            1.001705   \n",
       "Giana Sisters: Twisted Dreams    0.886188            1.006228   \n",
       "Warriors All-Stars               1.037060            0.983754   \n",
       "Ultra Street Fighter IV          0.928659            0.757578   \n",
       "\n",
       "name                           Way of Redemption  \\\n",
       "name                                               \n",
       "Kill the Bad Guy                        0.985415   \n",
       "Zeal                                    0.422917   \n",
       "Giana Sisters: Twisted Dreams           0.909956   \n",
       "Warriors All-Stars                      0.464854   \n",
       "Ultra Street Fighter IV                 1.014756   \n",
       "\n",
       "name                           Mystereet F: Tantei-tachi no Curtain Call  \\\n",
       "name                                                                       \n",
       "Kill the Bad Guy                                                0.986773   \n",
       "Zeal                                                            0.991411   \n",
       "Giana Sisters: Twisted Dreams                                   1.003195   \n",
       "Warriors All-Stars                                              0.987844   \n",
       "Ultra Street Fighter IV                                         0.937888   \n",
       "\n",
       "name                           Hotline Miami 2: Wrong Number  \\\n",
       "name                                                           \n",
       "Kill the Bad Guy                                    0.977569   \n",
       "Zeal                                                0.866036   \n",
       "Giana Sisters: Twisted Dreams                       0.882134   \n",
       "Warriors All-Stars                                  0.851744   \n",
       "Ultra Street Fighter IV                             1.038304   \n",
       "\n",
       "name                           The Magic Circle  Gran Turismo Sport  \\\n",
       "name                                                                  \n",
       "Kill the Bad Guy                       0.992358            1.032096   \n",
       "Zeal                                   0.795410            1.004279   \n",
       "Giana Sisters: Twisted Dreams          0.927619            1.037160   \n",
       "Warriors All-Stars                     0.813249            1.011818   \n",
       "Ultra Street Fighter IV                0.958674            0.991172   \n",
       "\n",
       "name                           Guts and Glory  Mighty No. 9  Sonic Forces  \n",
       "name                                                                       \n",
       "Kill the Bad Guy                     1.040443      0.917575      0.973354  \n",
       "Zeal                                 0.982257      0.891096      0.816847  \n",
       "Giana Sisters: Twisted Dreams        0.934407      0.710477      0.752584  \n",
       "Warriors All-Stars                   1.044860      0.937790      0.768492  \n",
       "Ultra Street Fighter IV              0.985641      0.910743      0.995620  \n",
       "\n",
       "[5 rows x 1097 columns]"
      ]
     },
     "execution_count": 21,
     "metadata": {},
     "output_type": "execute_result"
    }
   ],
   "source": [
    "distances = pairwise_distances(content, metric='cosine') \n",
    "distance_df = pd.DataFrame(distances, index=dummied_df.index, columns=dummied_df.index)\n",
    "distance_df.head()"
   ]
  },
  {
   "cell_type": "code",
   "execution_count": 22,
   "metadata": {},
   "outputs": [],
   "source": [
    "# Functions that interact with the content filter\n",
    "\n",
    "def search_game(search):\n",
    "    for title in [game for game in distance_df.columns if search.lower() in game.lower() ]:\n",
    "#     for title in df.loc[df['name'].str.lower().str.contains(str.lower(search)), 'name'].values:\n",
    "        if title in distance_df.columns:\n",
    "            print(title)\n",
    "            print()\n",
    "            print('Similar Games:')\n",
    "            for i in range(10):\n",
    "                print(distance_df[title].sort_values(ascending=True).index[i+1])\n",
    "            print()\n",
    "            print()\n",
    "\n",
    "\n",
    "def getSimilarFeatures(game1, game2):\n",
    "    '''\n",
    "    Prints the simularity score and common features between @param game1 and @param game2\n",
    "    '''\n",
    "    vec1 = dummied_df.loc[game1, :]\n",
    "    vec2 = dummied_df.loc[game2, :] \n",
    "    \n",
    "    common = vec1 & vec2\n",
    "    common = common[common==1]\n",
    "\n",
    "    print(\"Simularity Score:\")\n",
    "    print()\n",
    "    print(distance_df.loc[game1, game2])\n",
    "    print()\n",
    "    \n",
    "    print(\"Number of features:\")\n",
    "    print((vec1.sum(), vec2.sum()))\n",
    "    print()\n",
    "    \n",
    "    print(\"Common features:\")\n",
    "    print()\n",
    "    print(common)\n",
    "    \n"
   ]
  },
  {
   "cell_type": "code",
   "execution_count": 23,
   "metadata": {},
   "outputs": [
    {
     "name": "stdout",
     "output_type": "stream",
     "text": [
      "Life Is Strange\n",
      "\n",
      "Similar Games:\n",
      "Life Is Strange: Before the Storm\n",
      "Bear With Me\n",
      "Yu-No: Kono Yo no Hate de Koi o Utau Shoujo\n",
      "The Legend of Korra\n",
      "The Little Acre\n",
      "Toren\n",
      "Chaos;Child\n",
      "Natsuiro High School: Seishun Hakusho\n",
      "Murdered: Soul Suspect\n",
      "Guardians of the Galaxy: The Telltale Series\n",
      "\n",
      "\n",
      "Life Is Strange: Before the Storm\n",
      "\n",
      "Similar Games:\n",
      "Life Is Strange\n",
      "The Walking Dead: Season Two\n",
      "Observer\n",
      "Indigo Prophecy\n",
      "Beyond Eyes\n",
      "The Wolf Among Us\n",
      "N.E.R.O.: Nothing Ever Remains Obscure\n",
      "Tsuki ni Yorisou Otome no Sahou\n",
      "Toren\n",
      "Raiders of the Broken Planet\n",
      "\n",
      "\n"
     ]
    }
   ],
   "source": [
    "search_game(\"Life is strange\")"
   ]
  },
  {
   "cell_type": "code",
   "execution_count": 24,
   "metadata": {
    "scrolled": true
   },
   "outputs": [
    {
     "name": "stdout",
     "output_type": "stream",
     "text": [
      "Simularity Score:\n",
      "\n",
      "0.43089078267\n",
      "\n",
      "Number of features:\n",
      "(43, 88)\n",
      "\n",
      "Common features:\n",
      "\n",
      "concepts_charge                      1\n",
      "concepts_command grab                1\n",
      "concepts_elasticity                  1\n",
      "concepts_hadouken                    1\n",
      "concepts_karate                      1\n",
      "concepts_kung fu                     1\n",
      "concepts_mercenary                   1\n",
      "concepts_negative edge               1\n",
      "concepts_parrying                    1\n",
      "concepts_playstation network         1\n",
      "concepts_playstation trophies        1\n",
      "concepts_revealing attire            1\n",
      "concepts_sexualized women            1\n",
      "concepts_shoryuken                   1\n",
      "concepts_shun goku satsu             1\n",
      "concepts_smashing into the screen    1\n",
      "concepts_taito type x                1\n",
      "concepts_taunting                    1\n",
      "genres_fighting                      1\n",
      "themes_martial arts                  1\n",
      "developers_capcom                    1\n",
      "developers_dimps corporation         1\n",
      "dtype: int64\n"
     ]
    }
   ],
   "source": [
    "getSimilarFeatures(\"Street Fighter V\", \"Ultra Street Fighter IV\")"
   ]
  },
  {
   "cell_type": "code",
   "execution_count": 25,
   "metadata": {},
   "outputs": [
    {
     "name": "stdout",
     "output_type": "stream",
     "text": [
      "Simularity Score:\n",
      "\n",
      "0.881188773644\n",
      "\n",
      "Number of features:\n",
      "(43, 7)\n",
      "\n",
      "Common features:\n",
      "\n",
      "concepts_playstation trophies    1\n",
      "dtype: int64\n"
     ]
    }
   ],
   "source": [
    "getSimilarFeatures( \"Street Fighter V\", \"Kill the Bad Guy\")"
   ]
  },
  {
   "cell_type": "code",
   "execution_count": 26,
   "metadata": {},
   "outputs": [],
   "source": [
    "# distance_df.to_csv(\"../sim_matrix.csv\")"
   ]
  },
  {
   "cell_type": "markdown",
   "metadata": {},
   "source": [
    "## Now to make multiple game search"
   ]
  },
  {
   "cell_type": "code",
   "execution_count": null,
   "metadata": {},
   "outputs": [],
   "source": []
  }
 ],
 "metadata": {
  "kernelspec": {
   "display_name": "Python 3",
   "language": "python",
   "name": "python3"
  },
  "language_info": {
   "codemirror_mode": {
    "name": "ipython",
    "version": 3
   },
   "file_extension": ".py",
   "mimetype": "text/x-python",
   "name": "python",
   "nbconvert_exporter": "python",
   "pygments_lexer": "ipython3",
   "version": "3.6.2"
  }
 },
 "nbformat": 4,
 "nbformat_minor": 2
}
